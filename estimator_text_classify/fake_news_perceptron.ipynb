{
 "cells": [
  {
   "cell_type": "code",
   "execution_count": 49,
   "metadata": {},
   "outputs": [],
   "source": [
    "from os import path, makedirs, rename, remove\n",
    "from time import time\n",
    "import argparse\n",
    "import pickle\n",
    "\n",
    "import numpy as np\n",
    "import pandas as pd\n",
    "import tensorflow_hub as hub\n",
    "import tensorflow as tf\n",
    "from sklearn.utils import shuffle\n",
    "from sklearn.preprocessing import LabelBinarizer"
   ]
  },
  {
   "cell_type": "code",
   "execution_count": 50,
   "metadata": {
    "collapsed": true
   },
   "outputs": [],
   "source": [
    "train_data = pd.read_csv('./data_fake_news/train.csv')\n",
    "test_data = pd.read_csv('./data_fake_news/test.csv')"
   ]
  },
  {
   "cell_type": "code",
   "execution_count": 51,
   "metadata": {},
   "outputs": [
    {
     "data": {
      "text/html": [
       "<div>\n",
       "<style>\n",
       "    .dataframe thead tr:only-child th {\n",
       "        text-align: right;\n",
       "    }\n",
       "\n",
       "    .dataframe thead th {\n",
       "        text-align: left;\n",
       "    }\n",
       "\n",
       "    .dataframe tbody tr th {\n",
       "        vertical-align: top;\n",
       "    }\n",
       "</style>\n",
       "<table border=\"1\" class=\"dataframe\">\n",
       "  <thead>\n",
       "    <tr style=\"text-align: right;\">\n",
       "      <th></th>\n",
       "      <th>id</th>\n",
       "      <th>title</th>\n",
       "      <th>author</th>\n",
       "      <th>text</th>\n",
       "    </tr>\n",
       "  </thead>\n",
       "  <tbody>\n",
       "    <tr>\n",
       "      <th>0</th>\n",
       "      <td>20800</td>\n",
       "      <td>Specter of Trump Loosens Tongues, if Not Purse...</td>\n",
       "      <td>David Streitfeld</td>\n",
       "      <td>PALO ALTO, Calif.  —   After years of scorning...</td>\n",
       "    </tr>\n",
       "    <tr>\n",
       "      <th>1</th>\n",
       "      <td>20801</td>\n",
       "      <td>Russian warships ready to strike terrorists ne...</td>\n",
       "      <td>NaN</td>\n",
       "      <td>Russian warships ready to strike terrorists ne...</td>\n",
       "    </tr>\n",
       "    <tr>\n",
       "      <th>2</th>\n",
       "      <td>20802</td>\n",
       "      <td>#NoDAPL: Native American Leaders Vow to Stay A...</td>\n",
       "      <td>Common Dreams</td>\n",
       "      <td>Videos #NoDAPL: Native American Leaders Vow to...</td>\n",
       "    </tr>\n",
       "    <tr>\n",
       "      <th>3</th>\n",
       "      <td>20803</td>\n",
       "      <td>Tim Tebow Will Attempt Another Comeback, This ...</td>\n",
       "      <td>Daniel Victor</td>\n",
       "      <td>If at first you don’t succeed, try a different...</td>\n",
       "    </tr>\n",
       "    <tr>\n",
       "      <th>4</th>\n",
       "      <td>20804</td>\n",
       "      <td>Keiser Report: Meme Wars (E995)</td>\n",
       "      <td>Truth Broadcast Network</td>\n",
       "      <td>42 mins ago 1 Views 0 Comments 0 Likes 'For th...</td>\n",
       "    </tr>\n",
       "  </tbody>\n",
       "</table>\n",
       "</div>"
      ],
      "text/plain": [
       "      id                                              title  \\\n",
       "0  20800  Specter of Trump Loosens Tongues, if Not Purse...   \n",
       "1  20801  Russian warships ready to strike terrorists ne...   \n",
       "2  20802  #NoDAPL: Native American Leaders Vow to Stay A...   \n",
       "3  20803  Tim Tebow Will Attempt Another Comeback, This ...   \n",
       "4  20804                    Keiser Report: Meme Wars (E995)   \n",
       "\n",
       "                    author                                               text  \n",
       "0         David Streitfeld  PALO ALTO, Calif.  —   After years of scorning...  \n",
       "1                      NaN  Russian warships ready to strike terrorists ne...  \n",
       "2            Common Dreams  Videos #NoDAPL: Native American Leaders Vow to...  \n",
       "3            Daniel Victor  If at first you don’t succeed, try a different...  \n",
       "4  Truth Broadcast Network  42 mins ago 1 Views 0 Comments 0 Likes 'For th...  "
      ]
     },
     "execution_count": 51,
     "metadata": {},
     "output_type": "execute_result"
    }
   ],
   "source": [
    "test_data.head()"
   ]
  },
  {
   "cell_type": "code",
   "execution_count": 52,
   "metadata": {},
   "outputs": [],
   "source": [
    "descriptions = train_data['text']\n",
    "train_size = int(len(descriptions) * .8)\n",
    "labels = train_data['label']\n",
    "train_description = descriptions[:train_size].astype('str')\n",
    "train_labels = labels[:train_size]\n",
    "test_description = descriptions[train_size:].astype('str')\n",
    "test_labels = labels[train_size:]"
   ]
  },
  {
   "cell_type": "code",
   "execution_count": 53,
   "metadata": {},
   "outputs": [],
   "source": [
    "top_labels = ['0', '1']\n",
    "description_embeddings = hub.text_embedding_column(\n",
    "  \"text\", \n",
    "  module_spec=\"https://tfhub.dev/google/universal-sentence-encoder/2\"\n",
    ")"
   ]
  },
  {
   "cell_type": "code",
   "execution_count": 54,
   "metadata": {},
   "outputs": [],
   "source": [
    "encoder = LabelBinarizer()\n",
    "encoder.fit_transform(train_labels)\n",
    "train_encoded = encoder.transform(train_labels)\n",
    "test_encoded = encoder.transform(test_labels)\n",
    "num_classes = len(encoder.classes_)"
   ]
  },
  {
   "cell_type": "code",
   "execution_count": 55,
   "metadata": {
    "collapsed": true
   },
   "outputs": [],
   "source": [
    "binary_label_head = tf.contrib.estimator.binary_classification_head(\n",
    "                        loss_reduction=tf.losses.Reduction.SUM_OVER_BATCH_SIZE\n",
    "                    )"
   ]
  },
  {
   "cell_type": "code",
   "execution_count": 56,
   "metadata": {},
   "outputs": [
    {
     "name": "stderr",
     "output_type": "stream",
     "text": [
      "W0328 11:45:20.859363 24732 tf_logging.py:126] Using temporary folder as model directory: C:\\Users\\I349732\\AppData\\Local\\Temp\\tmp8q57kksq\n"
     ]
    }
   ],
   "source": [
    "estimator = tf.contrib.estimator.DNNEstimator(\n",
    "    head=binary_label_head,\n",
    "    hidden_units=[64,10],\n",
    "    feature_columns=[description_embeddings]\n",
    ")"
   ]
  },
  {
   "cell_type": "code",
   "execution_count": 57,
   "metadata": {
    "collapsed": true
   },
   "outputs": [],
   "source": [
    "features = {\n",
    "  \"text\": np.array(train_description).astype(np.str)\n",
    "}\n",
    "labels = np.array(train_encoded).astype(np.int32)\n",
    "\n",
    "train_input_fn = tf.estimator.inputs.numpy_input_fn(\n",
    "    features, \n",
    "    labels, \n",
    "    shuffle=True, \n",
    "    batch_size=32, \n",
    "    num_epochs=20\n",
    ")"
   ]
  },
  {
   "cell_type": "code",
   "execution_count": 59,
   "metadata": {},
   "outputs": [
    {
     "name": "stderr",
     "output_type": "stream",
     "text": [
      "I0328 11:50:57.155110 24732 tf_logging.py:116] Calling model_fn.\n",
      "I0328 11:51:12.783882 24732 tf_logging.py:116] Initialize variable dnn/input_from_feature_columns/input_layer/text_hub_module_embedding/module/Embeddings_en/sharded_0:0 from checkpoint b'C:\\\\Users\\\\I349732\\\\AppData\\\\Local\\\\Temp\\\\tfhub_modules\\\\1fb57c3ffe1a38479233ee9853ddd7a8ac8a8c47\\\\variables\\\\variables' with Embeddings_en/sharded_0\n",
      "I0328 11:51:12.792905 24732 tf_logging.py:116] Initialize variable dnn/input_from_feature_columns/input_layer/text_hub_module_embedding/module/Embeddings_en/sharded_1:0 from checkpoint b'C:\\\\Users\\\\I349732\\\\AppData\\\\Local\\\\Temp\\\\tfhub_modules\\\\1fb57c3ffe1a38479233ee9853ddd7a8ac8a8c47\\\\variables\\\\variables' with Embeddings_en/sharded_1\n",
      "I0328 11:51:12.803934 24732 tf_logging.py:116] Initialize variable dnn/input_from_feature_columns/input_layer/text_hub_module_embedding/module/Embeddings_en/sharded_10:0 from checkpoint b'C:\\\\Users\\\\I349732\\\\AppData\\\\Local\\\\Temp\\\\tfhub_modules\\\\1fb57c3ffe1a38479233ee9853ddd7a8ac8a8c47\\\\variables\\\\variables' with Embeddings_en/sharded_10\n",
      "I0328 11:51:12.829001 24732 tf_logging.py:116] Initialize variable dnn/input_from_feature_columns/input_layer/text_hub_module_embedding/module/Embeddings_en/sharded_11:0 from checkpoint b'C:\\\\Users\\\\I349732\\\\AppData\\\\Local\\\\Temp\\\\tfhub_modules\\\\1fb57c3ffe1a38479233ee9853ddd7a8ac8a8c47\\\\variables\\\\variables' with Embeddings_en/sharded_11\n",
      "I0328 11:51:12.840031 24732 tf_logging.py:116] Initialize variable dnn/input_from_feature_columns/input_layer/text_hub_module_embedding/module/Embeddings_en/sharded_12:0 from checkpoint b'C:\\\\Users\\\\I349732\\\\AppData\\\\Local\\\\Temp\\\\tfhub_modules\\\\1fb57c3ffe1a38479233ee9853ddd7a8ac8a8c47\\\\variables\\\\variables' with Embeddings_en/sharded_12\n",
      "I0328 11:51:12.852072 24732 tf_logging.py:116] Initialize variable dnn/input_from_feature_columns/input_layer/text_hub_module_embedding/module/Embeddings_en/sharded_13:0 from checkpoint b'C:\\\\Users\\\\I349732\\\\AppData\\\\Local\\\\Temp\\\\tfhub_modules\\\\1fb57c3ffe1a38479233ee9853ddd7a8ac8a8c47\\\\variables\\\\variables' with Embeddings_en/sharded_13\n",
      "I0328 11:51:12.862090 24732 tf_logging.py:116] Initialize variable dnn/input_from_feature_columns/input_layer/text_hub_module_embedding/module/Embeddings_en/sharded_14:0 from checkpoint b'C:\\\\Users\\\\I349732\\\\AppData\\\\Local\\\\Temp\\\\tfhub_modules\\\\1fb57c3ffe1a38479233ee9853ddd7a8ac8a8c47\\\\variables\\\\variables' with Embeddings_en/sharded_14\n",
      "I0328 11:51:12.877130 24732 tf_logging.py:116] Initialize variable dnn/input_from_feature_columns/input_layer/text_hub_module_embedding/module/Embeddings_en/sharded_15:0 from checkpoint b'C:\\\\Users\\\\I349732\\\\AppData\\\\Local\\\\Temp\\\\tfhub_modules\\\\1fb57c3ffe1a38479233ee9853ddd7a8ac8a8c47\\\\variables\\\\variables' with Embeddings_en/sharded_15\n",
      "I0328 11:51:12.888164 24732 tf_logging.py:116] Initialize variable dnn/input_from_feature_columns/input_layer/text_hub_module_embedding/module/Embeddings_en/sharded_16:0 from checkpoint b'C:\\\\Users\\\\I349732\\\\AppData\\\\Local\\\\Temp\\\\tfhub_modules\\\\1fb57c3ffe1a38479233ee9853ddd7a8ac8a8c47\\\\variables\\\\variables' with Embeddings_en/sharded_16\n",
      "I0328 11:51:12.899190 24732 tf_logging.py:116] Initialize variable dnn/input_from_feature_columns/input_layer/text_hub_module_embedding/module/Embeddings_en/sharded_2:0 from checkpoint b'C:\\\\Users\\\\I349732\\\\AppData\\\\Local\\\\Temp\\\\tfhub_modules\\\\1fb57c3ffe1a38479233ee9853ddd7a8ac8a8c47\\\\variables\\\\variables' with Embeddings_en/sharded_2\n",
      "I0328 11:51:12.913225 24732 tf_logging.py:116] Initialize variable dnn/input_from_feature_columns/input_layer/text_hub_module_embedding/module/Embeddings_en/sharded_3:0 from checkpoint b'C:\\\\Users\\\\I349732\\\\AppData\\\\Local\\\\Temp\\\\tfhub_modules\\\\1fb57c3ffe1a38479233ee9853ddd7a8ac8a8c47\\\\variables\\\\variables' with Embeddings_en/sharded_3\n",
      "I0328 11:51:12.928270 24732 tf_logging.py:116] Initialize variable dnn/input_from_feature_columns/input_layer/text_hub_module_embedding/module/Embeddings_en/sharded_4:0 from checkpoint b'C:\\\\Users\\\\I349732\\\\AppData\\\\Local\\\\Temp\\\\tfhub_modules\\\\1fb57c3ffe1a38479233ee9853ddd7a8ac8a8c47\\\\variables\\\\variables' with Embeddings_en/sharded_4\n",
      "I0328 11:51:12.944308 24732 tf_logging.py:116] Initialize variable dnn/input_from_feature_columns/input_layer/text_hub_module_embedding/module/Embeddings_en/sharded_5:0 from checkpoint b'C:\\\\Users\\\\I349732\\\\AppData\\\\Local\\\\Temp\\\\tfhub_modules\\\\1fb57c3ffe1a38479233ee9853ddd7a8ac8a8c47\\\\variables\\\\variables' with Embeddings_en/sharded_5\n",
      "I0328 11:51:12.958345 24732 tf_logging.py:116] Initialize variable dnn/input_from_feature_columns/input_layer/text_hub_module_embedding/module/Embeddings_en/sharded_6:0 from checkpoint b'C:\\\\Users\\\\I349732\\\\AppData\\\\Local\\\\Temp\\\\tfhub_modules\\\\1fb57c3ffe1a38479233ee9853ddd7a8ac8a8c47\\\\variables\\\\variables' with Embeddings_en/sharded_6\n",
      "I0328 11:51:12.973385 24732 tf_logging.py:116] Initialize variable dnn/input_from_feature_columns/input_layer/text_hub_module_embedding/module/Embeddings_en/sharded_7:0 from checkpoint b'C:\\\\Users\\\\I349732\\\\AppData\\\\Local\\\\Temp\\\\tfhub_modules\\\\1fb57c3ffe1a38479233ee9853ddd7a8ac8a8c47\\\\variables\\\\variables' with Embeddings_en/sharded_7\n",
      "I0328 11:51:12.989428 24732 tf_logging.py:116] Initialize variable dnn/input_from_feature_columns/input_layer/text_hub_module_embedding/module/Embeddings_en/sharded_8:0 from checkpoint b'C:\\\\Users\\\\I349732\\\\AppData\\\\Local\\\\Temp\\\\tfhub_modules\\\\1fb57c3ffe1a38479233ee9853ddd7a8ac8a8c47\\\\variables\\\\variables' with Embeddings_en/sharded_8\n",
      "I0328 11:51:13.005470 24732 tf_logging.py:116] Initialize variable dnn/input_from_feature_columns/input_layer/text_hub_module_embedding/module/Embeddings_en/sharded_9:0 from checkpoint b'C:\\\\Users\\\\I349732\\\\AppData\\\\Local\\\\Temp\\\\tfhub_modules\\\\1fb57c3ffe1a38479233ee9853ddd7a8ac8a8c47\\\\variables\\\\variables' with Embeddings_en/sharded_9\n",
      "I0328 11:51:13.016501 24732 tf_logging.py:116] Initialize variable dnn/input_from_feature_columns/input_layer/text_hub_module_embedding/module/Encoder_en/DNN/ResidualHidden_0/weights:0 from checkpoint b'C:\\\\Users\\\\I349732\\\\AppData\\\\Local\\\\Temp\\\\tfhub_modules\\\\1fb57c3ffe1a38479233ee9853ddd7a8ac8a8c47\\\\variables\\\\variables' with Encoder_en/DNN/ResidualHidden_0/weights\n",
      "I0328 11:51:13.028532 24732 tf_logging.py:116] Initialize variable dnn/input_from_feature_columns/input_layer/text_hub_module_embedding/module/Encoder_en/DNN/ResidualHidden_1/weights:0 from checkpoint b'C:\\\\Users\\\\I349732\\\\AppData\\\\Local\\\\Temp\\\\tfhub_modules\\\\1fb57c3ffe1a38479233ee9853ddd7a8ac8a8c47\\\\variables\\\\variables' with Encoder_en/DNN/ResidualHidden_1/weights\n",
      "I0328 11:51:13.043572 24732 tf_logging.py:116] Initialize variable dnn/input_from_feature_columns/input_layer/text_hub_module_embedding/module/Encoder_en/DNN/ResidualHidden_2/weights:0 from checkpoint b'C:\\\\Users\\\\I349732\\\\AppData\\\\Local\\\\Temp\\\\tfhub_modules\\\\1fb57c3ffe1a38479233ee9853ddd7a8ac8a8c47\\\\variables\\\\variables' with Encoder_en/DNN/ResidualHidden_2/weights\n",
      "I0328 11:51:13.059615 24732 tf_logging.py:116] Initialize variable dnn/input_from_feature_columns/input_layer/text_hub_module_embedding/module/Encoder_en/DNN/ResidualHidden_3/projection:0 from checkpoint b'C:\\\\Users\\\\I349732\\\\AppData\\\\Local\\\\Temp\\\\tfhub_modules\\\\1fb57c3ffe1a38479233ee9853ddd7a8ac8a8c47\\\\variables\\\\variables' with Encoder_en/DNN/ResidualHidden_3/projection\n",
      "I0328 11:51:13.074656 24732 tf_logging.py:116] Initialize variable dnn/input_from_feature_columns/input_layer/text_hub_module_embedding/module/Encoder_en/DNN/ResidualHidden_3/weights:0 from checkpoint b'C:\\\\Users\\\\I349732\\\\AppData\\\\Local\\\\Temp\\\\tfhub_modules\\\\1fb57c3ffe1a38479233ee9853ddd7a8ac8a8c47\\\\variables\\\\variables' with Encoder_en/DNN/ResidualHidden_3/weights\n",
      "I0328 11:51:13.087689 24732 tf_logging.py:116] Initialize variable dnn/input_from_feature_columns/input_layer/text_hub_module_embedding/module/SHARED_RANK_ANSWER/response_encoder_0/tanh_layer_0/bias:0 from checkpoint b'C:\\\\Users\\\\I349732\\\\AppData\\\\Local\\\\Temp\\\\tfhub_modules\\\\1fb57c3ffe1a38479233ee9853ddd7a8ac8a8c47\\\\variables\\\\variables' with SHARED_RANK_ANSWER/response_encoder_0/tanh_layer_0/bias\n"
     ]
    },
    {
     "name": "stderr",
     "output_type": "stream",
     "text": [
      "I0328 11:51:13.100725 24732 tf_logging.py:116] Initialize variable dnn/input_from_feature_columns/input_layer/text_hub_module_embedding/module/SHARED_RANK_ANSWER/response_encoder_0/tanh_layer_0/weights:0 from checkpoint b'C:\\\\Users\\\\I349732\\\\AppData\\\\Local\\\\Temp\\\\tfhub_modules\\\\1fb57c3ffe1a38479233ee9853ddd7a8ac8a8c47\\\\variables\\\\variables' with SHARED_RANK_ANSWER/response_encoder_0/tanh_layer_0/weights\n",
      "I0328 11:51:13.113758 24732 tf_logging.py:116] Initialize variable dnn/input_from_feature_columns/input_layer/text_hub_module_embedding/module/SHARED_RANK_ANSWER/response_encoder_0/tanh_layer_1/bias:0 from checkpoint b'C:\\\\Users\\\\I349732\\\\AppData\\\\Local\\\\Temp\\\\tfhub_modules\\\\1fb57c3ffe1a38479233ee9853ddd7a8ac8a8c47\\\\variables\\\\variables' with SHARED_RANK_ANSWER/response_encoder_0/tanh_layer_1/bias\n",
      "I0328 11:51:13.127796 24732 tf_logging.py:116] Initialize variable dnn/input_from_feature_columns/input_layer/text_hub_module_embedding/module/SHARED_RANK_ANSWER/response_encoder_0/tanh_layer_1/weights:0 from checkpoint b'C:\\\\Users\\\\I349732\\\\AppData\\\\Local\\\\Temp\\\\tfhub_modules\\\\1fb57c3ffe1a38479233ee9853ddd7a8ac8a8c47\\\\variables\\\\variables' with SHARED_RANK_ANSWER/response_encoder_0/tanh_layer_1/weights\n",
      "I0328 11:51:13.140830 24732 tf_logging.py:116] Initialize variable dnn/input_from_feature_columns/input_layer/text_hub_module_embedding/module/SHARED_RANK_ANSWER/response_encoder_0/tanh_layer_2/bias:0 from checkpoint b'C:\\\\Users\\\\I349732\\\\AppData\\\\Local\\\\Temp\\\\tfhub_modules\\\\1fb57c3ffe1a38479233ee9853ddd7a8ac8a8c47\\\\variables\\\\variables' with SHARED_RANK_ANSWER/response_encoder_0/tanh_layer_2/bias\n",
      "I0328 11:51:13.153865 24732 tf_logging.py:116] Initialize variable dnn/input_from_feature_columns/input_layer/text_hub_module_embedding/module/SHARED_RANK_ANSWER/response_encoder_0/tanh_layer_2/weights:0 from checkpoint b'C:\\\\Users\\\\I349732\\\\AppData\\\\Local\\\\Temp\\\\tfhub_modules\\\\1fb57c3ffe1a38479233ee9853ddd7a8ac8a8c47\\\\variables\\\\variables' with SHARED_RANK_ANSWER/response_encoder_0/tanh_layer_2/weights\n",
      "I0328 11:51:13.166901 24732 tf_logging.py:116] Initialize variable dnn/input_from_feature_columns/input_layer/text_hub_module_embedding/module/SNLI/Classifier/LinearLayer/bias:0 from checkpoint b'C:\\\\Users\\\\I349732\\\\AppData\\\\Local\\\\Temp\\\\tfhub_modules\\\\1fb57c3ffe1a38479233ee9853ddd7a8ac8a8c47\\\\variables\\\\variables' with SNLI/Classifier/LinearLayer/bias\n",
      "I0328 11:51:13.180937 24732 tf_logging.py:116] Initialize variable dnn/input_from_feature_columns/input_layer/text_hub_module_embedding/module/SNLI/Classifier/LinearLayer/weights:0 from checkpoint b'C:\\\\Users\\\\I349732\\\\AppData\\\\Local\\\\Temp\\\\tfhub_modules\\\\1fb57c3ffe1a38479233ee9853ddd7a8ac8a8c47\\\\variables\\\\variables' with SNLI/Classifier/LinearLayer/weights\n",
      "I0328 11:51:13.194975 24732 tf_logging.py:116] Initialize variable dnn/input_from_feature_columns/input_layer/text_hub_module_embedding/module/SNLI/Classifier/tanh_layer_0/bias:0 from checkpoint b'C:\\\\Users\\\\I349732\\\\AppData\\\\Local\\\\Temp\\\\tfhub_modules\\\\1fb57c3ffe1a38479233ee9853ddd7a8ac8a8c47\\\\variables\\\\variables' with SNLI/Classifier/tanh_layer_0/bias\n",
      "I0328 11:51:13.207006 24732 tf_logging.py:116] Initialize variable dnn/input_from_feature_columns/input_layer/text_hub_module_embedding/module/SNLI/Classifier/tanh_layer_0/weights:0 from checkpoint b'C:\\\\Users\\\\I349732\\\\AppData\\\\Local\\\\Temp\\\\tfhub_modules\\\\1fb57c3ffe1a38479233ee9853ddd7a8ac8a8c47\\\\variables\\\\variables' with SNLI/Classifier/tanh_layer_0/weights\n",
      "I0328 11:51:13.222050 24732 tf_logging.py:116] Initialize variable dnn/input_from_feature_columns/input_layer/text_hub_module_embedding/module/global_step:0 from checkpoint b'C:\\\\Users\\\\I349732\\\\AppData\\\\Local\\\\Temp\\\\tfhub_modules\\\\1fb57c3ffe1a38479233ee9853ddd7a8ac8a8c47\\\\variables\\\\variables' with global_step\n",
      "I0328 11:51:26.271116 24732 tf_logging.py:116] Done calling model_fn.\n",
      "I0328 11:51:26.273731 24732 tf_logging.py:116] Create CheckpointSaverHook.\n",
      "I0328 11:51:26.591144 24732 tf_logging.py:116] Graph was finalized.\n",
      "I0328 11:51:26.638246 24732 tf_logging.py:116] Restoring parameters from C:\\Users\\I349732\\AppData\\Local\\Temp\\tmp8q57kksq\\model.ckpt-1\n",
      "I0328 11:51:39.190764 24732 tf_logging.py:116] Running local_init_op.\n",
      "I0328 11:51:53.891468 24732 tf_logging.py:116] Done running local_init_op.\n",
      "I0328 11:52:28.421925 24732 tf_logging.py:116] Saving checkpoints for 2 into C:\\Users\\I349732\\AppData\\Local\\Temp\\tmp8q57kksq\\model.ckpt.\n",
      "I0328 11:52:44.261959 24732 tf_logging.py:116] loss = 0.68979, step = 2\n",
      "I0328 11:53:15.432987 24732 tf_logging.py:116] global_step/sec: 3.2079\n",
      "I0328 11:53:15.436998 24732 tf_logging.py:116] loss = 0.60491, step = 102 (31.175 sec)\n",
      "I0328 11:53:47.317867 24732 tf_logging.py:116] global_step/sec: 3.13628\n",
      "I0328 11:53:47.321878 24732 tf_logging.py:116] loss = 0.473818, step = 202 (31.885 sec)\n",
      "I0328 11:54:23.485789 24732 tf_logging.py:116] global_step/sec: 2.76496\n",
      "I0328 11:54:23.489800 24732 tf_logging.py:116] loss = 0.365671, step = 302 (36.168 sec)\n",
      "I0328 11:55:04.417065 24732 tf_logging.py:116] global_step/sec: 2.44312\n",
      "I0328 11:55:04.432105 24732 tf_logging.py:116] loss = 0.312681, step = 402 (40.942 sec)\n",
      "I0328 11:55:40.286843 24732 tf_logging.py:116] global_step/sec: 2.78786\n",
      "I0328 11:55:40.291859 24732 tf_logging.py:116] loss = 0.484626, step = 502 (35.860 sec)\n",
      "I0328 11:56:12.961750 24732 tf_logging.py:116] global_step/sec: 3.06045\n",
      "I0328 11:56:12.965762 24732 tf_logging.py:116] loss = 0.226091, step = 602 (32.674 sec)\n",
      "I0328 11:56:45.963595 24732 tf_logging.py:116] global_step/sec: 3.03013\n",
      "I0328 11:56:45.968610 24732 tf_logging.py:116] loss = 0.210598, step = 702 (33.003 sec)\n",
      "I0328 11:57:18.545411 24732 tf_logging.py:116] global_step/sec: 3.0692\n",
      "I0328 11:57:18.551427 24732 tf_logging.py:116] loss = 0.251832, step = 802 (32.583 sec)\n",
      "I0328 11:57:57.224320 24732 tf_logging.py:116] global_step/sec: 2.58539\n",
      "I0328 11:57:57.228335 24732 tf_logging.py:116] loss = 0.163601, step = 902 (38.677 sec)\n",
      "I0328 11:58:28.143606 24732 tf_logging.py:116] global_step/sec: 3.23423\n",
      "I0328 11:58:28.148616 24732 tf_logging.py:116] loss = 0.363236, step = 1002 (30.920 sec)\n",
      "I0328 11:58:59.132561 24732 tf_logging.py:116] global_step/sec: 3.22685\n",
      "I0328 11:58:59.137576 24732 tf_logging.py:116] loss = 0.331338, step = 1102 (30.989 sec)\n",
      "I0328 11:59:29.255117 24732 tf_logging.py:116] global_step/sec: 3.31977\n",
      "I0328 11:59:29.271222 24732 tf_logging.py:116] loss = 0.337945, step = 1202 (30.134 sec)\n",
      "I0328 12:00:00.099441 24732 tf_logging.py:116] global_step/sec: 3.24219\n",
      "I0328 12:00:00.103453 24732 tf_logging.py:116] loss = 0.3, step = 1302 (30.832 sec)\n",
      "I0328 12:00:34.203527 24732 tf_logging.py:116] global_step/sec: 2.93211\n",
      "I0328 12:00:34.208542 24732 tf_logging.py:116] loss = 0.421233, step = 1402 (34.105 sec)\n",
      "I0328 12:01:04.141756 24732 tf_logging.py:116] global_step/sec: 3.34032\n",
      "I0328 12:01:04.144765 24732 tf_logging.py:116] loss = 0.263185, step = 1502 (29.936 sec)\n",
      "I0328 12:01:33.556987 24732 tf_logging.py:116] global_step/sec: 3.39948\n",
      "I0328 12:01:33.576038 24732 tf_logging.py:116] loss = 0.196786, step = 1602 (29.431 sec)\n",
      "I0328 12:02:02.519167 24732 tf_logging.py:116] global_step/sec: 3.45278\n",
      "I0328 12:02:02.523179 24732 tf_logging.py:116] loss = 0.314479, step = 1702 (28.947 sec)\n",
      "I0328 12:02:28.706799 24732 tf_logging.py:116] Saving checkpoints for 1793 into C:\\Users\\I349732\\AppData\\Local\\Temp\\tmp8q57kksq\\model.ckpt.\n",
      "I0328 12:02:52.662510 24732 tf_logging.py:116] global_step/sec: 1.99428\n",
      "I0328 12:02:52.668527 24732 tf_logging.py:116] loss = 0.264289, step = 1802 (50.145 sec)\n",
      "I0328 12:03:26.719813 24732 tf_logging.py:116] global_step/sec: 2.93623\n",
      "I0328 12:03:26.725830 24732 tf_logging.py:116] loss = 0.3222, step = 1902 (34.056 sec)\n",
      "I0328 12:03:57.575298 24732 tf_logging.py:116] global_step/sec: 3.24091\n",
      "I0328 12:03:57.575298 24732 tf_logging.py:116] loss = 0.156666, step = 2002 (30.850 sec)\n",
      "I0328 12:04:27.698060 24732 tf_logging.py:116] global_step/sec: 3.31975\n",
      "I0328 12:04:27.702072 24732 tf_logging.py:116] loss = 0.150263, step = 2102 (30.127 sec)\n",
      "I0328 12:04:58.802106 24732 tf_logging.py:116] global_step/sec: 3.21502\n",
      "I0328 12:04:58.802106 24732 tf_logging.py:116] loss = 0.349952, step = 2202 (31.100 sec)\n",
      "I0328 12:05:28.292830 24732 tf_logging.py:116] global_step/sec: 3.3909\n"
     ]
    },
    {
     "name": "stderr",
     "output_type": "stream",
     "text": [
      "I0328 12:05:28.308457 24732 tf_logging.py:116] loss = 0.229186, step = 2302 (29.506 sec)\n",
      "I0328 12:06:02.903590 24732 tf_logging.py:116] global_step/sec: 2.88927\n",
      "I0328 12:06:02.920440 24732 tf_logging.py:116] loss = 0.297893, step = 2402 (34.612 sec)\n",
      "I0328 12:06:35.780025 24732 tf_logging.py:116] global_step/sec: 3.04169\n",
      "I0328 12:06:35.780025 24732 tf_logging.py:116] loss = 0.212232, step = 2502 (32.860 sec)\n",
      "I0328 12:07:09.640931 24732 tf_logging.py:116] global_step/sec: 2.95326\n",
      "I0328 12:07:09.645945 24732 tf_logging.py:116] loss = 0.296238, step = 2602 (33.865 sec)\n",
      "I0328 12:07:39.412388 24732 tf_logging.py:116] global_step/sec: 3.35892\n",
      "I0328 12:07:39.417402 24732 tf_logging.py:116] loss = 0.193219, step = 2702 (29.772 sec)\n",
      "I0328 12:08:07.473302 24732 tf_logging.py:116] global_step/sec: 3.56368\n",
      "I0328 12:08:07.486291 24732 tf_logging.py:116] loss = 0.178561, step = 2802 (28.069 sec)\n",
      "I0328 12:08:38.973023 24732 tf_logging.py:116] global_step/sec: 3.17463\n",
      "I0328 12:08:38.978037 24732 tf_logging.py:116] loss = 0.311173, step = 2902 (31.492 sec)\n",
      "I0328 12:09:15.278759 24732 tf_logging.py:116] global_step/sec: 2.75446\n",
      "I0328 12:09:15.283780 24732 tf_logging.py:116] loss = 0.383358, step = 3002 (36.306 sec)\n",
      "I0328 12:09:47.854567 24732 tf_logging.py:116] global_step/sec: 3.06967\n",
      "I0328 12:09:47.858587 24732 tf_logging.py:116] loss = 0.227375, step = 3102 (32.575 sec)\n",
      "I0328 12:10:21.622842 24732 tf_logging.py:116] global_step/sec: 2.96136\n",
      "I0328 12:10:21.629865 24732 tf_logging.py:116] loss = 0.162503, step = 3202 (33.771 sec)\n",
      "I0328 12:10:49.513327 24732 tf_logging.py:116] global_step/sec: 3.58545\n",
      "I0328 12:10:49.513327 24732 tf_logging.py:116] loss = 0.153693, step = 3302 (27.883 sec)\n",
      "I0328 12:11:20.094341 24732 tf_logging.py:116] global_step/sec: 3.27\n",
      "I0328 12:11:20.101353 24732 tf_logging.py:116] loss = 0.171063, step = 3402 (30.588 sec)\n",
      "I0328 12:11:54.459704 24732 tf_logging.py:116] global_step/sec: 2.90991\n",
      "I0328 12:11:54.475332 24732 tf_logging.py:116] loss = 0.241699, step = 3502 (34.374 sec)\n",
      "I0328 12:12:25.143608 24732 tf_logging.py:116] global_step/sec: 3.25904\n",
      "I0328 12:12:25.155115 24732 tf_logging.py:116] loss = 0.317129, step = 3602 (30.680 sec)\n",
      "I0328 12:12:28.858662 24732 tf_logging.py:116] Saving checkpoints for 3609 into C:\\Users\\I349732\\AppData\\Local\\Temp\\tmp8q57kksq\\model.ckpt.\n"
     ]
    },
    {
     "ename": "KeyboardInterrupt",
     "evalue": "",
     "output_type": "error",
     "traceback": [
      "\u001b[1;31m---------------------------------------------------------------------------\u001b[0m",
      "\u001b[1;31mKeyboardInterrupt\u001b[0m                         Traceback (most recent call last)",
      "\u001b[1;32m<ipython-input-59-5aff2de067f1>\u001b[0m in \u001b[0;36m<module>\u001b[1;34m()\u001b[0m\n\u001b[0;32m      1\u001b[0m \u001b[0mtf\u001b[0m\u001b[1;33m.\u001b[0m\u001b[0mlogging\u001b[0m\u001b[1;33m.\u001b[0m\u001b[0mset_verbosity\u001b[0m\u001b[1;33m(\u001b[0m\u001b[0mtf\u001b[0m\u001b[1;33m.\u001b[0m\u001b[0mlogging\u001b[0m\u001b[1;33m.\u001b[0m\u001b[0mINFO\u001b[0m\u001b[1;33m)\u001b[0m\u001b[1;33m\u001b[0m\u001b[0m\n\u001b[1;32m----> 2\u001b[1;33m \u001b[0mestimator\u001b[0m\u001b[1;33m.\u001b[0m\u001b[0mtrain\u001b[0m\u001b[1;33m(\u001b[0m\u001b[0minput_fn\u001b[0m\u001b[1;33m=\u001b[0m\u001b[0mtrain_input_fn\u001b[0m\u001b[1;33m)\u001b[0m\u001b[1;33m\u001b[0m\u001b[0m\n\u001b[0m",
      "\u001b[1;32m~\\AppData\\Local\\Continuum\\anaconda3\\envs\\tfdeeplearning\\lib\\site-packages\\tensorflow\\python\\estimator\\estimator.py\u001b[0m in \u001b[0;36mtrain\u001b[1;34m(self, input_fn, hooks, steps, max_steps, saving_listeners)\u001b[0m\n\u001b[0;32m    353\u001b[0m \u001b[1;33m\u001b[0m\u001b[0m\n\u001b[0;32m    354\u001b[0m     \u001b[0msaving_listeners\u001b[0m \u001b[1;33m=\u001b[0m \u001b[0m_check_listeners_type\u001b[0m\u001b[1;33m(\u001b[0m\u001b[0msaving_listeners\u001b[0m\u001b[1;33m)\u001b[0m\u001b[1;33m\u001b[0m\u001b[0m\n\u001b[1;32m--> 355\u001b[1;33m     \u001b[0mloss\u001b[0m \u001b[1;33m=\u001b[0m \u001b[0mself\u001b[0m\u001b[1;33m.\u001b[0m\u001b[0m_train_model\u001b[0m\u001b[1;33m(\u001b[0m\u001b[0minput_fn\u001b[0m\u001b[1;33m,\u001b[0m \u001b[0mhooks\u001b[0m\u001b[1;33m,\u001b[0m \u001b[0msaving_listeners\u001b[0m\u001b[1;33m)\u001b[0m\u001b[1;33m\u001b[0m\u001b[0m\n\u001b[0m\u001b[0;32m    356\u001b[0m     \u001b[0mlogging\u001b[0m\u001b[1;33m.\u001b[0m\u001b[0minfo\u001b[0m\u001b[1;33m(\u001b[0m\u001b[1;34m'Loss for final step: %s.'\u001b[0m\u001b[1;33m,\u001b[0m \u001b[0mloss\u001b[0m\u001b[1;33m)\u001b[0m\u001b[1;33m\u001b[0m\u001b[0m\n\u001b[0;32m    357\u001b[0m     \u001b[1;32mreturn\u001b[0m \u001b[0mself\u001b[0m\u001b[1;33m\u001b[0m\u001b[0m\n",
      "\u001b[1;32m~\\AppData\\Local\\Continuum\\anaconda3\\envs\\tfdeeplearning\\lib\\site-packages\\tensorflow\\python\\estimator\\estimator.py\u001b[0m in \u001b[0;36m_train_model\u001b[1;34m(self, input_fn, hooks, saving_listeners)\u001b[0m\n\u001b[0;32m    901\u001b[0m         \u001b[0mloss\u001b[0m \u001b[1;33m=\u001b[0m \u001b[1;32mNone\u001b[0m\u001b[1;33m\u001b[0m\u001b[0m\n\u001b[0;32m    902\u001b[0m         \u001b[1;32mwhile\u001b[0m \u001b[1;32mnot\u001b[0m \u001b[0mmon_sess\u001b[0m\u001b[1;33m.\u001b[0m\u001b[0mshould_stop\u001b[0m\u001b[1;33m(\u001b[0m\u001b[1;33m)\u001b[0m\u001b[1;33m:\u001b[0m\u001b[1;33m\u001b[0m\u001b[0m\n\u001b[1;32m--> 903\u001b[1;33m           \u001b[0m_\u001b[0m\u001b[1;33m,\u001b[0m \u001b[0mloss\u001b[0m \u001b[1;33m=\u001b[0m \u001b[0mmon_sess\u001b[0m\u001b[1;33m.\u001b[0m\u001b[0mrun\u001b[0m\u001b[1;33m(\u001b[0m\u001b[1;33m[\u001b[0m\u001b[0mestimator_spec\u001b[0m\u001b[1;33m.\u001b[0m\u001b[0mtrain_op\u001b[0m\u001b[1;33m,\u001b[0m \u001b[0mestimator_spec\u001b[0m\u001b[1;33m.\u001b[0m\u001b[0mloss\u001b[0m\u001b[1;33m]\u001b[0m\u001b[1;33m)\u001b[0m\u001b[1;33m\u001b[0m\u001b[0m\n\u001b[0m\u001b[0;32m    904\u001b[0m       \u001b[1;32mreturn\u001b[0m \u001b[0mloss\u001b[0m\u001b[1;33m\u001b[0m\u001b[0m\n\u001b[0;32m    905\u001b[0m \u001b[1;33m\u001b[0m\u001b[0m\n",
      "\u001b[1;32m~\\AppData\\Local\\Continuum\\anaconda3\\envs\\tfdeeplearning\\lib\\site-packages\\tensorflow\\python\\training\\monitored_session.py\u001b[0m in \u001b[0;36mrun\u001b[1;34m(self, fetches, feed_dict, options, run_metadata)\u001b[0m\n\u001b[0;32m    544\u001b[0m                           \u001b[0mfeed_dict\u001b[0m\u001b[1;33m=\u001b[0m\u001b[0mfeed_dict\u001b[0m\u001b[1;33m,\u001b[0m\u001b[1;33m\u001b[0m\u001b[0m\n\u001b[0;32m    545\u001b[0m                           \u001b[0moptions\u001b[0m\u001b[1;33m=\u001b[0m\u001b[0moptions\u001b[0m\u001b[1;33m,\u001b[0m\u001b[1;33m\u001b[0m\u001b[0m\n\u001b[1;32m--> 546\u001b[1;33m                           run_metadata=run_metadata)\n\u001b[0m\u001b[0;32m    547\u001b[0m \u001b[1;33m\u001b[0m\u001b[0m\n\u001b[0;32m    548\u001b[0m   \u001b[1;32mdef\u001b[0m \u001b[0mrun_step_fn\u001b[0m\u001b[1;33m(\u001b[0m\u001b[0mself\u001b[0m\u001b[1;33m,\u001b[0m \u001b[0mstep_fn\u001b[0m\u001b[1;33m)\u001b[0m\u001b[1;33m:\u001b[0m\u001b[1;33m\u001b[0m\u001b[0m\n",
      "\u001b[1;32m~\\AppData\\Local\\Continuum\\anaconda3\\envs\\tfdeeplearning\\lib\\site-packages\\tensorflow\\python\\training\\monitored_session.py\u001b[0m in \u001b[0;36mrun\u001b[1;34m(self, fetches, feed_dict, options, run_metadata)\u001b[0m\n\u001b[0;32m   1020\u001b[0m                               \u001b[0mfeed_dict\u001b[0m\u001b[1;33m=\u001b[0m\u001b[0mfeed_dict\u001b[0m\u001b[1;33m,\u001b[0m\u001b[1;33m\u001b[0m\u001b[0m\n\u001b[0;32m   1021\u001b[0m                               \u001b[0moptions\u001b[0m\u001b[1;33m=\u001b[0m\u001b[0moptions\u001b[0m\u001b[1;33m,\u001b[0m\u001b[1;33m\u001b[0m\u001b[0m\n\u001b[1;32m-> 1022\u001b[1;33m                               run_metadata=run_metadata)\n\u001b[0m\u001b[0;32m   1023\u001b[0m       \u001b[1;32mexcept\u001b[0m \u001b[0m_PREEMPTION_ERRORS\u001b[0m \u001b[1;32mas\u001b[0m \u001b[0me\u001b[0m\u001b[1;33m:\u001b[0m\u001b[1;33m\u001b[0m\u001b[0m\n\u001b[0;32m   1024\u001b[0m         logging.info('An error was raised. This may be due to a preemption in '\n",
      "\u001b[1;32m~\\AppData\\Local\\Continuum\\anaconda3\\envs\\tfdeeplearning\\lib\\site-packages\\tensorflow\\python\\training\\monitored_session.py\u001b[0m in \u001b[0;36mrun\u001b[1;34m(self, *args, **kwargs)\u001b[0m\n\u001b[0;32m   1096\u001b[0m   \u001b[1;32mdef\u001b[0m \u001b[0mrun\u001b[0m\u001b[1;33m(\u001b[0m\u001b[0mself\u001b[0m\u001b[1;33m,\u001b[0m \u001b[1;33m*\u001b[0m\u001b[0margs\u001b[0m\u001b[1;33m,\u001b[0m \u001b[1;33m**\u001b[0m\u001b[0mkwargs\u001b[0m\u001b[1;33m)\u001b[0m\u001b[1;33m:\u001b[0m\u001b[1;33m\u001b[0m\u001b[0m\n\u001b[0;32m   1097\u001b[0m     \u001b[1;32mtry\u001b[0m\u001b[1;33m:\u001b[0m\u001b[1;33m\u001b[0m\u001b[0m\n\u001b[1;32m-> 1098\u001b[1;33m       \u001b[1;32mreturn\u001b[0m \u001b[0mself\u001b[0m\u001b[1;33m.\u001b[0m\u001b[0m_sess\u001b[0m\u001b[1;33m.\u001b[0m\u001b[0mrun\u001b[0m\u001b[1;33m(\u001b[0m\u001b[1;33m*\u001b[0m\u001b[0margs\u001b[0m\u001b[1;33m,\u001b[0m \u001b[1;33m**\u001b[0m\u001b[0mkwargs\u001b[0m\u001b[1;33m)\u001b[0m\u001b[1;33m\u001b[0m\u001b[0m\n\u001b[0m\u001b[0;32m   1099\u001b[0m     \u001b[1;32mexcept\u001b[0m \u001b[0m_PREEMPTION_ERRORS\u001b[0m\u001b[1;33m:\u001b[0m\u001b[1;33m\u001b[0m\u001b[0m\n\u001b[0;32m   1100\u001b[0m       \u001b[1;32mraise\u001b[0m\u001b[1;33m\u001b[0m\u001b[0m\n",
      "\u001b[1;32m~\\AppData\\Local\\Continuum\\anaconda3\\envs\\tfdeeplearning\\lib\\site-packages\\tensorflow\\python\\training\\monitored_session.py\u001b[0m in \u001b[0;36mrun\u001b[1;34m(self, fetches, feed_dict, options, run_metadata)\u001b[0m\n\u001b[0;32m   1168\u001b[0m                                   \u001b[0mfeed_dict\u001b[0m\u001b[1;33m=\u001b[0m\u001b[0mfeed_dict\u001b[0m\u001b[1;33m,\u001b[0m\u001b[1;33m\u001b[0m\u001b[0m\n\u001b[0;32m   1169\u001b[0m                                   \u001b[0moptions\u001b[0m\u001b[1;33m=\u001b[0m\u001b[0moptions\u001b[0m\u001b[1;33m,\u001b[0m\u001b[1;33m\u001b[0m\u001b[0m\n\u001b[1;32m-> 1170\u001b[1;33m                                   run_metadata=run_metadata)\n\u001b[0m\u001b[0;32m   1171\u001b[0m \u001b[1;33m\u001b[0m\u001b[0m\n\u001b[0;32m   1172\u001b[0m     \u001b[1;32mfor\u001b[0m \u001b[0mhook\u001b[0m \u001b[1;32min\u001b[0m \u001b[0mself\u001b[0m\u001b[1;33m.\u001b[0m\u001b[0m_hooks\u001b[0m\u001b[1;33m:\u001b[0m\u001b[1;33m\u001b[0m\u001b[0m\n",
      "\u001b[1;32m~\\AppData\\Local\\Continuum\\anaconda3\\envs\\tfdeeplearning\\lib\\site-packages\\tensorflow\\python\\training\\monitored_session.py\u001b[0m in \u001b[0;36mrun\u001b[1;34m(self, *args, **kwargs)\u001b[0m\n\u001b[0;32m    948\u001b[0m \u001b[1;33m\u001b[0m\u001b[0m\n\u001b[0;32m    949\u001b[0m   \u001b[1;32mdef\u001b[0m \u001b[0mrun\u001b[0m\u001b[1;33m(\u001b[0m\u001b[0mself\u001b[0m\u001b[1;33m,\u001b[0m \u001b[1;33m*\u001b[0m\u001b[0margs\u001b[0m\u001b[1;33m,\u001b[0m \u001b[1;33m**\u001b[0m\u001b[0mkwargs\u001b[0m\u001b[1;33m)\u001b[0m\u001b[1;33m:\u001b[0m\u001b[1;33m\u001b[0m\u001b[0m\n\u001b[1;32m--> 950\u001b[1;33m     \u001b[1;32mreturn\u001b[0m \u001b[0mself\u001b[0m\u001b[1;33m.\u001b[0m\u001b[0m_sess\u001b[0m\u001b[1;33m.\u001b[0m\u001b[0mrun\u001b[0m\u001b[1;33m(\u001b[0m\u001b[1;33m*\u001b[0m\u001b[0margs\u001b[0m\u001b[1;33m,\u001b[0m \u001b[1;33m**\u001b[0m\u001b[0mkwargs\u001b[0m\u001b[1;33m)\u001b[0m\u001b[1;33m\u001b[0m\u001b[0m\n\u001b[0m\u001b[0;32m    951\u001b[0m \u001b[1;33m\u001b[0m\u001b[0m\n\u001b[0;32m    952\u001b[0m   \u001b[1;32mdef\u001b[0m \u001b[0mrun_step_fn\u001b[0m\u001b[1;33m(\u001b[0m\u001b[0mself\u001b[0m\u001b[1;33m,\u001b[0m \u001b[0mstep_fn\u001b[0m\u001b[1;33m,\u001b[0m \u001b[0mraw_session\u001b[0m\u001b[1;33m,\u001b[0m \u001b[0mrun_with_hooks\u001b[0m\u001b[1;33m)\u001b[0m\u001b[1;33m:\u001b[0m\u001b[1;33m\u001b[0m\u001b[0m\n",
      "\u001b[1;32m~\\AppData\\Local\\Continuum\\anaconda3\\envs\\tfdeeplearning\\lib\\site-packages\\tensorflow\\python\\client\\session.py\u001b[0m in \u001b[0;36mrun\u001b[1;34m(self, fetches, feed_dict, options, run_metadata)\u001b[0m\n\u001b[0;32m    903\u001b[0m     \u001b[1;32mtry\u001b[0m\u001b[1;33m:\u001b[0m\u001b[1;33m\u001b[0m\u001b[0m\n\u001b[0;32m    904\u001b[0m       result = self._run(None, fetches, feed_dict, options_ptr,\n\u001b[1;32m--> 905\u001b[1;33m                          run_metadata_ptr)\n\u001b[0m\u001b[0;32m    906\u001b[0m       \u001b[1;32mif\u001b[0m \u001b[0mrun_metadata\u001b[0m\u001b[1;33m:\u001b[0m\u001b[1;33m\u001b[0m\u001b[0m\n\u001b[0;32m    907\u001b[0m         \u001b[0mproto_data\u001b[0m \u001b[1;33m=\u001b[0m \u001b[0mtf_session\u001b[0m\u001b[1;33m.\u001b[0m\u001b[0mTF_GetBuffer\u001b[0m\u001b[1;33m(\u001b[0m\u001b[0mrun_metadata_ptr\u001b[0m\u001b[1;33m)\u001b[0m\u001b[1;33m\u001b[0m\u001b[0m\n",
      "\u001b[1;32m~\\AppData\\Local\\Continuum\\anaconda3\\envs\\tfdeeplearning\\lib\\site-packages\\tensorflow\\python\\client\\session.py\u001b[0m in \u001b[0;36m_run\u001b[1;34m(self, handle, fetches, feed_dict, options, run_metadata)\u001b[0m\n\u001b[0;32m   1138\u001b[0m     \u001b[1;32mif\u001b[0m \u001b[0mfinal_fetches\u001b[0m \u001b[1;32mor\u001b[0m \u001b[0mfinal_targets\u001b[0m \u001b[1;32mor\u001b[0m \u001b[1;33m(\u001b[0m\u001b[0mhandle\u001b[0m \u001b[1;32mand\u001b[0m \u001b[0mfeed_dict_tensor\u001b[0m\u001b[1;33m)\u001b[0m\u001b[1;33m:\u001b[0m\u001b[1;33m\u001b[0m\u001b[0m\n\u001b[0;32m   1139\u001b[0m       results = self._do_run(handle, final_targets, final_fetches,\n\u001b[1;32m-> 1140\u001b[1;33m                              feed_dict_tensor, options, run_metadata)\n\u001b[0m\u001b[0;32m   1141\u001b[0m     \u001b[1;32melse\u001b[0m\u001b[1;33m:\u001b[0m\u001b[1;33m\u001b[0m\u001b[0m\n\u001b[0;32m   1142\u001b[0m       \u001b[0mresults\u001b[0m \u001b[1;33m=\u001b[0m \u001b[1;33m[\u001b[0m\u001b[1;33m]\u001b[0m\u001b[1;33m\u001b[0m\u001b[0m\n",
      "\u001b[1;32m~\\AppData\\Local\\Continuum\\anaconda3\\envs\\tfdeeplearning\\lib\\site-packages\\tensorflow\\python\\client\\session.py\u001b[0m in \u001b[0;36m_do_run\u001b[1;34m(self, handle, target_list, fetch_list, feed_dict, options, run_metadata)\u001b[0m\n\u001b[0;32m   1319\u001b[0m     \u001b[1;32mif\u001b[0m \u001b[0mhandle\u001b[0m \u001b[1;32mis\u001b[0m \u001b[1;32mNone\u001b[0m\u001b[1;33m:\u001b[0m\u001b[1;33m\u001b[0m\u001b[0m\n\u001b[0;32m   1320\u001b[0m       return self._do_call(_run_fn, feeds, fetches, targets, options,\n\u001b[1;32m-> 1321\u001b[1;33m                            run_metadata)\n\u001b[0m\u001b[0;32m   1322\u001b[0m     \u001b[1;32melse\u001b[0m\u001b[1;33m:\u001b[0m\u001b[1;33m\u001b[0m\u001b[0m\n\u001b[0;32m   1323\u001b[0m       \u001b[1;32mreturn\u001b[0m \u001b[0mself\u001b[0m\u001b[1;33m.\u001b[0m\u001b[0m_do_call\u001b[0m\u001b[1;33m(\u001b[0m\u001b[0m_prun_fn\u001b[0m\u001b[1;33m,\u001b[0m \u001b[0mhandle\u001b[0m\u001b[1;33m,\u001b[0m \u001b[0mfeeds\u001b[0m\u001b[1;33m,\u001b[0m \u001b[0mfetches\u001b[0m\u001b[1;33m)\u001b[0m\u001b[1;33m\u001b[0m\u001b[0m\n",
      "\u001b[1;32m~\\AppData\\Local\\Continuum\\anaconda3\\envs\\tfdeeplearning\\lib\\site-packages\\tensorflow\\python\\client\\session.py\u001b[0m in \u001b[0;36m_do_call\u001b[1;34m(self, fn, *args)\u001b[0m\n\u001b[0;32m   1325\u001b[0m   \u001b[1;32mdef\u001b[0m \u001b[0m_do_call\u001b[0m\u001b[1;33m(\u001b[0m\u001b[0mself\u001b[0m\u001b[1;33m,\u001b[0m \u001b[0mfn\u001b[0m\u001b[1;33m,\u001b[0m \u001b[1;33m*\u001b[0m\u001b[0margs\u001b[0m\u001b[1;33m)\u001b[0m\u001b[1;33m:\u001b[0m\u001b[1;33m\u001b[0m\u001b[0m\n\u001b[0;32m   1326\u001b[0m     \u001b[1;32mtry\u001b[0m\u001b[1;33m:\u001b[0m\u001b[1;33m\u001b[0m\u001b[0m\n\u001b[1;32m-> 1327\u001b[1;33m       \u001b[1;32mreturn\u001b[0m \u001b[0mfn\u001b[0m\u001b[1;33m(\u001b[0m\u001b[1;33m*\u001b[0m\u001b[0margs\u001b[0m\u001b[1;33m)\u001b[0m\u001b[1;33m\u001b[0m\u001b[0m\n\u001b[0m\u001b[0;32m   1328\u001b[0m     \u001b[1;32mexcept\u001b[0m \u001b[0merrors\u001b[0m\u001b[1;33m.\u001b[0m\u001b[0mOpError\u001b[0m \u001b[1;32mas\u001b[0m \u001b[0me\u001b[0m\u001b[1;33m:\u001b[0m\u001b[1;33m\u001b[0m\u001b[0m\n\u001b[0;32m   1329\u001b[0m       \u001b[0mmessage\u001b[0m \u001b[1;33m=\u001b[0m \u001b[0mcompat\u001b[0m\u001b[1;33m.\u001b[0m\u001b[0mas_text\u001b[0m\u001b[1;33m(\u001b[0m\u001b[0me\u001b[0m\u001b[1;33m.\u001b[0m\u001b[0mmessage\u001b[0m\u001b[1;33m)\u001b[0m\u001b[1;33m\u001b[0m\u001b[0m\n",
      "\u001b[1;32m~\\AppData\\Local\\Continuum\\anaconda3\\envs\\tfdeeplearning\\lib\\site-packages\\tensorflow\\python\\client\\session.py\u001b[0m in \u001b[0;36m_run_fn\u001b[1;34m(feed_dict, fetch_list, target_list, options, run_metadata)\u001b[0m\n\u001b[0;32m   1310\u001b[0m       \u001b[0mself\u001b[0m\u001b[1;33m.\u001b[0m\u001b[0m_extend_graph\u001b[0m\u001b[1;33m(\u001b[0m\u001b[1;33m)\u001b[0m\u001b[1;33m\u001b[0m\u001b[0m\n\u001b[0;32m   1311\u001b[0m       return self._call_tf_sessionrun(\n\u001b[1;32m-> 1312\u001b[1;33m           options, feed_dict, fetch_list, target_list, run_metadata)\n\u001b[0m\u001b[0;32m   1313\u001b[0m \u001b[1;33m\u001b[0m\u001b[0m\n\u001b[0;32m   1314\u001b[0m     \u001b[1;32mdef\u001b[0m \u001b[0m_prun_fn\u001b[0m\u001b[1;33m(\u001b[0m\u001b[0mhandle\u001b[0m\u001b[1;33m,\u001b[0m \u001b[0mfeed_dict\u001b[0m\u001b[1;33m,\u001b[0m \u001b[0mfetch_list\u001b[0m\u001b[1;33m)\u001b[0m\u001b[1;33m:\u001b[0m\u001b[1;33m\u001b[0m\u001b[0m\n",
      "\u001b[1;32m~\\AppData\\Local\\Continuum\\anaconda3\\envs\\tfdeeplearning\\lib\\site-packages\\tensorflow\\python\\client\\session.py\u001b[0m in \u001b[0;36m_call_tf_sessionrun\u001b[1;34m(self, options, feed_dict, fetch_list, target_list, run_metadata)\u001b[0m\n\u001b[0;32m   1418\u001b[0m         return tf_session.TF_Run(\n\u001b[0;32m   1419\u001b[0m             \u001b[0mself\u001b[0m\u001b[1;33m.\u001b[0m\u001b[0m_session\u001b[0m\u001b[1;33m,\u001b[0m \u001b[0moptions\u001b[0m\u001b[1;33m,\u001b[0m \u001b[0mfeed_dict\u001b[0m\u001b[1;33m,\u001b[0m \u001b[0mfetch_list\u001b[0m\u001b[1;33m,\u001b[0m \u001b[0mtarget_list\u001b[0m\u001b[1;33m,\u001b[0m\u001b[1;33m\u001b[0m\u001b[0m\n\u001b[1;32m-> 1420\u001b[1;33m             status, run_metadata)\n\u001b[0m\u001b[0;32m   1421\u001b[0m \u001b[1;33m\u001b[0m\u001b[0m\n\u001b[0;32m   1422\u001b[0m   \u001b[1;32mdef\u001b[0m \u001b[0m_call_tf_sessionprun\u001b[0m\u001b[1;33m(\u001b[0m\u001b[0mself\u001b[0m\u001b[1;33m,\u001b[0m \u001b[0mhandle\u001b[0m\u001b[1;33m,\u001b[0m \u001b[0mfeed_dict\u001b[0m\u001b[1;33m,\u001b[0m \u001b[0mfetch_list\u001b[0m\u001b[1;33m)\u001b[0m\u001b[1;33m:\u001b[0m\u001b[1;33m\u001b[0m\u001b[0m\n",
      "\u001b[1;31mKeyboardInterrupt\u001b[0m: "
     ]
    }
   ],
   "source": [
    "tf.logging.set_verbosity(tf.logging.INFO)\n",
    "estimator.train(input_fn=train_input_fn)"
   ]
  },
  {
   "cell_type": "code",
   "execution_count": 62,
   "metadata": {},
   "outputs": [
    {
     "name": "stderr",
     "output_type": "stream",
     "text": [
      "I0328 12:13:57.589858 24732 tf_logging.py:116] Calling model_fn.\n",
      "I0328 12:14:23.532740 24732 tf_logging.py:116] Initialize variable dnn/input_from_feature_columns/input_layer/text_hub_module_embedding/module/Embeddings_en/sharded_0:0 from checkpoint b'C:\\\\Users\\\\I349732\\\\AppData\\\\Local\\\\Temp\\\\tfhub_modules\\\\1fb57c3ffe1a38479233ee9853ddd7a8ac8a8c47\\\\variables\\\\variables' with Embeddings_en/sharded_0\n",
      "I0328 12:14:23.541803 24732 tf_logging.py:116] Initialize variable dnn/input_from_feature_columns/input_layer/text_hub_module_embedding/module/Embeddings_en/sharded_1:0 from checkpoint b'C:\\\\Users\\\\I349732\\\\AppData\\\\Local\\\\Temp\\\\tfhub_modules\\\\1fb57c3ffe1a38479233ee9853ddd7a8ac8a8c47\\\\variables\\\\variables' with Embeddings_en/sharded_1\n",
      "I0328 12:14:23.550834 24732 tf_logging.py:116] Initialize variable dnn/input_from_feature_columns/input_layer/text_hub_module_embedding/module/Embeddings_en/sharded_10:0 from checkpoint b'C:\\\\Users\\\\I349732\\\\AppData\\\\Local\\\\Temp\\\\tfhub_modules\\\\1fb57c3ffe1a38479233ee9853ddd7a8ac8a8c47\\\\variables\\\\variables' with Embeddings_en/sharded_10\n",
      "I0328 12:14:23.577861 24732 tf_logging.py:116] Initialize variable dnn/input_from_feature_columns/input_layer/text_hub_module_embedding/module/Embeddings_en/sharded_11:0 from checkpoint b'C:\\\\Users\\\\I349732\\\\AppData\\\\Local\\\\Temp\\\\tfhub_modules\\\\1fb57c3ffe1a38479233ee9853ddd7a8ac8a8c47\\\\variables\\\\variables' with Embeddings_en/sharded_11\n",
      "I0328 12:14:23.590898 24732 tf_logging.py:116] Initialize variable dnn/input_from_feature_columns/input_layer/text_hub_module_embedding/module/Embeddings_en/sharded_12:0 from checkpoint b'C:\\\\Users\\\\I349732\\\\AppData\\\\Local\\\\Temp\\\\tfhub_modules\\\\1fb57c3ffe1a38479233ee9853ddd7a8ac8a8c47\\\\variables\\\\variables' with Embeddings_en/sharded_12\n",
      "I0328 12:14:23.598918 24732 tf_logging.py:116] Initialize variable dnn/input_from_feature_columns/input_layer/text_hub_module_embedding/module/Embeddings_en/sharded_13:0 from checkpoint b'C:\\\\Users\\\\I349732\\\\AppData\\\\Local\\\\Temp\\\\tfhub_modules\\\\1fb57c3ffe1a38479233ee9853ddd7a8ac8a8c47\\\\variables\\\\variables' with Embeddings_en/sharded_13\n",
      "I0328 12:14:23.613991 24732 tf_logging.py:116] Initialize variable dnn/input_from_feature_columns/input_layer/text_hub_module_embedding/module/Embeddings_en/sharded_14:0 from checkpoint b'C:\\\\Users\\\\I349732\\\\AppData\\\\Local\\\\Temp\\\\tfhub_modules\\\\1fb57c3ffe1a38479233ee9853ddd7a8ac8a8c47\\\\variables\\\\variables' with Embeddings_en/sharded_14\n",
      "I0328 12:14:23.624986 24732 tf_logging.py:116] Initialize variable dnn/input_from_feature_columns/input_layer/text_hub_module_embedding/module/Embeddings_en/sharded_15:0 from checkpoint b'C:\\\\Users\\\\I349732\\\\AppData\\\\Local\\\\Temp\\\\tfhub_modules\\\\1fb57c3ffe1a38479233ee9853ddd7a8ac8a8c47\\\\variables\\\\variables' with Embeddings_en/sharded_15\n",
      "I0328 12:14:23.635012 24732 tf_logging.py:116] Initialize variable dnn/input_from_feature_columns/input_layer/text_hub_module_embedding/module/Embeddings_en/sharded_16:0 from checkpoint b'C:\\\\Users\\\\I349732\\\\AppData\\\\Local\\\\Temp\\\\tfhub_modules\\\\1fb57c3ffe1a38479233ee9853ddd7a8ac8a8c47\\\\variables\\\\variables' with Embeddings_en/sharded_16\n",
      "I0328 12:14:23.648049 24732 tf_logging.py:116] Initialize variable dnn/input_from_feature_columns/input_layer/text_hub_module_embedding/module/Embeddings_en/sharded_2:0 from checkpoint b'C:\\\\Users\\\\I349732\\\\AppData\\\\Local\\\\Temp\\\\tfhub_modules\\\\1fb57c3ffe1a38479233ee9853ddd7a8ac8a8c47\\\\variables\\\\variables' with Embeddings_en/sharded_2\n",
      "I0328 12:14:23.660078 24732 tf_logging.py:116] Initialize variable dnn/input_from_feature_columns/input_layer/text_hub_module_embedding/module/Embeddings_en/sharded_3:0 from checkpoint b'C:\\\\Users\\\\I349732\\\\AppData\\\\Local\\\\Temp\\\\tfhub_modules\\\\1fb57c3ffe1a38479233ee9853ddd7a8ac8a8c47\\\\variables\\\\variables' with Embeddings_en/sharded_3\n",
      "I0328 12:14:23.672117 24732 tf_logging.py:116] Initialize variable dnn/input_from_feature_columns/input_layer/text_hub_module_embedding/module/Embeddings_en/sharded_4:0 from checkpoint b'C:\\\\Users\\\\I349732\\\\AppData\\\\Local\\\\Temp\\\\tfhub_modules\\\\1fb57c3ffe1a38479233ee9853ddd7a8ac8a8c47\\\\variables\\\\variables' with Embeddings_en/sharded_4\n",
      "I0328 12:14:23.683141 24732 tf_logging.py:116] Initialize variable dnn/input_from_feature_columns/input_layer/text_hub_module_embedding/module/Embeddings_en/sharded_5:0 from checkpoint b'C:\\\\Users\\\\I349732\\\\AppData\\\\Local\\\\Temp\\\\tfhub_modules\\\\1fb57c3ffe1a38479233ee9853ddd7a8ac8a8c47\\\\variables\\\\variables' with Embeddings_en/sharded_5\n",
      "I0328 12:14:23.694169 24732 tf_logging.py:116] Initialize variable dnn/input_from_feature_columns/input_layer/text_hub_module_embedding/module/Embeddings_en/sharded_6:0 from checkpoint b'C:\\\\Users\\\\I349732\\\\AppData\\\\Local\\\\Temp\\\\tfhub_modules\\\\1fb57c3ffe1a38479233ee9853ddd7a8ac8a8c47\\\\variables\\\\variables' with Embeddings_en/sharded_6\n",
      "I0328 12:14:23.702190 24732 tf_logging.py:116] Initialize variable dnn/input_from_feature_columns/input_layer/text_hub_module_embedding/module/Embeddings_en/sharded_7:0 from checkpoint b'C:\\\\Users\\\\I349732\\\\AppData\\\\Local\\\\Temp\\\\tfhub_modules\\\\1fb57c3ffe1a38479233ee9853ddd7a8ac8a8c47\\\\variables\\\\variables' with Embeddings_en/sharded_7\n",
      "I0328 12:14:23.715226 24732 tf_logging.py:116] Initialize variable dnn/input_from_feature_columns/input_layer/text_hub_module_embedding/module/Embeddings_en/sharded_8:0 from checkpoint b'C:\\\\Users\\\\I349732\\\\AppData\\\\Local\\\\Temp\\\\tfhub_modules\\\\1fb57c3ffe1a38479233ee9853ddd7a8ac8a8c47\\\\variables\\\\variables' with Embeddings_en/sharded_8\n",
      "I0328 12:14:23.730266 24732 tf_logging.py:116] Initialize variable dnn/input_from_feature_columns/input_layer/text_hub_module_embedding/module/Embeddings_en/sharded_9:0 from checkpoint b'C:\\\\Users\\\\I349732\\\\AppData\\\\Local\\\\Temp\\\\tfhub_modules\\\\1fb57c3ffe1a38479233ee9853ddd7a8ac8a8c47\\\\variables\\\\variables' with Embeddings_en/sharded_9\n",
      "I0328 12:14:23.742297 24732 tf_logging.py:116] Initialize variable dnn/input_from_feature_columns/input_layer/text_hub_module_embedding/module/Encoder_en/DNN/ResidualHidden_0/weights:0 from checkpoint b'C:\\\\Users\\\\I349732\\\\AppData\\\\Local\\\\Temp\\\\tfhub_modules\\\\1fb57c3ffe1a38479233ee9853ddd7a8ac8a8c47\\\\variables\\\\variables' with Encoder_en/DNN/ResidualHidden_0/weights\n",
      "I0328 12:14:23.750319 24732 tf_logging.py:116] Initialize variable dnn/input_from_feature_columns/input_layer/text_hub_module_embedding/module/Encoder_en/DNN/ResidualHidden_1/weights:0 from checkpoint b'C:\\\\Users\\\\I349732\\\\AppData\\\\Local\\\\Temp\\\\tfhub_modules\\\\1fb57c3ffe1a38479233ee9853ddd7a8ac8a8c47\\\\variables\\\\variables' with Encoder_en/DNN/ResidualHidden_1/weights\n",
      "I0328 12:14:23.767364 24732 tf_logging.py:116] Initialize variable dnn/input_from_feature_columns/input_layer/text_hub_module_embedding/module/Encoder_en/DNN/ResidualHidden_2/weights:0 from checkpoint b'C:\\\\Users\\\\I349732\\\\AppData\\\\Local\\\\Temp\\\\tfhub_modules\\\\1fb57c3ffe1a38479233ee9853ddd7a8ac8a8c47\\\\variables\\\\variables' with Encoder_en/DNN/ResidualHidden_2/weights\n",
      "I0328 12:14:23.781400 24732 tf_logging.py:116] Initialize variable dnn/input_from_feature_columns/input_layer/text_hub_module_embedding/module/Encoder_en/DNN/ResidualHidden_3/projection:0 from checkpoint b'C:\\\\Users\\\\I349732\\\\AppData\\\\Local\\\\Temp\\\\tfhub_modules\\\\1fb57c3ffe1a38479233ee9853ddd7a8ac8a8c47\\\\variables\\\\variables' with Encoder_en/DNN/ResidualHidden_3/projection\n",
      "I0328 12:14:23.794435 24732 tf_logging.py:116] Initialize variable dnn/input_from_feature_columns/input_layer/text_hub_module_embedding/module/Encoder_en/DNN/ResidualHidden_3/weights:0 from checkpoint b'C:\\\\Users\\\\I349732\\\\AppData\\\\Local\\\\Temp\\\\tfhub_modules\\\\1fb57c3ffe1a38479233ee9853ddd7a8ac8a8c47\\\\variables\\\\variables' with Encoder_en/DNN/ResidualHidden_3/weights\n",
      "I0328 12:14:23.806467 24732 tf_logging.py:116] Initialize variable dnn/input_from_feature_columns/input_layer/text_hub_module_embedding/module/SHARED_RANK_ANSWER/response_encoder_0/tanh_layer_0/bias:0 from checkpoint b'C:\\\\Users\\\\I349732\\\\AppData\\\\Local\\\\Temp\\\\tfhub_modules\\\\1fb57c3ffe1a38479233ee9853ddd7a8ac8a8c47\\\\variables\\\\variables' with SHARED_RANK_ANSWER/response_encoder_0/tanh_layer_0/bias\n",
      "I0328 12:14:23.819501 24732 tf_logging.py:116] Initialize variable dnn/input_from_feature_columns/input_layer/text_hub_module_embedding/module/SHARED_RANK_ANSWER/response_encoder_0/tanh_layer_0/weights:0 from checkpoint b'C:\\\\Users\\\\I349732\\\\AppData\\\\Local\\\\Temp\\\\tfhub_modules\\\\1fb57c3ffe1a38479233ee9853ddd7a8ac8a8c47\\\\variables\\\\variables' with SHARED_RANK_ANSWER/response_encoder_0/tanh_layer_0/weights\n"
     ]
    },
    {
     "name": "stderr",
     "output_type": "stream",
     "text": [
      "I0328 12:14:23.833539 24732 tf_logging.py:116] Initialize variable dnn/input_from_feature_columns/input_layer/text_hub_module_embedding/module/SHARED_RANK_ANSWER/response_encoder_0/tanh_layer_1/bias:0 from checkpoint b'C:\\\\Users\\\\I349732\\\\AppData\\\\Local\\\\Temp\\\\tfhub_modules\\\\1fb57c3ffe1a38479233ee9853ddd7a8ac8a8c47\\\\variables\\\\variables' with SHARED_RANK_ANSWER/response_encoder_0/tanh_layer_1/bias\n",
      "I0328 12:14:23.846573 24732 tf_logging.py:116] Initialize variable dnn/input_from_feature_columns/input_layer/text_hub_module_embedding/module/SHARED_RANK_ANSWER/response_encoder_0/tanh_layer_1/weights:0 from checkpoint b'C:\\\\Users\\\\I349732\\\\AppData\\\\Local\\\\Temp\\\\tfhub_modules\\\\1fb57c3ffe1a38479233ee9853ddd7a8ac8a8c47\\\\variables\\\\variables' with SHARED_RANK_ANSWER/response_encoder_0/tanh_layer_1/weights\n",
      "I0328 12:14:23.858606 24732 tf_logging.py:116] Initialize variable dnn/input_from_feature_columns/input_layer/text_hub_module_embedding/module/SHARED_RANK_ANSWER/response_encoder_0/tanh_layer_2/bias:0 from checkpoint b'C:\\\\Users\\\\I349732\\\\AppData\\\\Local\\\\Temp\\\\tfhub_modules\\\\1fb57c3ffe1a38479233ee9853ddd7a8ac8a8c47\\\\variables\\\\variables' with SHARED_RANK_ANSWER/response_encoder_0/tanh_layer_2/bias\n",
      "I0328 12:14:23.868633 24732 tf_logging.py:116] Initialize variable dnn/input_from_feature_columns/input_layer/text_hub_module_embedding/module/SHARED_RANK_ANSWER/response_encoder_0/tanh_layer_2/weights:0 from checkpoint b'C:\\\\Users\\\\I349732\\\\AppData\\\\Local\\\\Temp\\\\tfhub_modules\\\\1fb57c3ffe1a38479233ee9853ddd7a8ac8a8c47\\\\variables\\\\variables' with SHARED_RANK_ANSWER/response_encoder_0/tanh_layer_2/weights\n",
      "I0328 12:14:23.880665 24732 tf_logging.py:116] Initialize variable dnn/input_from_feature_columns/input_layer/text_hub_module_embedding/module/SNLI/Classifier/LinearLayer/bias:0 from checkpoint b'C:\\\\Users\\\\I349732\\\\AppData\\\\Local\\\\Temp\\\\tfhub_modules\\\\1fb57c3ffe1a38479233ee9853ddd7a8ac8a8c47\\\\variables\\\\variables' with SNLI/Classifier/LinearLayer/bias\n",
      "I0328 12:14:23.890691 24732 tf_logging.py:116] Initialize variable dnn/input_from_feature_columns/input_layer/text_hub_module_embedding/module/SNLI/Classifier/LinearLayer/weights:0 from checkpoint b'C:\\\\Users\\\\I349732\\\\AppData\\\\Local\\\\Temp\\\\tfhub_modules\\\\1fb57c3ffe1a38479233ee9853ddd7a8ac8a8c47\\\\variables\\\\variables' with SNLI/Classifier/LinearLayer/weights\n",
      "I0328 12:14:23.897709 24732 tf_logging.py:116] Initialize variable dnn/input_from_feature_columns/input_layer/text_hub_module_embedding/module/SNLI/Classifier/tanh_layer_0/bias:0 from checkpoint b'C:\\\\Users\\\\I349732\\\\AppData\\\\Local\\\\Temp\\\\tfhub_modules\\\\1fb57c3ffe1a38479233ee9853ddd7a8ac8a8c47\\\\variables\\\\variables' with SNLI/Classifier/tanh_layer_0/bias\n",
      "I0328 12:14:23.905730 24732 tf_logging.py:116] Initialize variable dnn/input_from_feature_columns/input_layer/text_hub_module_embedding/module/SNLI/Classifier/tanh_layer_0/weights:0 from checkpoint b'C:\\\\Users\\\\I349732\\\\AppData\\\\Local\\\\Temp\\\\tfhub_modules\\\\1fb57c3ffe1a38479233ee9853ddd7a8ac8a8c47\\\\variables\\\\variables' with SNLI/Classifier/tanh_layer_0/weights\n",
      "I0328 12:14:23.913753 24732 tf_logging.py:116] Initialize variable dnn/input_from_feature_columns/input_layer/text_hub_module_embedding/module/global_step:0 from checkpoint b'C:\\\\Users\\\\I349732\\\\AppData\\\\Local\\\\Temp\\\\tfhub_modules\\\\1fb57c3ffe1a38479233ee9853ddd7a8ac8a8c47\\\\variables\\\\variables' with global_step\n",
      "I0328 12:14:38.685888 24732 tf_logging.py:116] Done calling model_fn.\n",
      "I0328 12:14:38.756074 24732 tf_logging.py:116] Starting evaluation at 2019-03-28-06:44:38\n",
      "I0328 12:14:39.486011 24732 tf_logging.py:116] Graph was finalized.\n",
      "I0328 12:14:39.488016 24732 tf_logging.py:116] Restoring parameters from C:\\Users\\I349732\\AppData\\Local\\Temp\\tmp8q57kksq\\model.ckpt-3609\n",
      "I0328 12:14:53.896126 24732 tf_logging.py:116] Running local_init_op.\n",
      "I0328 12:15:09.610120 24732 tf_logging.py:116] Done running local_init_op.\n",
      "I0328 12:16:04.962274 24732 tf_logging.py:116] Finished evaluation at 2019-03-28-06:46:04\n",
      "I0328 12:16:04.965289 24732 tf_logging.py:116] Saving dict for global step 3609: accuracy = 0.88149, accuracy_baseline = 0.507933, auc = 0.954769, auc_precision_recall = 0.958745, average_loss = 0.274443, global_step = 3609, label/mean = 0.507933, loss = 0.27423, prediction/mean = 0.489244\n"
     ]
    },
    {
     "data": {
      "text/plain": [
       "{'accuracy': 0.88149041,\n",
       " 'accuracy_baseline': 0.50793266,\n",
       " 'auc': 0.95476878,\n",
       " 'auc_precision_recall': 0.95874542,\n",
       " 'average_loss': 0.27444336,\n",
       " 'global_step': 3609,\n",
       " 'label/mean': 0.50793266,\n",
       " 'loss': 0.27423015,\n",
       " 'prediction/mean': 0.48924395}"
      ]
     },
     "execution_count": 62,
     "metadata": {},
     "output_type": "execute_result"
    }
   ],
   "source": [
    "eval_input_fn = tf.estimator.inputs.numpy_input_fn({\"text\": np.array(test_description).astype(np.str)}, test_encoded.astype(np.int32), shuffle=False)\n",
    "\n",
    "estimator.evaluate(input_fn=eval_input_fn)"
   ]
  },
  {
   "cell_type": "code",
   "execution_count": null,
   "metadata": {
    "collapsed": true
   },
   "outputs": [],
   "source": []
  }
 ],
 "metadata": {
  "kernelspec": {
   "display_name": "Python 3",
   "language": "python",
   "name": "python3"
  },
  "language_info": {
   "codemirror_mode": {
    "name": "ipython",
    "version": 3
   },
   "file_extension": ".py",
   "mimetype": "text/x-python",
   "name": "python",
   "nbconvert_exporter": "python",
   "pygments_lexer": "ipython3",
   "version": "3.5.4"
  }
 },
 "nbformat": 4,
 "nbformat_minor": 2
}
