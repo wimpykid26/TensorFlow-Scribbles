{
 "cells": [
  {
   "cell_type": "code",
   "execution_count": null,
   "metadata": {},
   "outputs": [],
   "source": [
    "from os import path, makedirs, rename, remove\n",
    "from time import time\n",
    "import argparse\n",
    "import pickle\n",
    "\n",
    "import numpy as np\n",
    "import pandas as pd\n",
    "import tensorflow_hub as hub\n",
    "import tensorflow as tf\n",
    "from sklearn.utils import shuffle\n",
    "from sklearn.preprocessing import LabelBinarizer"
   ]
  },
  {
   "cell_type": "code",
   "execution_count": null,
   "metadata": {
    "collapsed": true
   },
   "outputs": [],
   "source": [
    "train_data = pd.read_csv('./data_fake_news/train.csv')\n",
    "test_data = pd.read_csv('./data_fake_news/test.csv')"
   ]
  },
  {
   "cell_type": "code",
   "execution_count": null,
   "metadata": {},
   "outputs": [],
   "source": [
    "test_data.head()"
   ]
  },
  {
   "cell_type": "code",
   "execution_count": null,
   "metadata": {},
   "outputs": [],
   "source": [
    "descriptions = train_data['text']\n",
    "train_size = int(len(descriptions) * .8)\n",
    "labels = train_data['label']\n",
    "train_description = descriptions[:train_size].astype('str')\n",
    "train_labels = labels[:train_size]\n",
    "test_description = descriptions[train_size:].astype('str')\n",
    "test_labels = labels[train_size:]"
   ]
  },
  {
   "cell_type": "code",
   "execution_count": null,
   "metadata": {},
   "outputs": [],
   "source": [
    "top_labels = ['0', '1']\n",
    "description_embeddings = hub.text_embedding_column(\n",
    "  \"text\", \n",
    "  module_spec=\"https://tfhub.dev/google/universal-sentence-encoder/2\"\n",
    ")"
   ]
  },
  {
   "cell_type": "code",
   "execution_count": null,
   "metadata": {},
   "outputs": [],
   "source": [
    "encoder = LabelBinarizer()\n",
    "encoder.fit_transform(train_labels)\n",
    "train_encoded = encoder.transform(train_labels)\n",
    "test_encoded = encoder.transform(test_labels)\n",
    "num_classes = len(encoder.classes_)"
   ]
  },
  {
   "cell_type": "code",
   "execution_count": null,
   "metadata": {
    "collapsed": true
   },
   "outputs": [],
   "source": [
    "binary_label_head = tf.contrib.estimator.binary_classification_head(\n",
    "                        loss_reduction=tf.losses.Reduction.SUM_OVER_BATCH_SIZE\n",
    "                    )"
   ]
  },
  {
   "cell_type": "code",
   "execution_count": null,
   "metadata": {},
   "outputs": [],
   "source": [
    "estimator = tf.contrib.estimator.DNNEstimator(\n",
    "    head=binary_label_head,\n",
    "    hidden_units=[64,10],\n",
    "    feature_columns=[description_embeddings]\n",
    ")"
   ]
  },
  {
   "cell_type": "code",
   "execution_count": 85,
   "metadata": {},
   "outputs": [
    {
     "name": "stderr",
     "output_type": "stream",
     "text": [
      "I0328 14:28:40.211071 24732 tf_logging.py:116] Using default config.\n",
      "W0328 14:28:40.215081 24732 tf_logging.py:126] Using temporary folder as model directory: C:\\Users\\I349732\\AppData\\Local\\Temp\\tmpn8qc1fes\n",
      "I0328 14:28:40.217086 24732 tf_logging.py:116] Using config: {'_num_worker_replicas': 1, '_session_config': None, '_num_ps_replicas': 0, '_save_checkpoints_steps': None, '_master': '', '_task_type': 'worker', '_save_summary_steps': 100, '_log_step_count_steps': 100, '_keep_checkpoint_max': 5, '_save_checkpoints_secs': 600, '_is_chief': True, '_task_id': 0, '_global_id_in_cluster': 0, '_service': None, '_evaluation_master': '', '_cluster_spec': <tensorflow.python.training.server_lib.ClusterSpec object at 0x000001C622F4E9E8>, '_keep_checkpoint_every_n_hours': 10000, '_tf_random_seed': None, '_model_dir': 'C:\\\\Users\\\\I349732\\\\AppData\\\\Local\\\\Temp\\\\tmpn8qc1fes'}\n"
     ]
    }
   ],
   "source": [
    "estimator_linear_combined = tf.contrib.estimator.DNNLinearCombinedEstimator(\n",
    "    head=binary_label_head,\n",
    "    dnn_hidden_units=[64,10],\n",
    "    dnn_feature_columns=[description_embeddings]\n",
    ")"
   ]
  },
  {
   "cell_type": "code",
   "execution_count": 86,
   "metadata": {
    "collapsed": true
   },
   "outputs": [],
   "source": [
    "features = {\n",
    "  \"text\": np.array(train_description).astype(np.str)\n",
    "}\n",
    "labels = np.array(train_encoded).astype(np.int32)\n",
    "\n",
    "train_input_fn = tf.estimator.inputs.numpy_input_fn(\n",
    "    features, \n",
    "    labels, \n",
    "    shuffle=True, \n",
    "    batch_size=32, \n",
    "    num_epochs=20\n",
    ")"
   ]
  },
  {
   "cell_type": "code",
   "execution_count": 87,
   "metadata": {},
   "outputs": [
    {
     "name": "stderr",
     "output_type": "stream",
     "text": [
      "I0328 14:29:02.829283 24732 tf_logging.py:116] Calling model_fn.\n",
      "I0328 14:29:11.726186 24732 tf_logging.py:116] Initialize variable dnn/input_from_feature_columns/input_layer/text_hub_module_embedding/module/Embeddings_en/sharded_0:0 from checkpoint b'C:\\\\Users\\\\I349732\\\\AppData\\\\Local\\\\Temp\\\\tfhub_modules\\\\1fb57c3ffe1a38479233ee9853ddd7a8ac8a8c47\\\\variables\\\\variables' with Embeddings_en/sharded_0\n",
      "I0328 14:29:11.746273 24732 tf_logging.py:116] Initialize variable dnn/input_from_feature_columns/input_layer/text_hub_module_embedding/module/Embeddings_en/sharded_1:0 from checkpoint b'C:\\\\Users\\\\I349732\\\\AppData\\\\Local\\\\Temp\\\\tfhub_modules\\\\1fb57c3ffe1a38479233ee9853ddd7a8ac8a8c47\\\\variables\\\\variables' with Embeddings_en/sharded_1\n",
      "I0328 14:29:12.069132 24732 tf_logging.py:116] Initialize variable dnn/input_from_feature_columns/input_layer/text_hub_module_embedding/module/Embeddings_en/sharded_10:0 from checkpoint b'C:\\\\Users\\\\I349732\\\\AppData\\\\Local\\\\Temp\\\\tfhub_modules\\\\1fb57c3ffe1a38479233ee9853ddd7a8ac8a8c47\\\\variables\\\\variables' with Embeddings_en/sharded_10\n",
      "I0328 14:29:12.081132 24732 tf_logging.py:116] Initialize variable dnn/input_from_feature_columns/input_layer/text_hub_module_embedding/module/Embeddings_en/sharded_11:0 from checkpoint b'C:\\\\Users\\\\I349732\\\\AppData\\\\Local\\\\Temp\\\\tfhub_modules\\\\1fb57c3ffe1a38479233ee9853ddd7a8ac8a8c47\\\\variables\\\\variables' with Embeddings_en/sharded_11\n",
      "I0328 14:29:12.092162 24732 tf_logging.py:116] Initialize variable dnn/input_from_feature_columns/input_layer/text_hub_module_embedding/module/Embeddings_en/sharded_12:0 from checkpoint b'C:\\\\Users\\\\I349732\\\\AppData\\\\Local\\\\Temp\\\\tfhub_modules\\\\1fb57c3ffe1a38479233ee9853ddd7a8ac8a8c47\\\\variables\\\\variables' with Embeddings_en/sharded_12\n",
      "I0328 14:29:12.099210 24732 tf_logging.py:116] Initialize variable dnn/input_from_feature_columns/input_layer/text_hub_module_embedding/module/Embeddings_en/sharded_13:0 from checkpoint b'C:\\\\Users\\\\I349732\\\\AppData\\\\Local\\\\Temp\\\\tfhub_modules\\\\1fb57c3ffe1a38479233ee9853ddd7a8ac8a8c47\\\\variables\\\\variables' with Embeddings_en/sharded_13\n",
      "I0328 14:29:12.110208 24732 tf_logging.py:116] Initialize variable dnn/input_from_feature_columns/input_layer/text_hub_module_embedding/module/Embeddings_en/sharded_14:0 from checkpoint b'C:\\\\Users\\\\I349732\\\\AppData\\\\Local\\\\Temp\\\\tfhub_modules\\\\1fb57c3ffe1a38479233ee9853ddd7a8ac8a8c47\\\\variables\\\\variables' with Embeddings_en/sharded_14\n",
      "I0328 14:29:12.119232 24732 tf_logging.py:116] Initialize variable dnn/input_from_feature_columns/input_layer/text_hub_module_embedding/module/Embeddings_en/sharded_15:0 from checkpoint b'C:\\\\Users\\\\I349732\\\\AppData\\\\Local\\\\Temp\\\\tfhub_modules\\\\1fb57c3ffe1a38479233ee9853ddd7a8ac8a8c47\\\\variables\\\\variables' with Embeddings_en/sharded_15\n",
      "I0328 14:29:12.143414 24732 tf_logging.py:116] Initialize variable dnn/input_from_feature_columns/input_layer/text_hub_module_embedding/module/Embeddings_en/sharded_16:0 from checkpoint b'C:\\\\Users\\\\I349732\\\\AppData\\\\Local\\\\Temp\\\\tfhub_modules\\\\1fb57c3ffe1a38479233ee9853ddd7a8ac8a8c47\\\\variables\\\\variables' with Embeddings_en/sharded_16\n",
      "I0328 14:29:12.151434 24732 tf_logging.py:116] Initialize variable dnn/input_from_feature_columns/input_layer/text_hub_module_embedding/module/Embeddings_en/sharded_2:0 from checkpoint b'C:\\\\Users\\\\I349732\\\\AppData\\\\Local\\\\Temp\\\\tfhub_modules\\\\1fb57c3ffe1a38479233ee9853ddd7a8ac8a8c47\\\\variables\\\\variables' with Embeddings_en/sharded_2\n",
      "I0328 14:29:12.161432 24732 tf_logging.py:116] Initialize variable dnn/input_from_feature_columns/input_layer/text_hub_module_embedding/module/Embeddings_en/sharded_3:0 from checkpoint b'C:\\\\Users\\\\I349732\\\\AppData\\\\Local\\\\Temp\\\\tfhub_modules\\\\1fb57c3ffe1a38479233ee9853ddd7a8ac8a8c47\\\\variables\\\\variables' with Embeddings_en/sharded_3\n",
      "I0328 14:29:12.169485 24732 tf_logging.py:116] Initialize variable dnn/input_from_feature_columns/input_layer/text_hub_module_embedding/module/Embeddings_en/sharded_4:0 from checkpoint b'C:\\\\Users\\\\I349732\\\\AppData\\\\Local\\\\Temp\\\\tfhub_modules\\\\1fb57c3ffe1a38479233ee9853ddd7a8ac8a8c47\\\\variables\\\\variables' with Embeddings_en/sharded_4\n",
      "I0328 14:29:12.179477 24732 tf_logging.py:116] Initialize variable dnn/input_from_feature_columns/input_layer/text_hub_module_embedding/module/Embeddings_en/sharded_5:0 from checkpoint b'C:\\\\Users\\\\I349732\\\\AppData\\\\Local\\\\Temp\\\\tfhub_modules\\\\1fb57c3ffe1a38479233ee9853ddd7a8ac8a8c47\\\\variables\\\\variables' with Embeddings_en/sharded_5\n",
      "I0328 14:29:12.186532 24732 tf_logging.py:116] Initialize variable dnn/input_from_feature_columns/input_layer/text_hub_module_embedding/module/Embeddings_en/sharded_6:0 from checkpoint b'C:\\\\Users\\\\I349732\\\\AppData\\\\Local\\\\Temp\\\\tfhub_modules\\\\1fb57c3ffe1a38479233ee9853ddd7a8ac8a8c47\\\\variables\\\\variables' with Embeddings_en/sharded_6\n",
      "I0328 14:29:12.196558 24732 tf_logging.py:116] Initialize variable dnn/input_from_feature_columns/input_layer/text_hub_module_embedding/module/Embeddings_en/sharded_7:0 from checkpoint b'C:\\\\Users\\\\I349732\\\\AppData\\\\Local\\\\Temp\\\\tfhub_modules\\\\1fb57c3ffe1a38479233ee9853ddd7a8ac8a8c47\\\\variables\\\\variables' with Embeddings_en/sharded_7\n",
      "I0328 14:29:12.203541 24732 tf_logging.py:116] Initialize variable dnn/input_from_feature_columns/input_layer/text_hub_module_embedding/module/Embeddings_en/sharded_8:0 from checkpoint b'C:\\\\Users\\\\I349732\\\\AppData\\\\Local\\\\Temp\\\\tfhub_modules\\\\1fb57c3ffe1a38479233ee9853ddd7a8ac8a8c47\\\\variables\\\\variables' with Embeddings_en/sharded_8\n",
      "I0328 14:29:12.213570 24732 tf_logging.py:116] Initialize variable dnn/input_from_feature_columns/input_layer/text_hub_module_embedding/module/Embeddings_en/sharded_9:0 from checkpoint b'C:\\\\Users\\\\I349732\\\\AppData\\\\Local\\\\Temp\\\\tfhub_modules\\\\1fb57c3ffe1a38479233ee9853ddd7a8ac8a8c47\\\\variables\\\\variables' with Embeddings_en/sharded_9\n",
      "I0328 14:29:12.222592 24732 tf_logging.py:116] Initialize variable dnn/input_from_feature_columns/input_layer/text_hub_module_embedding/module/Encoder_en/DNN/ResidualHidden_0/weights:0 from checkpoint b'C:\\\\Users\\\\I349732\\\\AppData\\\\Local\\\\Temp\\\\tfhub_modules\\\\1fb57c3ffe1a38479233ee9853ddd7a8ac8a8c47\\\\variables\\\\variables' with Encoder_en/DNN/ResidualHidden_0/weights\n",
      "I0328 14:29:12.231617 24732 tf_logging.py:116] Initialize variable dnn/input_from_feature_columns/input_layer/text_hub_module_embedding/module/Encoder_en/DNN/ResidualHidden_1/weights:0 from checkpoint b'C:\\\\Users\\\\I349732\\\\AppData\\\\Local\\\\Temp\\\\tfhub_modules\\\\1fb57c3ffe1a38479233ee9853ddd7a8ac8a8c47\\\\variables\\\\variables' with Encoder_en/DNN/ResidualHidden_1/weights\n",
      "I0328 14:29:12.239640 24732 tf_logging.py:116] Initialize variable dnn/input_from_feature_columns/input_layer/text_hub_module_embedding/module/Encoder_en/DNN/ResidualHidden_2/weights:0 from checkpoint b'C:\\\\Users\\\\I349732\\\\AppData\\\\Local\\\\Temp\\\\tfhub_modules\\\\1fb57c3ffe1a38479233ee9853ddd7a8ac8a8c47\\\\variables\\\\variables' with Encoder_en/DNN/ResidualHidden_2/weights\n",
      "I0328 14:29:12.247668 24732 tf_logging.py:116] Initialize variable dnn/input_from_feature_columns/input_layer/text_hub_module_embedding/module/Encoder_en/DNN/ResidualHidden_3/projection:0 from checkpoint b'C:\\\\Users\\\\I349732\\\\AppData\\\\Local\\\\Temp\\\\tfhub_modules\\\\1fb57c3ffe1a38479233ee9853ddd7a8ac8a8c47\\\\variables\\\\variables' with Encoder_en/DNN/ResidualHidden_3/projection\n",
      "I0328 14:29:12.256683 24732 tf_logging.py:116] Initialize variable dnn/input_from_feature_columns/input_layer/text_hub_module_embedding/module/Encoder_en/DNN/ResidualHidden_3/weights:0 from checkpoint b'C:\\\\Users\\\\I349732\\\\AppData\\\\Local\\\\Temp\\\\tfhub_modules\\\\1fb57c3ffe1a38479233ee9853ddd7a8ac8a8c47\\\\variables\\\\variables' with Encoder_en/DNN/ResidualHidden_3/weights\n",
      "I0328 14:29:12.264706 24732 tf_logging.py:116] Initialize variable dnn/input_from_feature_columns/input_layer/text_hub_module_embedding/module/SHARED_RANK_ANSWER/response_encoder_0/tanh_layer_0/bias:0 from checkpoint b'C:\\\\Users\\\\I349732\\\\AppData\\\\Local\\\\Temp\\\\tfhub_modules\\\\1fb57c3ffe1a38479233ee9853ddd7a8ac8a8c47\\\\variables\\\\variables' with SHARED_RANK_ANSWER/response_encoder_0/tanh_layer_0/bias\n",
      "I0328 14:29:12.272725 24732 tf_logging.py:116] Initialize variable dnn/input_from_feature_columns/input_layer/text_hub_module_embedding/module/SHARED_RANK_ANSWER/response_encoder_0/tanh_layer_0/weights:0 from checkpoint b'C:\\\\Users\\\\I349732\\\\AppData\\\\Local\\\\Temp\\\\tfhub_modules\\\\1fb57c3ffe1a38479233ee9853ddd7a8ac8a8c47\\\\variables\\\\variables' with SHARED_RANK_ANSWER/response_encoder_0/tanh_layer_0/weights\n"
     ]
    },
    {
     "name": "stderr",
     "output_type": "stream",
     "text": [
      "I0328 14:29:12.281748 24732 tf_logging.py:116] Initialize variable dnn/input_from_feature_columns/input_layer/text_hub_module_embedding/module/SHARED_RANK_ANSWER/response_encoder_0/tanh_layer_1/bias:0 from checkpoint b'C:\\\\Users\\\\I349732\\\\AppData\\\\Local\\\\Temp\\\\tfhub_modules\\\\1fb57c3ffe1a38479233ee9853ddd7a8ac8a8c47\\\\variables\\\\variables' with SHARED_RANK_ANSWER/response_encoder_0/tanh_layer_1/bias\n",
      "I0328 14:29:12.292779 24732 tf_logging.py:116] Initialize variable dnn/input_from_feature_columns/input_layer/text_hub_module_embedding/module/SHARED_RANK_ANSWER/response_encoder_0/tanh_layer_1/weights:0 from checkpoint b'C:\\\\Users\\\\I349732\\\\AppData\\\\Local\\\\Temp\\\\tfhub_modules\\\\1fb57c3ffe1a38479233ee9853ddd7a8ac8a8c47\\\\variables\\\\variables' with SHARED_RANK_ANSWER/response_encoder_0/tanh_layer_1/weights\n",
      "I0328 14:29:12.301803 24732 tf_logging.py:116] Initialize variable dnn/input_from_feature_columns/input_layer/text_hub_module_embedding/module/SHARED_RANK_ANSWER/response_encoder_0/tanh_layer_2/bias:0 from checkpoint b'C:\\\\Users\\\\I349732\\\\AppData\\\\Local\\\\Temp\\\\tfhub_modules\\\\1fb57c3ffe1a38479233ee9853ddd7a8ac8a8c47\\\\variables\\\\variables' with SHARED_RANK_ANSWER/response_encoder_0/tanh_layer_2/bias\n",
      "I0328 14:29:12.312832 24732 tf_logging.py:116] Initialize variable dnn/input_from_feature_columns/input_layer/text_hub_module_embedding/module/SHARED_RANK_ANSWER/response_encoder_0/tanh_layer_2/weights:0 from checkpoint b'C:\\\\Users\\\\I349732\\\\AppData\\\\Local\\\\Temp\\\\tfhub_modules\\\\1fb57c3ffe1a38479233ee9853ddd7a8ac8a8c47\\\\variables\\\\variables' with SHARED_RANK_ANSWER/response_encoder_0/tanh_layer_2/weights\n",
      "I0328 14:29:12.322859 24732 tf_logging.py:116] Initialize variable dnn/input_from_feature_columns/input_layer/text_hub_module_embedding/module/SNLI/Classifier/LinearLayer/bias:0 from checkpoint b'C:\\\\Users\\\\I349732\\\\AppData\\\\Local\\\\Temp\\\\tfhub_modules\\\\1fb57c3ffe1a38479233ee9853ddd7a8ac8a8c47\\\\variables\\\\variables' with SNLI/Classifier/LinearLayer/bias\n",
      "I0328 14:29:12.331883 24732 tf_logging.py:116] Initialize variable dnn/input_from_feature_columns/input_layer/text_hub_module_embedding/module/SNLI/Classifier/LinearLayer/weights:0 from checkpoint b'C:\\\\Users\\\\I349732\\\\AppData\\\\Local\\\\Temp\\\\tfhub_modules\\\\1fb57c3ffe1a38479233ee9853ddd7a8ac8a8c47\\\\variables\\\\variables' with SNLI/Classifier/LinearLayer/weights\n",
      "I0328 14:29:12.339904 24732 tf_logging.py:116] Initialize variable dnn/input_from_feature_columns/input_layer/text_hub_module_embedding/module/SNLI/Classifier/tanh_layer_0/bias:0 from checkpoint b'C:\\\\Users\\\\I349732\\\\AppData\\\\Local\\\\Temp\\\\tfhub_modules\\\\1fb57c3ffe1a38479233ee9853ddd7a8ac8a8c47\\\\variables\\\\variables' with SNLI/Classifier/tanh_layer_0/bias\n",
      "I0328 14:29:12.348928 24732 tf_logging.py:116] Initialize variable dnn/input_from_feature_columns/input_layer/text_hub_module_embedding/module/SNLI/Classifier/tanh_layer_0/weights:0 from checkpoint b'C:\\\\Users\\\\I349732\\\\AppData\\\\Local\\\\Temp\\\\tfhub_modules\\\\1fb57c3ffe1a38479233ee9853ddd7a8ac8a8c47\\\\variables\\\\variables' with SNLI/Classifier/tanh_layer_0/weights\n",
      "I0328 14:29:12.357988 24732 tf_logging.py:116] Initialize variable dnn/input_from_feature_columns/input_layer/text_hub_module_embedding/module/global_step:0 from checkpoint b'C:\\\\Users\\\\I349732\\\\AppData\\\\Local\\\\Temp\\\\tfhub_modules\\\\1fb57c3ffe1a38479233ee9853ddd7a8ac8a8c47\\\\variables\\\\variables' with global_step\n",
      "I0328 14:29:25.518815 24732 tf_logging.py:116] Done calling model_fn.\n",
      "I0328 14:29:25.519783 24732 tf_logging.py:116] Create CheckpointSaverHook.\n",
      "I0328 14:29:44.801478 24732 tf_logging.py:116] Graph was finalized.\n",
      "I0328 14:29:53.847449 24732 tf_logging.py:116] Running local_init_op.\n",
      "I0328 14:30:09.538515 24732 tf_logging.py:116] Done running local_init_op.\n",
      "I0328 14:30:44.638948 24732 tf_logging.py:116] Saving checkpoints for 1 into C:\\Users\\I349732\\AppData\\Local\\Temp\\tmpn8qc1fes\\model.ckpt.\n",
      "I0328 14:30:58.655190 24732 tf_logging.py:116] loss = 0.692717, step = 1\n",
      "I0328 14:31:32.656774 24732 tf_logging.py:116] global_step/sec: 2.93969\n",
      "I0328 14:31:32.656774 24732 tf_logging.py:116] loss = 0.685796, step = 101 (34.017 sec)\n",
      "I0328 14:32:04.576710 24732 tf_logging.py:116] global_step/sec: 3.13294\n",
      "I0328 14:32:04.580722 24732 tf_logging.py:116] loss = 0.697225, step = 201 (31.924 sec)\n",
      "I0328 14:32:35.847281 24732 tf_logging.py:116] global_step/sec: 3.19779\n",
      "I0328 14:32:35.853295 24732 tf_logging.py:116] loss = 0.69253, step = 301 (31.273 sec)\n",
      "I0328 14:33:05.960881 24732 tf_logging.py:116] global_step/sec: 3.32076\n",
      "I0328 14:33:05.963891 24732 tf_logging.py:116] loss = 0.688694, step = 401 (30.111 sec)\n",
      "I0328 14:33:36.888107 24732 tf_logging.py:116] global_step/sec: 3.2335\n",
      "I0328 14:33:36.892119 24732 tf_logging.py:116] loss = 0.690967, step = 501 (30.928 sec)\n",
      "I0328 14:34:07.856445 24732 tf_logging.py:116] global_step/sec: 3.229\n",
      "I0328 14:34:07.875490 24732 tf_logging.py:116] loss = 0.688478, step = 601 (30.983 sec)\n",
      "I0328 14:34:39.135614 24732 tf_logging.py:116] global_step/sec: 3.19712\n",
      "I0328 14:34:39.139624 24732 tf_logging.py:116] loss = 0.688108, step = 701 (31.264 sec)\n",
      "I0328 14:35:14.285082 24732 tf_logging.py:116] global_step/sec: 2.84491\n",
      "I0328 14:35:14.296111 24732 tf_logging.py:116] loss = 0.693199, step = 801 (35.156 sec)\n",
      "I0328 14:35:44.920550 24732 tf_logging.py:116] global_step/sec: 3.26419\n",
      "I0328 14:35:44.924561 24732 tf_logging.py:116] loss = 0.680423, step = 901 (30.627 sec)\n",
      "I0328 14:36:14.097136 24732 tf_logging.py:116] global_step/sec: 3.42741\n",
      "I0328 14:36:14.114250 24732 tf_logging.py:116] loss = 0.691454, step = 1001 (29.191 sec)\n",
      "I0328 14:36:43.896444 24732 tf_logging.py:116] global_step/sec: 3.35578\n",
      "I0328 14:36:43.901459 24732 tf_logging.py:116] loss = 0.685457, step = 1101 (29.787 sec)\n",
      "I0328 14:37:13.381850 24732 tf_logging.py:116] global_step/sec: 3.39151\n",
      "I0328 14:37:13.386864 24732 tf_logging.py:116] loss = 0.693207, step = 1201 (29.485 sec)\n",
      "I0328 14:37:45.110222 24732 tf_logging.py:116] global_step/sec: 3.15175\n",
      "I0328 14:37:45.115235 24732 tf_logging.py:116] loss = 0.685617, step = 1301 (31.728 sec)\n",
      "I0328 14:38:15.468743 24732 tf_logging.py:116] global_step/sec: 3.29408\n",
      "I0328 14:38:15.486799 24732 tf_logging.py:116] loss = 0.677786, step = 1401 (30.372 sec)\n",
      "I0328 14:38:44.994945 24732 tf_logging.py:116] global_step/sec: 3.38671\n",
      "I0328 14:38:45.017374 24732 tf_logging.py:116] loss = 0.685201, step = 1501 (29.531 sec)\n",
      "I0328 14:39:13.695193 24732 tf_logging.py:116] global_step/sec: 3.48441\n",
      "I0328 14:39:13.701209 24732 tf_logging.py:116] loss = 0.685851, step = 1601 (28.684 sec)\n",
      "I0328 14:39:48.499743 24732 tf_logging.py:116] global_step/sec: 2.8731\n",
      "I0328 14:39:48.504758 24732 tf_logging.py:116] loss = 0.691431, step = 1701 (34.804 sec)\n",
      "I0328 14:40:19.718839 24732 tf_logging.py:116] global_step/sec: 3.20317\n",
      "I0328 14:40:19.735877 24732 tf_logging.py:116] loss = 0.68763, step = 1801 (31.231 sec)\n",
      "I0328 14:40:44.683215 24732 tf_logging.py:116] Saving checkpoints for 1892 into C:\\Users\\I349732\\AppData\\Local\\Temp\\tmpn8qc1fes\\model.ckpt.\n",
      "I0328 14:41:03.987166 24732 tf_logging.py:116] global_step/sec: 2.25895\n",
      "I0328 14:41:03.992181 24732 tf_logging.py:116] loss = 0.690787, step = 1901 (44.256 sec)\n",
      "I0328 14:41:32.030348 24732 tf_logging.py:116] global_step/sec: 3.56593\n",
      "I0328 14:41:32.034358 24732 tf_logging.py:116] loss = 0.685015, step = 2001 (28.042 sec)\n",
      "I0328 14:41:59.029142 24732 tf_logging.py:116] global_step/sec: 3.70387\n",
      "I0328 14:41:59.034157 24732 tf_logging.py:116] loss = 0.678728, step = 2101 (27.000 sec)\n",
      "I0328 14:42:34.737288 24732 tf_logging.py:116] global_step/sec: 2.80048\n",
      "I0328 14:42:34.744121 24732 tf_logging.py:116] loss = 0.684615, step = 2201 (35.710 sec)\n",
      "I0328 14:43:05.416684 24732 tf_logging.py:116] global_step/sec: 3.25952\n",
      "I0328 14:43:05.421699 24732 tf_logging.py:116] loss = 0.675941, step = 2301 (30.678 sec)\n",
      "I0328 14:43:35.502687 24732 tf_logging.py:116] global_step/sec: 3.3238\n",
      "I0328 14:43:35.507703 24732 tf_logging.py:116] loss = 0.679711, step = 2401 (30.086 sec)\n",
      "I0328 14:44:10.204967 24732 tf_logging.py:116] global_step/sec: 2.88166\n",
      "I0328 14:44:10.209980 24732 tf_logging.py:116] loss = 0.674005, step = 2501 (34.702 sec)\n",
      "I0328 14:44:41.169076 24732 tf_logging.py:116] global_step/sec: 3.22955\n",
      "I0328 14:44:41.187944 24732 tf_logging.py:116] loss = 0.68217, step = 2601 (30.978 sec)\n"
     ]
    },
    {
     "name": "stderr",
     "output_type": "stream",
     "text": [
      "I0328 14:45:12.899289 24732 tf_logging.py:116] global_step/sec: 3.15157\n",
      "I0328 14:45:12.905298 24732 tf_logging.py:116] loss = 0.671467, step = 2701 (31.716 sec)\n",
      "I0328 14:45:42.084892 24732 tf_logging.py:116] global_step/sec: 3.42635\n",
      "I0328 14:45:42.089908 24732 tf_logging.py:116] loss = 0.677121, step = 2801 (29.186 sec)\n",
      "I0328 14:46:10.917565 24732 tf_logging.py:116] global_step/sec: 3.46829\n",
      "I0328 14:46:10.920572 24732 tf_logging.py:116] loss = 0.685724, step = 2901 (28.831 sec)\n",
      "I0328 14:46:39.850501 24732 tf_logging.py:116] global_step/sec: 3.45627\n",
      "I0328 14:46:39.854513 24732 tf_logging.py:116] loss = 0.67564, step = 3001 (28.934 sec)\n",
      "I0328 14:47:12.458210 24732 tf_logging.py:116] global_step/sec: 3.06685\n",
      "I0328 14:47:12.470243 24732 tf_logging.py:116] loss = 0.681831, step = 3101 (32.616 sec)\n",
      "I0328 14:47:41.688939 24732 tf_logging.py:116] global_step/sec: 3.42094\n",
      "I0328 14:47:41.692951 24732 tf_logging.py:116] loss = 0.678009, step = 3201 (29.223 sec)\n",
      "I0328 14:48:11.783968 24732 tf_logging.py:116] global_step/sec: 3.32281\n",
      "I0328 14:48:11.788982 24732 tf_logging.py:116] loss = 0.677065, step = 3301 (30.096 sec)\n",
      "I0328 14:48:41.938152 24732 tf_logging.py:116] global_step/sec: 3.31629\n",
      "I0328 14:48:41.943166 24732 tf_logging.py:116] loss = 0.674941, step = 3401 (30.154 sec)\n",
      "I0328 14:49:13.627935 24732 tf_logging.py:116] global_step/sec: 3.15559\n",
      "I0328 14:49:13.646979 24732 tf_logging.py:116] loss = 0.648684, step = 3501 (31.704 sec)\n",
      "I0328 14:49:41.502066 24732 tf_logging.py:116] global_step/sec: 3.58756\n",
      "I0328 14:49:41.506078 24732 tf_logging.py:116] loss = 0.676269, step = 3601 (27.859 sec)\n",
      "I0328 14:50:08.939027 24732 tf_logging.py:116] global_step/sec: 3.64485\n",
      "I0328 14:50:08.951060 24732 tf_logging.py:116] loss = 0.670946, step = 3701 (27.445 sec)\n",
      "I0328 14:50:42.230554 24732 tf_logging.py:116] global_step/sec: 3.00368\n",
      "I0328 14:50:42.234565 24732 tf_logging.py:116] loss = 0.654464, step = 3801 (33.284 sec)\n",
      "I0328 14:50:44.819437 24732 tf_logging.py:116] Saving checkpoints for 3810 into C:\\Users\\I349732\\AppData\\Local\\Temp\\tmpn8qc1fes\\model.ckpt.\n",
      "I0328 14:51:25.468850 24732 tf_logging.py:116] global_step/sec: 2.31276\n",
      "I0328 14:51:25.485665 24732 tf_logging.py:116] loss = 0.6754, step = 3901 (43.250 sec)\n",
      "I0328 14:51:55.106430 24732 tf_logging.py:116] global_step/sec: 3.37409\n",
      "I0328 14:51:55.110921 24732 tf_logging.py:116] loss = 0.66512, step = 4001 (29.626 sec)\n",
      "I0328 14:52:22.257240 24732 tf_logging.py:116] global_step/sec: 3.68327\n",
      "I0328 14:52:22.262268 24732 tf_logging.py:116] loss = 0.662435, step = 4101 (27.151 sec)\n",
      "I0328 14:52:49.919067 24732 tf_logging.py:116] global_step/sec: 3.61496\n",
      "I0328 14:52:49.923080 24732 tf_logging.py:116] loss = 0.668023, step = 4201 (27.661 sec)\n",
      "I0328 14:53:21.138110 24732 tf_logging.py:116] global_step/sec: 3.20317\n",
      "I0328 14:53:21.142122 24732 tf_logging.py:116] loss = 0.664302, step = 4301 (31.219 sec)\n",
      "I0328 14:53:48.900110 24732 tf_logging.py:116] global_step/sec: 3.60205\n",
      "I0328 14:53:48.913146 24732 tf_logging.py:116] loss = 0.66721, step = 4401 (27.771 sec)\n",
      "I0328 14:54:18.556229 24732 tf_logging.py:116] global_step/sec: 3.3721\n",
      "I0328 14:54:18.560241 24732 tf_logging.py:116] loss = 0.669466, step = 4501 (29.647 sec)\n",
      "I0328 14:54:49.714933 24732 tf_logging.py:116] global_step/sec: 3.20927\n",
      "I0328 14:54:49.718944 24732 tf_logging.py:116] loss = 0.667541, step = 4601 (31.159 sec)\n",
      "I0328 14:55:17.596998 24732 tf_logging.py:116] global_step/sec: 3.58666\n",
      "I0328 14:55:17.601010 24732 tf_logging.py:116] loss = 0.665654, step = 4701 (27.882 sec)\n",
      "I0328 14:55:47.937679 24732 tf_logging.py:116] global_step/sec: 3.2958\n",
      "I0328 14:55:47.941021 24732 tf_logging.py:116] loss = 0.643106, step = 4801 (30.340 sec)\n",
      "I0328 14:56:17.810810 24732 tf_logging.py:116] global_step/sec: 3.3476\n",
      "I0328 14:56:17.826641 24732 tf_logging.py:116] loss = 0.642807, step = 4901 (29.886 sec)\n",
      "I0328 14:56:46.814760 24732 tf_logging.py:116] global_step/sec: 3.44769\n",
      "I0328 14:56:46.819737 24732 tf_logging.py:116] loss = 0.667541, step = 5001 (28.993 sec)\n",
      "I0328 14:57:15.988008 24732 tf_logging.py:116] global_step/sec: 3.42792\n",
      "I0328 14:57:15.992020 24732 tf_logging.py:116] loss = 0.658726, step = 5101 (29.172 sec)\n",
      "I0328 14:57:44.365202 24732 tf_logging.py:116] global_step/sec: 3.52383\n",
      "I0328 14:57:44.370215 24732 tf_logging.py:116] loss = 0.646495, step = 5201 (28.378 sec)\n",
      "I0328 14:58:16.599858 24732 tf_logging.py:116] global_step/sec: 3.10225\n",
      "I0328 14:58:16.604874 24732 tf_logging.py:116] loss = 0.655409, step = 5301 (32.235 sec)\n",
      "I0328 14:58:46.478289 24732 tf_logging.py:116] global_step/sec: 3.34701\n",
      "I0328 14:58:46.496054 24732 tf_logging.py:116] loss = 0.651304, step = 5401 (29.891 sec)\n",
      "I0328 14:59:15.455973 24732 tf_logging.py:116] global_step/sec: 3.45081\n",
      "I0328 14:59:15.460990 24732 tf_logging.py:116] loss = 0.640264, step = 5501 (28.965 sec)\n",
      "I0328 14:59:43.943472 24732 tf_logging.py:116] global_step/sec: 3.51031\n",
      "I0328 14:59:43.947485 24732 tf_logging.py:116] loss = 0.64678, step = 5601 (28.486 sec)\n",
      "I0328 15:00:11.603025 24732 tf_logging.py:116] global_step/sec: 3.61539\n",
      "I0328 15:00:11.608039 24732 tf_logging.py:116] loss = 0.634605, step = 5701 (27.661 sec)\n",
      "I0328 15:00:43.084833 24732 tf_logging.py:116] global_step/sec: 3.17644\n",
      "I0328 15:00:43.089849 24732 tf_logging.py:116] loss = 0.659477, step = 5801 (31.481 sec)\n",
      "I0328 15:00:44.946785 24732 tf_logging.py:116] Saving checkpoints for 5806 into C:\\Users\\I349732\\AppData\\Local\\Temp\\tmpn8qc1fes\\model.ckpt.\n",
      "I0328 15:01:27.552918 24732 tf_logging.py:116] global_step/sec: 2.2488\n",
      "I0328 15:01:27.558935 24732 tf_logging.py:116] loss = 0.635021, step = 5901 (44.469 sec)\n",
      "I0328 15:01:55.365375 24732 tf_logging.py:116] global_step/sec: 3.59551\n",
      "I0328 15:01:55.371394 24732 tf_logging.py:116] loss = 0.660804, step = 6001 (27.813 sec)\n",
      "I0328 15:02:23.519241 24732 tf_logging.py:116] global_step/sec: 3.55204\n",
      "I0328 15:02:23.523253 24732 tf_logging.py:116] loss = 0.640775, step = 6101 (28.152 sec)\n",
      "I0328 15:02:50.732983 24732 tf_logging.py:116] global_step/sec: 3.67448\n",
      "I0328 15:02:50.736996 24732 tf_logging.py:116] loss = 0.643687, step = 6201 (27.213 sec)\n",
      "I0328 15:03:21.116503 24732 tf_logging.py:116] global_step/sec: 3.29126\n",
      "I0328 15:03:21.122889 24732 tf_logging.py:116] loss = 0.648529, step = 6301 (30.387 sec)\n",
      "I0328 15:03:51.627984 24732 tf_logging.py:116] global_step/sec: 3.27745\n",
      "I0328 15:03:51.630985 24732 tf_logging.py:116] loss = 0.637242, step = 6401 (30.508 sec)\n",
      "I0328 15:04:20.403495 24732 tf_logging.py:116] global_step/sec: 3.47518\n",
      "I0328 15:04:20.409513 24732 tf_logging.py:116] loss = 0.643687, step = 6501 (28.779 sec)\n",
      "I0328 15:04:48.235507 24732 tf_logging.py:116] global_step/sec: 3.59299\n",
      "I0328 15:04:48.241523 24732 tf_logging.py:116] loss = 0.660124, step = 6601 (27.832 sec)\n",
      "I0328 15:05:14.123275 24732 tf_logging.py:116] global_step/sec: 3.86283\n",
      "I0328 15:05:14.127287 24732 tf_logging.py:116] loss = 0.623596, step = 6701 (25.886 sec)\n",
      "I0328 15:05:42.809557 24732 tf_logging.py:116] global_step/sec: 3.48599\n",
      "I0328 15:05:42.827578 24732 tf_logging.py:116] loss = 0.650785, step = 6801 (28.700 sec)\n",
      "I0328 15:06:14.675265 24732 tf_logging.py:116] global_step/sec: 3.13817\n",
      "I0328 15:06:14.679277 24732 tf_logging.py:116] loss = 0.623001, step = 6901 (31.852 sec)\n",
      "I0328 15:06:44.051830 24732 tf_logging.py:116] global_step/sec: 3.40407\n",
      "I0328 15:06:44.056843 24732 tf_logging.py:116] loss = 0.615693, step = 7001 (29.378 sec)\n",
      "I0328 15:07:14.788563 24732 tf_logging.py:116] global_step/sec: 3.25344\n",
      "I0328 15:07:14.793579 24732 tf_logging.py:116] loss = 0.633421, step = 7101 (30.737 sec)\n",
      "I0328 15:07:41.164395 24732 tf_logging.py:116] global_step/sec: 3.79135\n",
      "I0328 15:07:41.168410 24732 tf_logging.py:116] loss = 0.609313, step = 7201 (26.375 sec)\n",
      "I0328 15:08:08.656110 24732 tf_logging.py:116] global_step/sec: 3.63746\n",
      "I0328 15:08:08.669146 24732 tf_logging.py:116] loss = 0.635367, step = 7301 (27.501 sec)\n",
      "I0328 15:08:40.102732 24732 tf_logging.py:116] global_step/sec: 3.17999\n",
      "I0328 15:08:40.106744 24732 tf_logging.py:116] loss = 0.62576, step = 7401 (31.438 sec)\n",
      "I0328 15:09:08.164757 24732 tf_logging.py:116] global_step/sec: 3.56366\n",
      "I0328 15:09:08.168768 24732 tf_logging.py:116] loss = 0.641542, step = 7501 (28.061 sec)\n",
      "I0328 15:09:37.351369 24732 tf_logging.py:116] global_step/sec: 3.42611\n"
     ]
    },
    {
     "name": "stderr",
     "output_type": "stream",
     "text": [
      "I0328 15:09:37.355380 24732 tf_logging.py:116] loss = 0.62531, step = 7601 (29.188 sec)\n",
      "I0328 15:10:10.767970 24732 tf_logging.py:116] global_step/sec: 2.99252\n",
      "I0328 15:10:10.790021 24732 tf_logging.py:116] loss = 0.57371, step = 7701 (33.435 sec)\n",
      "I0328 15:10:40.295479 24732 tf_logging.py:116] global_step/sec: 3.38667\n",
      "I0328 15:10:40.300492 24732 tf_logging.py:116] loss = 0.627666, step = 7801 (29.510 sec)\n",
      "I0328 15:10:45.026058 24732 tf_logging.py:116] Saving checkpoints for 7819 into C:\\Users\\I349732\\AppData\\Local\\Temp\\tmpn8qc1fes\\model.ckpt.\n",
      "I0328 15:11:24.857712 24732 tf_logging.py:116] global_step/sec: 2.2441\n",
      "I0328 15:11:24.861728 24732 tf_logging.py:116] loss = 0.655907, step = 7901 (44.561 sec)\n",
      "I0328 15:11:53.637577 24732 tf_logging.py:116] global_step/sec: 3.47465\n",
      "I0328 15:11:53.641588 24732 tf_logging.py:116] loss = 0.619349, step = 8001 (28.780 sec)\n",
      "I0328 15:12:22.226966 24732 tf_logging.py:116] global_step/sec: 3.49768\n",
      "I0328 15:12:22.239929 24732 tf_logging.py:116] loss = 0.627131, step = 8101 (28.598 sec)\n",
      "I0328 15:12:51.813919 24732 tf_logging.py:116] global_step/sec: 3.37987\n",
      "I0328 15:12:51.818934 24732 tf_logging.py:116] loss = 0.607449, step = 8201 (29.579 sec)\n",
      "I0328 15:13:17.629566 24732 tf_logging.py:116] global_step/sec: 3.87362\n",
      "I0328 15:13:17.634581 24732 tf_logging.py:116] loss = 0.62965, step = 8301 (25.816 sec)\n",
      "I0328 15:13:47.716574 24732 tf_logging.py:116] global_step/sec: 3.32369\n",
      "I0328 15:13:47.720585 24732 tf_logging.py:116] loss = 0.638403, step = 8401 (30.086 sec)\n",
      "I0328 15:14:18.019775 24732 tf_logging.py:116] global_step/sec: 3.30009\n",
      "I0328 15:14:18.024788 24732 tf_logging.py:116] loss = 0.580291, step = 8501 (30.304 sec)\n",
      "I0328 15:14:47.455495 24732 tf_logging.py:116] global_step/sec: 3.39712\n",
      "I0328 15:14:47.472317 24732 tf_logging.py:116] loss = 0.600036, step = 8601 (29.448 sec)\n",
      "I0328 15:15:15.120836 24732 tf_logging.py:116] global_step/sec: 3.61476\n",
      "I0328 15:15:15.124849 24732 tf_logging.py:116] loss = 0.62313, step = 8701 (27.653 sec)\n",
      "I0328 15:15:41.741625 24732 tf_logging.py:116] global_step/sec: 3.75646\n",
      "I0328 15:15:41.745637 24732 tf_logging.py:116] loss = 0.595104, step = 8801 (26.621 sec)\n",
      "I0328 15:16:09.442286 24732 tf_logging.py:116] global_step/sec: 3.60989\n",
      "I0328 15:16:09.446297 24732 tf_logging.py:116] loss = 0.585686, step = 8901 (27.701 sec)\n",
      "I0328 15:16:41.631884 24732 tf_logging.py:116] global_step/sec: 3.10659\n",
      "I0328 15:16:41.636899 24732 tf_logging.py:116] loss = 0.579714, step = 9001 (32.191 sec)\n",
      "I0328 15:17:12.471892 24732 tf_logging.py:116] global_step/sec: 3.24265\n",
      "I0328 15:17:12.476907 24732 tf_logging.py:116] loss = 0.591652, step = 9101 (30.840 sec)\n",
      "I0328 15:17:40.807240 24732 tf_logging.py:116] global_step/sec: 3.52904\n",
      "I0328 15:17:40.812256 24732 tf_logging.py:116] loss = 0.603476, step = 9201 (28.335 sec)\n",
      "I0328 15:18:06.903920 24732 tf_logging.py:116] global_step/sec: 3.8319\n",
      "I0328 15:18:06.908935 24732 tf_logging.py:116] loss = 0.559786, step = 9301 (26.097 sec)\n",
      "I0328 15:18:36.283044 24732 tf_logging.py:116] global_step/sec: 3.40389\n",
      "I0328 15:18:36.286053 24732 tf_logging.py:116] loss = 0.573507, step = 9401 (29.377 sec)\n",
      "I0328 15:19:07.708488 24732 tf_logging.py:116] global_step/sec: 3.18203\n",
      "I0328 15:19:07.713503 24732 tf_logging.py:116] loss = 0.613168, step = 9501 (31.427 sec)\n",
      "I0328 15:19:36.749399 24732 tf_logging.py:116] global_step/sec: 3.44342\n",
      "I0328 15:19:36.768998 24732 tf_logging.py:116] loss = 0.552433, step = 9601 (29.055 sec)\n",
      "I0328 15:20:05.770092 24732 tf_logging.py:116] global_step/sec: 3.44594\n",
      "I0328 15:20:05.773101 24732 tf_logging.py:116] loss = 0.59989, step = 9701 (29.004 sec)\n",
      "I0328 15:20:35.142801 24732 tf_logging.py:116] global_step/sec: 3.4044\n",
      "I0328 15:20:35.145845 24732 tf_logging.py:116] loss = 0.50582, step = 9801 (29.373 sec)\n",
      "I0328 15:20:45.033101 24732 tf_logging.py:116] Saving checkpoints for 9836 into C:\\Users\\I349732\\AppData\\Local\\Temp\\tmpn8qc1fes\\model.ckpt.\n",
      "I0328 15:21:17.029671 24732 tf_logging.py:116] global_step/sec: 2.38738\n",
      "I0328 15:21:17.035688 24732 tf_logging.py:116] loss = 0.585664, step = 9901 (41.890 sec)\n",
      "I0328 15:21:46.945219 24732 tf_logging.py:116] global_step/sec: 3.34286\n",
      "I0328 15:21:46.956632 24732 tf_logging.py:116] loss = 0.56921, step = 10001 (29.921 sec)\n",
      "I0328 15:22:15.108558 24732 tf_logging.py:116] global_step/sec: 3.55059\n",
      "I0328 15:22:15.112569 24732 tf_logging.py:116] loss = 0.570543, step = 10101 (28.156 sec)\n",
      "I0328 15:22:43.614184 24732 tf_logging.py:116] global_step/sec: 3.50808\n",
      "I0328 15:22:43.619198 24732 tf_logging.py:116] loss = 0.581163, step = 10201 (28.507 sec)\n",
      "I0328 15:23:12.906898 24732 tf_logging.py:116] global_step/sec: 3.41382\n",
      "I0328 15:23:12.910910 24732 tf_logging.py:116] loss = 0.566026, step = 10301 (29.292 sec)\n",
      "I0328 15:23:40.190521 24732 tf_logging.py:116] Saving checkpoints for 10400 into C:\\Users\\I349732\\AppData\\Local\\Temp\\tmpn8qc1fes\\model.ckpt.\n",
      "I0328 15:23:54.306400 24732 tf_logging.py:116] Loss for final step: 0.600944.\n"
     ]
    },
    {
     "data": {
      "text/plain": [
       "<tensorflow.contrib.estimator.python.estimator.dnn_linear_combined.DNNLinearCombinedEstimator at 0x1c623107630>"
      ]
     },
     "execution_count": 87,
     "metadata": {},
     "output_type": "execute_result"
    }
   ],
   "source": [
    "tf.logging.set_verbosity(tf.logging.INFO)\n",
    "estimator_linear_combined.train(input_fn=train_input_fn)"
   ]
  },
  {
   "cell_type": "code",
   "execution_count": 88,
   "metadata": {},
   "outputs": [
    {
     "name": "stderr",
     "output_type": "stream",
     "text": [
      "I0328 16:59:45.888293 24732 tf_logging.py:116] Calling model_fn.\n",
      "I0328 16:59:58.972562 24732 tf_logging.py:116] Initialize variable dnn/input_from_feature_columns/input_layer/text_hub_module_embedding/module/Embeddings_en/sharded_0:0 from checkpoint b'C:\\\\Users\\\\I349732\\\\AppData\\\\Local\\\\Temp\\\\tfhub_modules\\\\1fb57c3ffe1a38479233ee9853ddd7a8ac8a8c47\\\\variables\\\\variables' with Embeddings_en/sharded_0\n",
      "I0328 16:59:58.988189 24732 tf_logging.py:116] Initialize variable dnn/input_from_feature_columns/input_layer/text_hub_module_embedding/module/Embeddings_en/sharded_1:0 from checkpoint b'C:\\\\Users\\\\I349732\\\\AppData\\\\Local\\\\Temp\\\\tfhub_modules\\\\1fb57c3ffe1a38479233ee9853ddd7a8ac8a8c47\\\\variables\\\\variables' with Embeddings_en/sharded_1\n",
      "I0328 16:59:58.988189 24732 tf_logging.py:116] Initialize variable dnn/input_from_feature_columns/input_layer/text_hub_module_embedding/module/Embeddings_en/sharded_10:0 from checkpoint b'C:\\\\Users\\\\I349732\\\\AppData\\\\Local\\\\Temp\\\\tfhub_modules\\\\1fb57c3ffe1a38479233ee9853ddd7a8ac8a8c47\\\\variables\\\\variables' with Embeddings_en/sharded_10\n",
      "I0328 16:59:59.003853 24732 tf_logging.py:116] Initialize variable dnn/input_from_feature_columns/input_layer/text_hub_module_embedding/module/Embeddings_en/sharded_11:0 from checkpoint b'C:\\\\Users\\\\I349732\\\\AppData\\\\Local\\\\Temp\\\\tfhub_modules\\\\1fb57c3ffe1a38479233ee9853ddd7a8ac8a8c47\\\\variables\\\\variables' with Embeddings_en/sharded_11\n",
      "I0328 16:59:59.019480 24732 tf_logging.py:116] Initialize variable dnn/input_from_feature_columns/input_layer/text_hub_module_embedding/module/Embeddings_en/sharded_12:0 from checkpoint b'C:\\\\Users\\\\I349732\\\\AppData\\\\Local\\\\Temp\\\\tfhub_modules\\\\1fb57c3ffe1a38479233ee9853ddd7a8ac8a8c47\\\\variables\\\\variables' with Embeddings_en/sharded_12\n",
      "I0328 16:59:59.019480 24732 tf_logging.py:116] Initialize variable dnn/input_from_feature_columns/input_layer/text_hub_module_embedding/module/Embeddings_en/sharded_13:0 from checkpoint b'C:\\\\Users\\\\I349732\\\\AppData\\\\Local\\\\Temp\\\\tfhub_modules\\\\1fb57c3ffe1a38479233ee9853ddd7a8ac8a8c47\\\\variables\\\\variables' with Embeddings_en/sharded_13\n",
      "I0328 16:59:59.035109 24732 tf_logging.py:116] Initialize variable dnn/input_from_feature_columns/input_layer/text_hub_module_embedding/module/Embeddings_en/sharded_14:0 from checkpoint b'C:\\\\Users\\\\I349732\\\\AppData\\\\Local\\\\Temp\\\\tfhub_modules\\\\1fb57c3ffe1a38479233ee9853ddd7a8ac8a8c47\\\\variables\\\\variables' with Embeddings_en/sharded_14\n",
      "I0328 16:59:59.050734 24732 tf_logging.py:116] Initialize variable dnn/input_from_feature_columns/input_layer/text_hub_module_embedding/module/Embeddings_en/sharded_15:0 from checkpoint b'C:\\\\Users\\\\I349732\\\\AppData\\\\Local\\\\Temp\\\\tfhub_modules\\\\1fb57c3ffe1a38479233ee9853ddd7a8ac8a8c47\\\\variables\\\\variables' with Embeddings_en/sharded_15\n",
      "I0328 16:59:59.050734 24732 tf_logging.py:116] Initialize variable dnn/input_from_feature_columns/input_layer/text_hub_module_embedding/module/Embeddings_en/sharded_16:0 from checkpoint b'C:\\\\Users\\\\I349732\\\\AppData\\\\Local\\\\Temp\\\\tfhub_modules\\\\1fb57c3ffe1a38479233ee9853ddd7a8ac8a8c47\\\\variables\\\\variables' with Embeddings_en/sharded_16\n",
      "I0328 16:59:59.066323 24732 tf_logging.py:116] Initialize variable dnn/input_from_feature_columns/input_layer/text_hub_module_embedding/module/Embeddings_en/sharded_2:0 from checkpoint b'C:\\\\Users\\\\I349732\\\\AppData\\\\Local\\\\Temp\\\\tfhub_modules\\\\1fb57c3ffe1a38479233ee9853ddd7a8ac8a8c47\\\\variables\\\\variables' with Embeddings_en/sharded_2\n",
      "I0328 16:59:59.066323 24732 tf_logging.py:116] Initialize variable dnn/input_from_feature_columns/input_layer/text_hub_module_embedding/module/Embeddings_en/sharded_3:0 from checkpoint b'C:\\\\Users\\\\I349732\\\\AppData\\\\Local\\\\Temp\\\\tfhub_modules\\\\1fb57c3ffe1a38479233ee9853ddd7a8ac8a8c47\\\\variables\\\\variables' with Embeddings_en/sharded_3\n",
      "I0328 16:59:59.081986 24732 tf_logging.py:116] Initialize variable dnn/input_from_feature_columns/input_layer/text_hub_module_embedding/module/Embeddings_en/sharded_4:0 from checkpoint b'C:\\\\Users\\\\I349732\\\\AppData\\\\Local\\\\Temp\\\\tfhub_modules\\\\1fb57c3ffe1a38479233ee9853ddd7a8ac8a8c47\\\\variables\\\\variables' with Embeddings_en/sharded_4\n",
      "I0328 16:59:59.081986 24732 tf_logging.py:116] Initialize variable dnn/input_from_feature_columns/input_layer/text_hub_module_embedding/module/Embeddings_en/sharded_5:0 from checkpoint b'C:\\\\Users\\\\I349732\\\\AppData\\\\Local\\\\Temp\\\\tfhub_modules\\\\1fb57c3ffe1a38479233ee9853ddd7a8ac8a8c47\\\\variables\\\\variables' with Embeddings_en/sharded_5\n",
      "I0328 16:59:59.097576 24732 tf_logging.py:116] Initialize variable dnn/input_from_feature_columns/input_layer/text_hub_module_embedding/module/Embeddings_en/sharded_6:0 from checkpoint b'C:\\\\Users\\\\I349732\\\\AppData\\\\Local\\\\Temp\\\\tfhub_modules\\\\1fb57c3ffe1a38479233ee9853ddd7a8ac8a8c47\\\\variables\\\\variables' with Embeddings_en/sharded_6\n",
      "I0328 16:59:59.097576 24732 tf_logging.py:116] Initialize variable dnn/input_from_feature_columns/input_layer/text_hub_module_embedding/module/Embeddings_en/sharded_7:0 from checkpoint b'C:\\\\Users\\\\I349732\\\\AppData\\\\Local\\\\Temp\\\\tfhub_modules\\\\1fb57c3ffe1a38479233ee9853ddd7a8ac8a8c47\\\\variables\\\\variables' with Embeddings_en/sharded_7\n",
      "I0328 16:59:59.113238 24732 tf_logging.py:116] Initialize variable dnn/input_from_feature_columns/input_layer/text_hub_module_embedding/module/Embeddings_en/sharded_8:0 from checkpoint b'C:\\\\Users\\\\I349732\\\\AppData\\\\Local\\\\Temp\\\\tfhub_modules\\\\1fb57c3ffe1a38479233ee9853ddd7a8ac8a8c47\\\\variables\\\\variables' with Embeddings_en/sharded_8\n",
      "I0328 16:59:59.128865 24732 tf_logging.py:116] Initialize variable dnn/input_from_feature_columns/input_layer/text_hub_module_embedding/module/Embeddings_en/sharded_9:0 from checkpoint b'C:\\\\Users\\\\I349732\\\\AppData\\\\Local\\\\Temp\\\\tfhub_modules\\\\1fb57c3ffe1a38479233ee9853ddd7a8ac8a8c47\\\\variables\\\\variables' with Embeddings_en/sharded_9\n",
      "I0328 16:59:59.128865 24732 tf_logging.py:116] Initialize variable dnn/input_from_feature_columns/input_layer/text_hub_module_embedding/module/Encoder_en/DNN/ResidualHidden_0/weights:0 from checkpoint b'C:\\\\Users\\\\I349732\\\\AppData\\\\Local\\\\Temp\\\\tfhub_modules\\\\1fb57c3ffe1a38479233ee9853ddd7a8ac8a8c47\\\\variables\\\\variables' with Encoder_en/DNN/ResidualHidden_0/weights\n",
      "I0328 16:59:59.144491 24732 tf_logging.py:116] Initialize variable dnn/input_from_feature_columns/input_layer/text_hub_module_embedding/module/Encoder_en/DNN/ResidualHidden_1/weights:0 from checkpoint b'C:\\\\Users\\\\I349732\\\\AppData\\\\Local\\\\Temp\\\\tfhub_modules\\\\1fb57c3ffe1a38479233ee9853ddd7a8ac8a8c47\\\\variables\\\\variables' with Encoder_en/DNN/ResidualHidden_1/weights\n",
      "I0328 16:59:59.144491 24732 tf_logging.py:116] Initialize variable dnn/input_from_feature_columns/input_layer/text_hub_module_embedding/module/Encoder_en/DNN/ResidualHidden_2/weights:0 from checkpoint b'C:\\\\Users\\\\I349732\\\\AppData\\\\Local\\\\Temp\\\\tfhub_modules\\\\1fb57c3ffe1a38479233ee9853ddd7a8ac8a8c47\\\\variables\\\\variables' with Encoder_en/DNN/ResidualHidden_2/weights\n",
      "I0328 16:59:59.160083 24732 tf_logging.py:116] Initialize variable dnn/input_from_feature_columns/input_layer/text_hub_module_embedding/module/Encoder_en/DNN/ResidualHidden_3/projection:0 from checkpoint b'C:\\\\Users\\\\I349732\\\\AppData\\\\Local\\\\Temp\\\\tfhub_modules\\\\1fb57c3ffe1a38479233ee9853ddd7a8ac8a8c47\\\\variables\\\\variables' with Encoder_en/DNN/ResidualHidden_3/projection\n",
      "I0328 16:59:59.160083 24732 tf_logging.py:116] Initialize variable dnn/input_from_feature_columns/input_layer/text_hub_module_embedding/module/Encoder_en/DNN/ResidualHidden_3/weights:0 from checkpoint b'C:\\\\Users\\\\I349732\\\\AppData\\\\Local\\\\Temp\\\\tfhub_modules\\\\1fb57c3ffe1a38479233ee9853ddd7a8ac8a8c47\\\\variables\\\\variables' with Encoder_en/DNN/ResidualHidden_3/weights\n",
      "I0328 16:59:59.175711 24732 tf_logging.py:116] Initialize variable dnn/input_from_feature_columns/input_layer/text_hub_module_embedding/module/SHARED_RANK_ANSWER/response_encoder_0/tanh_layer_0/bias:0 from checkpoint b'C:\\\\Users\\\\I349732\\\\AppData\\\\Local\\\\Temp\\\\tfhub_modules\\\\1fb57c3ffe1a38479233ee9853ddd7a8ac8a8c47\\\\variables\\\\variables' with SHARED_RANK_ANSWER/response_encoder_0/tanh_layer_0/bias\n",
      "I0328 16:59:59.175711 24732 tf_logging.py:116] Initialize variable dnn/input_from_feature_columns/input_layer/text_hub_module_embedding/module/SHARED_RANK_ANSWER/response_encoder_0/tanh_layer_0/weights:0 from checkpoint b'C:\\\\Users\\\\I349732\\\\AppData\\\\Local\\\\Temp\\\\tfhub_modules\\\\1fb57c3ffe1a38479233ee9853ddd7a8ac8a8c47\\\\variables\\\\variables' with SHARED_RANK_ANSWER/response_encoder_0/tanh_layer_0/weights\n"
     ]
    },
    {
     "name": "stderr",
     "output_type": "stream",
     "text": [
      "I0328 16:59:59.193506 24732 tf_logging.py:116] Initialize variable dnn/input_from_feature_columns/input_layer/text_hub_module_embedding/module/SHARED_RANK_ANSWER/response_encoder_0/tanh_layer_1/bias:0 from checkpoint b'C:\\\\Users\\\\I349732\\\\AppData\\\\Local\\\\Temp\\\\tfhub_modules\\\\1fb57c3ffe1a38479233ee9853ddd7a8ac8a8c47\\\\variables\\\\variables' with SHARED_RANK_ANSWER/response_encoder_0/tanh_layer_1/bias\n",
      "I0328 16:59:59.202530 24732 tf_logging.py:116] Initialize variable dnn/input_from_feature_columns/input_layer/text_hub_module_embedding/module/SHARED_RANK_ANSWER/response_encoder_0/tanh_layer_1/weights:0 from checkpoint b'C:\\\\Users\\\\I349732\\\\AppData\\\\Local\\\\Temp\\\\tfhub_modules\\\\1fb57c3ffe1a38479233ee9853ddd7a8ac8a8c47\\\\variables\\\\variables' with SHARED_RANK_ANSWER/response_encoder_0/tanh_layer_1/weights\n",
      "I0328 16:59:59.211554 24732 tf_logging.py:116] Initialize variable dnn/input_from_feature_columns/input_layer/text_hub_module_embedding/module/SHARED_RANK_ANSWER/response_encoder_0/tanh_layer_2/bias:0 from checkpoint b'C:\\\\Users\\\\I349732\\\\AppData\\\\Local\\\\Temp\\\\tfhub_modules\\\\1fb57c3ffe1a38479233ee9853ddd7a8ac8a8c47\\\\variables\\\\variables' with SHARED_RANK_ANSWER/response_encoder_0/tanh_layer_2/bias\n",
      "I0328 16:59:59.213673 24732 tf_logging.py:116] Initialize variable dnn/input_from_feature_columns/input_layer/text_hub_module_embedding/module/SHARED_RANK_ANSWER/response_encoder_0/tanh_layer_2/weights:0 from checkpoint b'C:\\\\Users\\\\I349732\\\\AppData\\\\Local\\\\Temp\\\\tfhub_modules\\\\1fb57c3ffe1a38479233ee9853ddd7a8ac8a8c47\\\\variables\\\\variables' with SHARED_RANK_ANSWER/response_encoder_0/tanh_layer_2/weights\n",
      "I0328 16:59:59.213673 24732 tf_logging.py:116] Initialize variable dnn/input_from_feature_columns/input_layer/text_hub_module_embedding/module/SNLI/Classifier/LinearLayer/bias:0 from checkpoint b'C:\\\\Users\\\\I349732\\\\AppData\\\\Local\\\\Temp\\\\tfhub_modules\\\\1fb57c3ffe1a38479233ee9853ddd7a8ac8a8c47\\\\variables\\\\variables' with SNLI/Classifier/LinearLayer/bias\n",
      "I0328 16:59:59.229301 24732 tf_logging.py:116] Initialize variable dnn/input_from_feature_columns/input_layer/text_hub_module_embedding/module/SNLI/Classifier/LinearLayer/weights:0 from checkpoint b'C:\\\\Users\\\\I349732\\\\AppData\\\\Local\\\\Temp\\\\tfhub_modules\\\\1fb57c3ffe1a38479233ee9853ddd7a8ac8a8c47\\\\variables\\\\variables' with SNLI/Classifier/LinearLayer/weights\n",
      "I0328 16:59:59.229301 24732 tf_logging.py:116] Initialize variable dnn/input_from_feature_columns/input_layer/text_hub_module_embedding/module/SNLI/Classifier/tanh_layer_0/bias:0 from checkpoint b'C:\\\\Users\\\\I349732\\\\AppData\\\\Local\\\\Temp\\\\tfhub_modules\\\\1fb57c3ffe1a38479233ee9853ddd7a8ac8a8c47\\\\variables\\\\variables' with SNLI/Classifier/tanh_layer_0/bias\n",
      "I0328 16:59:59.244930 24732 tf_logging.py:116] Initialize variable dnn/input_from_feature_columns/input_layer/text_hub_module_embedding/module/SNLI/Classifier/tanh_layer_0/weights:0 from checkpoint b'C:\\\\Users\\\\I349732\\\\AppData\\\\Local\\\\Temp\\\\tfhub_modules\\\\1fb57c3ffe1a38479233ee9853ddd7a8ac8a8c47\\\\variables\\\\variables' with SNLI/Classifier/tanh_layer_0/weights\n",
      "I0328 16:59:59.260554 24732 tf_logging.py:116] Initialize variable dnn/input_from_feature_columns/input_layer/text_hub_module_embedding/module/global_step:0 from checkpoint b'C:\\\\Users\\\\I349732\\\\AppData\\\\Local\\\\Temp\\\\tfhub_modules\\\\1fb57c3ffe1a38479233ee9853ddd7a8ac8a8c47\\\\variables\\\\variables' with global_step\n",
      "I0328 17:00:14.634250 24732 tf_logging.py:116] Done calling model_fn.\n",
      "I0328 17:00:14.692366 24732 tf_logging.py:116] Starting evaluation at 2019-03-28-11:30:14\n",
      "I0328 17:00:15.037288 24732 tf_logging.py:116] Graph was finalized.\n",
      "I0328 17:00:15.038283 24732 tf_logging.py:116] Restoring parameters from C:\\Users\\I349732\\AppData\\Local\\Temp\\tmp8q57kksq\\model.ckpt-3609\n",
      "I0328 17:00:29.362929 24732 tf_logging.py:116] Running local_init_op.\n",
      "I0328 17:00:44.705591 24732 tf_logging.py:116] Done running local_init_op.\n",
      "I0328 17:01:41.184466 24732 tf_logging.py:116] Finished evaluation at 2019-03-28-11:31:41\n",
      "I0328 17:01:41.186479 24732 tf_logging.py:116] Saving dict for global step 3609: accuracy = 0.88149, accuracy_baseline = 0.507933, auc = 0.954769, auc_precision_recall = 0.958745, average_loss = 0.274443, global_step = 3609, label/mean = 0.507933, loss = 0.27423, prediction/mean = 0.489244\n"
     ]
    },
    {
     "data": {
      "text/plain": [
       "{'accuracy': 0.88149041,\n",
       " 'accuracy_baseline': 0.50793266,\n",
       " 'auc': 0.95476878,\n",
       " 'auc_precision_recall': 0.95874542,\n",
       " 'average_loss': 0.27444336,\n",
       " 'global_step': 3609,\n",
       " 'label/mean': 0.50793266,\n",
       " 'loss': 0.27423015,\n",
       " 'prediction/mean': 0.48924395}"
      ]
     },
     "execution_count": 88,
     "metadata": {},
     "output_type": "execute_result"
    }
   ],
   "source": [
    "eval_input_fn = tf.estimator.inputs.numpy_input_fn({\"text\": np.array(test_description).astype(np.str)}, test_encoded.astype(np.int32), shuffle=False)\n",
    "\n",
    "estimator.evaluate(input_fn=eval_input_fn)"
   ]
  },
  {
   "cell_type": "code",
   "execution_count": null,
   "metadata": {},
   "outputs": [],
   "source": [
    "raw_test = [\n",
    "    \"The BBC produced spoof on the â€œReal Housewivesâ€ TV programmes, which has a comedic Islamic State twist, has been criticised by Leftists and Muslims who claim the sketch is offensive. [The BBC released the trailer earlier this week and were immediately slammed by those on the left and Muslims who thought that making fun of the brides of members of the terror group was out of the bounds of conventional humour. The sketch is part of a new programme called â€œRevoltingâ€ written by Jolyon Rubinstein and Heydon Prowse which, according to the BBC, is â€œsatirising the state of the nation. â€  LOLOLOL pic. twitter.   â€”   Raheem Kassam (@RaheemKassam) January 4, 2017,  The BBC2 Facebook page was inundated with criticism. One user wrote, â€œIâ€™m mortified that the BBC had produced such a programme. This is simply bad taste. The fact it is a comedy makes it even more worrying that humour should be associated with the actions of ISIS. Is this really what TV licenses are funding! ?â€ Others took a different point of view including a Muslim saying, â€œAs a Muslim I find this HILARIOUS! Brilliant! The satire is on point highlighting the pathetic ideals of a pathetic group like ISIS. â€ Not all Muslims agreed with the sentiment and users on Twitter expressed just as much outrage for the sketch. One man, a Bangladeshi, said â€œThe BBC really made a satirical show called â€˜The Real Housewives of ISISâ€™ while the real housewives of ISIS are being raped and abused daily. â€   The BBC really made a satirical show called â€The Real Housewives of ISISâ€ while the real housewives of ISIS are being raped and abused daily,  â€”   Meraj. (@UncleMeraj) January 4, 2017,  Another wrote, â€œâ€˜Real Housewives of ISISâ€™ will make Hijabis feel more isolated n targeted by Islamophobes. Thanks @BBC for adding to the negative stereotype. â€ â€™Real Housewives of ISISâ€™ will make Hijabis feel more isolated n targeted by Islamophobes. Thanks @BBC for adding to the negative stereotype,  â€”   aÑ•Ð½ (@AshKaneSkittles) January 4, 2017,  Leftists also articulated how offended they were that the public broadcaster would dare create such a sketch mocking Islamic State. Some questioned whether the use of taxpayer money via the TV license fee should go toward the funding of the programme. As if peopleâ€™s TV license in this country is going towards funding the production of a programme called â€the real housewives of ISISâ€. Wow,  â€”   Cameron Edgar (@CammyyyEdgar) January 4, 2017,    The video itself has already been viewed millions of times on Facebook and other social media platforms.  The clip shows several women in hijabs talking to each other in a    house taking selfies and showing off their suicide belts to each other. One woman even mentions that she hadnâ€™t come from Birmingham â€œto do thisâ€ as she scrubbed the floor of the home. Women joining Islamic State and travelling to Syria to become brides has become a real problem in European countries as the terror group promises young girls a more glamorous lifestyle. In 2014, eight schoolgirls from Bethnal Green travelled to Syria to become brides of Islamic State fighters, all of them under the age of 18.\"\n",
    "]"
   ]
  },
  {
   "cell_type": "code",
   "execution_count": null,
   "metadata": {
    "collapsed": true
   },
   "outputs": [],
   "source": [
    "predict_input_fn = tf.estimator.inputs.numpy_input_fn({\"text\": np.array(raw_test).astype(np.str)}, shuffle=False)\n",
    "results = estimator.predict(predict_input_fn)"
   ]
  },
  {
   "cell_type": "code",
   "execution_count": null,
   "metadata": {},
   "outputs": [],
   "source": [
    "print(list(results)[0])"
   ]
  },
  {
   "cell_type": "code",
   "execution_count": null,
   "metadata": {
    "collapsed": true
   },
   "outputs": [],
   "source": []
  }
 ],
 "metadata": {
  "kernelspec": {
   "display_name": "Python 3",
   "language": "python",
   "name": "python3"
  },
  "language_info": {
   "codemirror_mode": {
    "name": "ipython",
    "version": 3
   },
   "file_extension": ".py",
   "mimetype": "text/x-python",
   "name": "python",
   "nbconvert_exporter": "python",
   "pygments_lexer": "ipython3",
   "version": "3.5.4"
  }
 },
 "nbformat": 4,
 "nbformat_minor": 2
}
