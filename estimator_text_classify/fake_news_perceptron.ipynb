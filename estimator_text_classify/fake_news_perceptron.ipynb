{
 "cells": [
  {
   "cell_type": "code",
   "execution_count": null,
   "metadata": {},
   "outputs": [],
   "source": [
    "from os import path, makedirs, rename, remove\n",
    "from time import time\n",
    "import argparse\n",
    "import pickle\n",
    "\n",
    "import numpy as np\n",
    "import pandas as pd\n",
    "import tensorflow_hub as hub\n",
    "import tensorflow as tf\n",
    "from sklearn.utils import shuffle\n",
    "from sklearn.preprocessing import LabelBinarizer"
   ]
  },
  {
   "cell_type": "code",
   "execution_count": null,
   "metadata": {
    "collapsed": true
   },
   "outputs": [],
   "source": [
    "train_data = pd.read_csv('./data_fake_news/train.csv')\n",
    "test_data = pd.read_csv('./data_fake_news/test.csv')"
   ]
  },
  {
   "cell_type": "code",
   "execution_count": null,
   "metadata": {},
   "outputs": [],
   "source": [
    "test_data.head()"
   ]
  },
  {
   "cell_type": "code",
   "execution_count": null,
   "metadata": {
    "collapsed": true
   },
   "outputs": [],
   "source": [
    "descriptions = train_data['text']\n",
    "train_size = int(len(descriptions) * .8)\n",
    "labels = train_data['label']\n",
    "train_description = descriptions[:train_size].astype('str')\n",
    "train_labels = labels[:train_size]\n",
    "test_description = descriptions[train_size:].astype('str')\n",
    "test_labels = labels[train_size:]"
   ]
  },
  {
   "cell_type": "code",
   "execution_count": null,
   "metadata": {
    "collapsed": true
   },
   "outputs": [],
   "source": [
    "top_labels = ['0', '1']\n",
    "description_embeddings = hub.text_embedding_column(\n",
    "  \"text\", \n",
    "  module_spec=\"https://tfhub.dev/google/universal-sentence-encoder/2\"\n",
    ")"
   ]
  },
  {
   "cell_type": "code",
   "execution_count": null,
   "metadata": {
    "collapsed": true
   },
   "outputs": [],
   "source": [
    "encoder = LabelBinarizer()\n",
    "encoder.fit_transform(train_labels)\n",
    "train_encoded = encoder.transform(train_labels)\n",
    "test_encoded = encoder.transform(test_labels)\n",
    "num_classes = len(encoder.classes_)"
   ]
  },
  {
   "cell_type": "code",
   "execution_count": null,
   "metadata": {},
   "outputs": [],
   "source": [
    "binary_label_head = tf.contrib.estimator.binary_classification_head(\n",
    "                        loss_reduction=tf.losses.Reduction.SUM_OVER_BATCH_SIZE\n",
    "                    )"
   ]
  },
  {
   "cell_type": "code",
   "execution_count": null,
   "metadata": {},
   "outputs": [],
   "source": [
    "estimator = tf.contrib.estimator.DNNEstimator(\n",
    "    head=binary_label_head,\n",
    "    hidden_units=[64,10,100],\n",
    "    model_dir = 'fake_news_model',\n",
    "    feature_columns=[description_embeddings]\n",
    ")"
   ]
  },
  {
   "cell_type": "code",
   "execution_count": null,
   "metadata": {},
   "outputs": [],
   "source": [
    "estimator_linear_combined = tf.contrib.estimator.DNNLinearCombinedEstimator(\n",
    "    head=binary_label_head,\n",
    "    dnn_hidden_units=[64,10],\n",
    "    dnn_feature_columns=[description_embeddings]\n",
    ")"
   ]
  },
  {
   "cell_type": "code",
   "execution_count": null,
   "metadata": {
    "collapsed": true
   },
   "outputs": [],
   "source": [
    "estimator_linear = tf.contrib.estimator.LinearEstimator(\n",
    "    head=binary_label_head,\n",
    "    feature_columns=[description_embeddings]\n",
    ")"
   ]
  },
  {
   "cell_type": "code",
   "execution_count": null,
   "metadata": {
    "collapsed": true
   },
   "outputs": [],
   "source": [
    "features = {\n",
    "  \"text\": np.array(train_description).astype(np.str)\n",
    "}\n",
    "labels = np.array(train_encoded).astype(np.int32)\n",
    "\n",
    "train_input_fn = tf.estimator.inputs.numpy_input_fn(\n",
    "    features, \n",
    "    labels, \n",
    "    shuffle=True, \n",
    "    batch_size=32, \n",
    "    num_epochs=20\n",
    ")"
   ]
  },
  {
   "cell_type": "code",
   "execution_count": 15,
   "metadata": {},
   "outputs": [
    {
     "name": "stderr",
     "output_type": "stream",
     "text": [
      "I0402 11:34:42.465804 21712 tf_logging.py:116] Calling model_fn.\n",
      "I0402 11:34:49.311337 21712 tf_logging.py:116] Initialize variable dnn/input_from_feature_columns/input_layer/text_hub_module_embedding/module/Embeddings_en/sharded_0:0 from checkpoint b'C:\\\\Users\\\\I349732\\\\AppData\\\\Local\\\\Temp\\\\tfhub_modules\\\\1fb57c3ffe1a38479233ee9853ddd7a8ac8a8c47\\\\variables\\\\variables' with Embeddings_en/sharded_0\n",
      "I0402 11:34:49.321401 21712 tf_logging.py:116] Initialize variable dnn/input_from_feature_columns/input_layer/text_hub_module_embedding/module/Embeddings_en/sharded_1:0 from checkpoint b'C:\\\\Users\\\\I349732\\\\AppData\\\\Local\\\\Temp\\\\tfhub_modules\\\\1fb57c3ffe1a38479233ee9853ddd7a8ac8a8c47\\\\variables\\\\variables' with Embeddings_en/sharded_1\n",
      "I0402 11:34:49.329387 21712 tf_logging.py:116] Initialize variable dnn/input_from_feature_columns/input_layer/text_hub_module_embedding/module/Embeddings_en/sharded_10:0 from checkpoint b'C:\\\\Users\\\\I349732\\\\AppData\\\\Local\\\\Temp\\\\tfhub_modules\\\\1fb57c3ffe1a38479233ee9853ddd7a8ac8a8c47\\\\variables\\\\variables' with Embeddings_en/sharded_10\n",
      "I0402 11:34:49.339418 21712 tf_logging.py:116] Initialize variable dnn/input_from_feature_columns/input_layer/text_hub_module_embedding/module/Embeddings_en/sharded_11:0 from checkpoint b'C:\\\\Users\\\\I349732\\\\AppData\\\\Local\\\\Temp\\\\tfhub_modules\\\\1fb57c3ffe1a38479233ee9853ddd7a8ac8a8c47\\\\variables\\\\variables' with Embeddings_en/sharded_11\n",
      "I0402 11:34:49.352447 21712 tf_logging.py:116] Initialize variable dnn/input_from_feature_columns/input_layer/text_hub_module_embedding/module/Embeddings_en/sharded_12:0 from checkpoint b'C:\\\\Users\\\\I349732\\\\AppData\\\\Local\\\\Temp\\\\tfhub_modules\\\\1fb57c3ffe1a38479233ee9853ddd7a8ac8a8c47\\\\variables\\\\variables' with Embeddings_en/sharded_12\n",
      "I0402 11:34:49.368551 21712 tf_logging.py:116] Initialize variable dnn/input_from_feature_columns/input_layer/text_hub_module_embedding/module/Embeddings_en/sharded_13:0 from checkpoint b'C:\\\\Users\\\\I349732\\\\AppData\\\\Local\\\\Temp\\\\tfhub_modules\\\\1fb57c3ffe1a38479233ee9853ddd7a8ac8a8c47\\\\variables\\\\variables' with Embeddings_en/sharded_13\n",
      "I0402 11:34:49.381524 21712 tf_logging.py:116] Initialize variable dnn/input_from_feature_columns/input_layer/text_hub_module_embedding/module/Embeddings_en/sharded_14:0 from checkpoint b'C:\\\\Users\\\\I349732\\\\AppData\\\\Local\\\\Temp\\\\tfhub_modules\\\\1fb57c3ffe1a38479233ee9853ddd7a8ac8a8c47\\\\variables\\\\variables' with Embeddings_en/sharded_14\n",
      "I0402 11:34:49.394560 21712 tf_logging.py:116] Initialize variable dnn/input_from_feature_columns/input_layer/text_hub_module_embedding/module/Embeddings_en/sharded_15:0 from checkpoint b'C:\\\\Users\\\\I349732\\\\AppData\\\\Local\\\\Temp\\\\tfhub_modules\\\\1fb57c3ffe1a38479233ee9853ddd7a8ac8a8c47\\\\variables\\\\variables' with Embeddings_en/sharded_15\n",
      "I0402 11:34:49.406592 21712 tf_logging.py:116] Initialize variable dnn/input_from_feature_columns/input_layer/text_hub_module_embedding/module/Embeddings_en/sharded_16:0 from checkpoint b'C:\\\\Users\\\\I349732\\\\AppData\\\\Local\\\\Temp\\\\tfhub_modules\\\\1fb57c3ffe1a38479233ee9853ddd7a8ac8a8c47\\\\variables\\\\variables' with Embeddings_en/sharded_16\n",
      "I0402 11:34:49.420698 21712 tf_logging.py:116] Initialize variable dnn/input_from_feature_columns/input_layer/text_hub_module_embedding/module/Embeddings_en/sharded_2:0 from checkpoint b'C:\\\\Users\\\\I349732\\\\AppData\\\\Local\\\\Temp\\\\tfhub_modules\\\\1fb57c3ffe1a38479233ee9853ddd7a8ac8a8c47\\\\variables\\\\variables' with Embeddings_en/sharded_2\n",
      "I0402 11:34:49.431661 21712 tf_logging.py:116] Initialize variable dnn/input_from_feature_columns/input_layer/text_hub_module_embedding/module/Embeddings_en/sharded_3:0 from checkpoint b'C:\\\\Users\\\\I349732\\\\AppData\\\\Local\\\\Temp\\\\tfhub_modules\\\\1fb57c3ffe1a38479233ee9853ddd7a8ac8a8c47\\\\variables\\\\variables' with Embeddings_en/sharded_3\n",
      "I0402 11:34:49.444694 21712 tf_logging.py:116] Initialize variable dnn/input_from_feature_columns/input_layer/text_hub_module_embedding/module/Embeddings_en/sharded_4:0 from checkpoint b'C:\\\\Users\\\\I349732\\\\AppData\\\\Local\\\\Temp\\\\tfhub_modules\\\\1fb57c3ffe1a38479233ee9853ddd7a8ac8a8c47\\\\variables\\\\variables' with Embeddings_en/sharded_4\n",
      "I0402 11:34:49.454722 21712 tf_logging.py:116] Initialize variable dnn/input_from_feature_columns/input_layer/text_hub_module_embedding/module/Embeddings_en/sharded_5:0 from checkpoint b'C:\\\\Users\\\\I349732\\\\AppData\\\\Local\\\\Temp\\\\tfhub_modules\\\\1fb57c3ffe1a38479233ee9853ddd7a8ac8a8c47\\\\variables\\\\variables' with Embeddings_en/sharded_5\n",
      "I0402 11:34:49.463743 21712 tf_logging.py:116] Initialize variable dnn/input_from_feature_columns/input_layer/text_hub_module_embedding/module/Embeddings_en/sharded_6:0 from checkpoint b'C:\\\\Users\\\\I349732\\\\AppData\\\\Local\\\\Temp\\\\tfhub_modules\\\\1fb57c3ffe1a38479233ee9853ddd7a8ac8a8c47\\\\variables\\\\variables' with Embeddings_en/sharded_6\n",
      "I0402 11:34:49.480787 21712 tf_logging.py:116] Initialize variable dnn/input_from_feature_columns/input_layer/text_hub_module_embedding/module/Embeddings_en/sharded_7:0 from checkpoint b'C:\\\\Users\\\\I349732\\\\AppData\\\\Local\\\\Temp\\\\tfhub_modules\\\\1fb57c3ffe1a38479233ee9853ddd7a8ac8a8c47\\\\variables\\\\variables' with Embeddings_en/sharded_7\n",
      "I0402 11:34:49.491818 21712 tf_logging.py:116] Initialize variable dnn/input_from_feature_columns/input_layer/text_hub_module_embedding/module/Embeddings_en/sharded_8:0 from checkpoint b'C:\\\\Users\\\\I349732\\\\AppData\\\\Local\\\\Temp\\\\tfhub_modules\\\\1fb57c3ffe1a38479233ee9853ddd7a8ac8a8c47\\\\variables\\\\variables' with Embeddings_en/sharded_8\n",
      "I0402 11:34:49.505856 21712 tf_logging.py:116] Initialize variable dnn/input_from_feature_columns/input_layer/text_hub_module_embedding/module/Embeddings_en/sharded_9:0 from checkpoint b'C:\\\\Users\\\\I349732\\\\AppData\\\\Local\\\\Temp\\\\tfhub_modules\\\\1fb57c3ffe1a38479233ee9853ddd7a8ac8a8c47\\\\variables\\\\variables' with Embeddings_en/sharded_9\n",
      "I0402 11:34:49.515883 21712 tf_logging.py:116] Initialize variable dnn/input_from_feature_columns/input_layer/text_hub_module_embedding/module/Encoder_en/DNN/ResidualHidden_0/weights:0 from checkpoint b'C:\\\\Users\\\\I349732\\\\AppData\\\\Local\\\\Temp\\\\tfhub_modules\\\\1fb57c3ffe1a38479233ee9853ddd7a8ac8a8c47\\\\variables\\\\variables' with Encoder_en/DNN/ResidualHidden_0/weights\n",
      "I0402 11:34:49.527913 21712 tf_logging.py:116] Initialize variable dnn/input_from_feature_columns/input_layer/text_hub_module_embedding/module/Encoder_en/DNN/ResidualHidden_1/weights:0 from checkpoint b'C:\\\\Users\\\\I349732\\\\AppData\\\\Local\\\\Temp\\\\tfhub_modules\\\\1fb57c3ffe1a38479233ee9853ddd7a8ac8a8c47\\\\variables\\\\variables' with Encoder_en/DNN/ResidualHidden_1/weights\n",
      "I0402 11:34:49.537941 21712 tf_logging.py:116] Initialize variable dnn/input_from_feature_columns/input_layer/text_hub_module_embedding/module/Encoder_en/DNN/ResidualHidden_2/weights:0 from checkpoint b'C:\\\\Users\\\\I349732\\\\AppData\\\\Local\\\\Temp\\\\tfhub_modules\\\\1fb57c3ffe1a38479233ee9853ddd7a8ac8a8c47\\\\variables\\\\variables' with Encoder_en/DNN/ResidualHidden_2/weights\n",
      "I0402 11:34:49.545963 21712 tf_logging.py:116] Initialize variable dnn/input_from_feature_columns/input_layer/text_hub_module_embedding/module/Encoder_en/DNN/ResidualHidden_3/projection:0 from checkpoint b'C:\\\\Users\\\\I349732\\\\AppData\\\\Local\\\\Temp\\\\tfhub_modules\\\\1fb57c3ffe1a38479233ee9853ddd7a8ac8a8c47\\\\variables\\\\variables' with Encoder_en/DNN/ResidualHidden_3/projection\n",
      "I0402 11:34:49.558996 21712 tf_logging.py:116] Initialize variable dnn/input_from_feature_columns/input_layer/text_hub_module_embedding/module/Encoder_en/DNN/ResidualHidden_3/weights:0 from checkpoint b'C:\\\\Users\\\\I349732\\\\AppData\\\\Local\\\\Temp\\\\tfhub_modules\\\\1fb57c3ffe1a38479233ee9853ddd7a8ac8a8c47\\\\variables\\\\variables' with Encoder_en/DNN/ResidualHidden_3/weights\n",
      "I0402 11:34:49.569025 21712 tf_logging.py:116] Initialize variable dnn/input_from_feature_columns/input_layer/text_hub_module_embedding/module/SHARED_RANK_ANSWER/response_encoder_0/tanh_layer_0/bias:0 from checkpoint b'C:\\\\Users\\\\I349732\\\\AppData\\\\Local\\\\Temp\\\\tfhub_modules\\\\1fb57c3ffe1a38479233ee9853ddd7a8ac8a8c47\\\\variables\\\\variables' with SHARED_RANK_ANSWER/response_encoder_0/tanh_layer_0/bias\n",
      "I0402 11:34:49.576042 21712 tf_logging.py:116] Initialize variable dnn/input_from_feature_columns/input_layer/text_hub_module_embedding/module/SHARED_RANK_ANSWER/response_encoder_0/tanh_layer_0/weights:0 from checkpoint b'C:\\\\Users\\\\I349732\\\\AppData\\\\Local\\\\Temp\\\\tfhub_modules\\\\1fb57c3ffe1a38479233ee9853ddd7a8ac8a8c47\\\\variables\\\\variables' with SHARED_RANK_ANSWER/response_encoder_0/tanh_layer_0/weights\n"
     ]
    },
    {
     "name": "stderr",
     "output_type": "stream",
     "text": [
      "I0402 11:34:49.587079 21712 tf_logging.py:116] Initialize variable dnn/input_from_feature_columns/input_layer/text_hub_module_embedding/module/SHARED_RANK_ANSWER/response_encoder_0/tanh_layer_1/bias:0 from checkpoint b'C:\\\\Users\\\\I349732\\\\AppData\\\\Local\\\\Temp\\\\tfhub_modules\\\\1fb57c3ffe1a38479233ee9853ddd7a8ac8a8c47\\\\variables\\\\variables' with SHARED_RANK_ANSWER/response_encoder_0/tanh_layer_1/bias\n",
      "I0402 11:34:49.595094 21712 tf_logging.py:116] Initialize variable dnn/input_from_feature_columns/input_layer/text_hub_module_embedding/module/SHARED_RANK_ANSWER/response_encoder_0/tanh_layer_1/weights:0 from checkpoint b'C:\\\\Users\\\\I349732\\\\AppData\\\\Local\\\\Temp\\\\tfhub_modules\\\\1fb57c3ffe1a38479233ee9853ddd7a8ac8a8c47\\\\variables\\\\variables' with SHARED_RANK_ANSWER/response_encoder_0/tanh_layer_1/weights\n",
      "I0402 11:34:49.608136 21712 tf_logging.py:116] Initialize variable dnn/input_from_feature_columns/input_layer/text_hub_module_embedding/module/SHARED_RANK_ANSWER/response_encoder_0/tanh_layer_2/bias:0 from checkpoint b'C:\\\\Users\\\\I349732\\\\AppData\\\\Local\\\\Temp\\\\tfhub_modules\\\\1fb57c3ffe1a38479233ee9853ddd7a8ac8a8c47\\\\variables\\\\variables' with SHARED_RANK_ANSWER/response_encoder_0/tanh_layer_2/bias\n",
      "I0402 11:34:49.619157 21712 tf_logging.py:116] Initialize variable dnn/input_from_feature_columns/input_layer/text_hub_module_embedding/module/SHARED_RANK_ANSWER/response_encoder_0/tanh_layer_2/weights:0 from checkpoint b'C:\\\\Users\\\\I349732\\\\AppData\\\\Local\\\\Temp\\\\tfhub_modules\\\\1fb57c3ffe1a38479233ee9853ddd7a8ac8a8c47\\\\variables\\\\variables' with SHARED_RANK_ANSWER/response_encoder_0/tanh_layer_2/weights\n",
      "I0402 11:34:49.628181 21712 tf_logging.py:116] Initialize variable dnn/input_from_feature_columns/input_layer/text_hub_module_embedding/module/SNLI/Classifier/LinearLayer/bias:0 from checkpoint b'C:\\\\Users\\\\I349732\\\\AppData\\\\Local\\\\Temp\\\\tfhub_modules\\\\1fb57c3ffe1a38479233ee9853ddd7a8ac8a8c47\\\\variables\\\\variables' with SNLI/Classifier/LinearLayer/bias\n",
      "I0402 11:34:49.639210 21712 tf_logging.py:116] Initialize variable dnn/input_from_feature_columns/input_layer/text_hub_module_embedding/module/SNLI/Classifier/LinearLayer/weights:0 from checkpoint b'C:\\\\Users\\\\I349732\\\\AppData\\\\Local\\\\Temp\\\\tfhub_modules\\\\1fb57c3ffe1a38479233ee9853ddd7a8ac8a8c47\\\\variables\\\\variables' with SNLI/Classifier/LinearLayer/weights\n",
      "I0402 11:34:49.649236 21712 tf_logging.py:116] Initialize variable dnn/input_from_feature_columns/input_layer/text_hub_module_embedding/module/SNLI/Classifier/tanh_layer_0/bias:0 from checkpoint b'C:\\\\Users\\\\I349732\\\\AppData\\\\Local\\\\Temp\\\\tfhub_modules\\\\1fb57c3ffe1a38479233ee9853ddd7a8ac8a8c47\\\\variables\\\\variables' with SNLI/Classifier/tanh_layer_0/bias\n",
      "I0402 11:34:49.659264 21712 tf_logging.py:116] Initialize variable dnn/input_from_feature_columns/input_layer/text_hub_module_embedding/module/SNLI/Classifier/tanh_layer_0/weights:0 from checkpoint b'C:\\\\Users\\\\I349732\\\\AppData\\\\Local\\\\Temp\\\\tfhub_modules\\\\1fb57c3ffe1a38479233ee9853ddd7a8ac8a8c47\\\\variables\\\\variables' with SNLI/Classifier/tanh_layer_0/weights\n",
      "I0402 11:34:49.668297 21712 tf_logging.py:116] Initialize variable dnn/input_from_feature_columns/input_layer/text_hub_module_embedding/module/global_step:0 from checkpoint b'C:\\\\Users\\\\I349732\\\\AppData\\\\Local\\\\Temp\\\\tfhub_modules\\\\1fb57c3ffe1a38479233ee9853ddd7a8ac8a8c47\\\\variables\\\\variables' with global_step\n"
     ]
    },
    {
     "ename": "KeyboardInterrupt",
     "evalue": "",
     "output_type": "error",
     "traceback": [
      "\u001b[1;31m---------------------------------------------------------------------------\u001b[0m",
      "\u001b[1;31mKeyboardInterrupt\u001b[0m                         Traceback (most recent call last)",
      "\u001b[1;32m<ipython-input-15-5aff2de067f1>\u001b[0m in \u001b[0;36m<module>\u001b[1;34m()\u001b[0m\n\u001b[0;32m      1\u001b[0m \u001b[0mtf\u001b[0m\u001b[1;33m.\u001b[0m\u001b[0mlogging\u001b[0m\u001b[1;33m.\u001b[0m\u001b[0mset_verbosity\u001b[0m\u001b[1;33m(\u001b[0m\u001b[0mtf\u001b[0m\u001b[1;33m.\u001b[0m\u001b[0mlogging\u001b[0m\u001b[1;33m.\u001b[0m\u001b[0mINFO\u001b[0m\u001b[1;33m)\u001b[0m\u001b[1;33m\u001b[0m\u001b[0m\n\u001b[1;32m----> 2\u001b[1;33m \u001b[0mestimator\u001b[0m\u001b[1;33m.\u001b[0m\u001b[0mtrain\u001b[0m\u001b[1;33m(\u001b[0m\u001b[0minput_fn\u001b[0m\u001b[1;33m=\u001b[0m\u001b[0mtrain_input_fn\u001b[0m\u001b[1;33m)\u001b[0m\u001b[1;33m\u001b[0m\u001b[0m\n\u001b[0m",
      "\u001b[1;32m~\\AppData\\Local\\Continuum\\anaconda3\\envs\\tfdeeplearning\\lib\\site-packages\\tensorflow\\python\\estimator\\estimator.py\u001b[0m in \u001b[0;36mtrain\u001b[1;34m(self, input_fn, hooks, steps, max_steps, saving_listeners)\u001b[0m\n\u001b[0;32m    353\u001b[0m \u001b[1;33m\u001b[0m\u001b[0m\n\u001b[0;32m    354\u001b[0m     \u001b[0msaving_listeners\u001b[0m \u001b[1;33m=\u001b[0m \u001b[0m_check_listeners_type\u001b[0m\u001b[1;33m(\u001b[0m\u001b[0msaving_listeners\u001b[0m\u001b[1;33m)\u001b[0m\u001b[1;33m\u001b[0m\u001b[0m\n\u001b[1;32m--> 355\u001b[1;33m     \u001b[0mloss\u001b[0m \u001b[1;33m=\u001b[0m \u001b[0mself\u001b[0m\u001b[1;33m.\u001b[0m\u001b[0m_train_model\u001b[0m\u001b[1;33m(\u001b[0m\u001b[0minput_fn\u001b[0m\u001b[1;33m,\u001b[0m \u001b[0mhooks\u001b[0m\u001b[1;33m,\u001b[0m \u001b[0msaving_listeners\u001b[0m\u001b[1;33m)\u001b[0m\u001b[1;33m\u001b[0m\u001b[0m\n\u001b[0m\u001b[0;32m    356\u001b[0m     \u001b[0mlogging\u001b[0m\u001b[1;33m.\u001b[0m\u001b[0minfo\u001b[0m\u001b[1;33m(\u001b[0m\u001b[1;34m'Loss for final step: %s.'\u001b[0m\u001b[1;33m,\u001b[0m \u001b[0mloss\u001b[0m\u001b[1;33m)\u001b[0m\u001b[1;33m\u001b[0m\u001b[0m\n\u001b[0;32m    357\u001b[0m     \u001b[1;32mreturn\u001b[0m \u001b[0mself\u001b[0m\u001b[1;33m\u001b[0m\u001b[0m\n",
      "\u001b[1;32m~\\AppData\\Local\\Continuum\\anaconda3\\envs\\tfdeeplearning\\lib\\site-packages\\tensorflow\\python\\estimator\\estimator.py\u001b[0m in \u001b[0;36m_train_model\u001b[1;34m(self, input_fn, hooks, saving_listeners)\u001b[0m\n\u001b[0;32m    822\u001b[0m       \u001b[0mworker_hooks\u001b[0m\u001b[1;33m.\u001b[0m\u001b[0mextend\u001b[0m\u001b[1;33m(\u001b[0m\u001b[0minput_hooks\u001b[0m\u001b[1;33m)\u001b[0m\u001b[1;33m\u001b[0m\u001b[0m\n\u001b[0;32m    823\u001b[0m       estimator_spec = self._call_model_fn(\n\u001b[1;32m--> 824\u001b[1;33m           features, labels, model_fn_lib.ModeKeys.TRAIN, self.config)\n\u001b[0m\u001b[0;32m    825\u001b[0m \u001b[1;33m\u001b[0m\u001b[0m\n\u001b[0;32m    826\u001b[0m       \u001b[1;32mif\u001b[0m \u001b[0mself\u001b[0m\u001b[1;33m.\u001b[0m\u001b[0m_warm_start_settings\u001b[0m\u001b[1;33m:\u001b[0m\u001b[1;33m\u001b[0m\u001b[0m\n",
      "\u001b[1;32m~\\AppData\\Local\\Continuum\\anaconda3\\envs\\tfdeeplearning\\lib\\site-packages\\tensorflow\\python\\estimator\\estimator.py\u001b[0m in \u001b[0;36m_call_model_fn\u001b[1;34m(self, features, labels, mode, config)\u001b[0m\n\u001b[0;32m    803\u001b[0m \u001b[1;33m\u001b[0m\u001b[0m\n\u001b[0;32m    804\u001b[0m     \u001b[0mlogging\u001b[0m\u001b[1;33m.\u001b[0m\u001b[0minfo\u001b[0m\u001b[1;33m(\u001b[0m\u001b[1;34m'Calling model_fn.'\u001b[0m\u001b[1;33m)\u001b[0m\u001b[1;33m\u001b[0m\u001b[0m\n\u001b[1;32m--> 805\u001b[1;33m     \u001b[0mmodel_fn_results\u001b[0m \u001b[1;33m=\u001b[0m \u001b[0mself\u001b[0m\u001b[1;33m.\u001b[0m\u001b[0m_model_fn\u001b[0m\u001b[1;33m(\u001b[0m\u001b[0mfeatures\u001b[0m\u001b[1;33m=\u001b[0m\u001b[0mfeatures\u001b[0m\u001b[1;33m,\u001b[0m \u001b[1;33m**\u001b[0m\u001b[0mkwargs\u001b[0m\u001b[1;33m)\u001b[0m\u001b[1;33m\u001b[0m\u001b[0m\n\u001b[0m\u001b[0;32m    806\u001b[0m     \u001b[0mlogging\u001b[0m\u001b[1;33m.\u001b[0m\u001b[0minfo\u001b[0m\u001b[1;33m(\u001b[0m\u001b[1;34m'Done calling model_fn.'\u001b[0m\u001b[1;33m)\u001b[0m\u001b[1;33m\u001b[0m\u001b[0m\n\u001b[0;32m    807\u001b[0m \u001b[1;33m\u001b[0m\u001b[0m\n",
      "\u001b[1;32m~\\AppData\\Local\\Continuum\\anaconda3\\envs\\tfdeeplearning\\lib\\site-packages\\tensorflow\\contrib\\estimator\\python\\estimator\\dnn.py\u001b[0m in \u001b[0;36m_model_fn\u001b[1;34m(features, labels, mode, config)\u001b[0m\n\u001b[0;32m    130\u001b[0m           \u001b[0mdropout\u001b[0m\u001b[1;33m=\u001b[0m\u001b[0mdropout\u001b[0m\u001b[1;33m,\u001b[0m\u001b[1;33m\u001b[0m\u001b[0m\n\u001b[0;32m    131\u001b[0m           \u001b[0minput_layer_partitioner\u001b[0m\u001b[1;33m=\u001b[0m\u001b[0minput_layer_partitioner\u001b[0m\u001b[1;33m,\u001b[0m\u001b[1;33m\u001b[0m\u001b[0m\n\u001b[1;32m--> 132\u001b[1;33m           config=config)\n\u001b[0m\u001b[0;32m    133\u001b[0m     super(DNNEstimator, self).__init__(\n\u001b[0;32m    134\u001b[0m         model_fn=_model_fn, model_dir=model_dir, config=config)\n",
      "\u001b[1;32m~\\AppData\\Local\\Continuum\\anaconda3\\envs\\tfdeeplearning\\lib\\site-packages\\tensorflow\\python\\estimator\\canned\\dnn.py\u001b[0m in \u001b[0;36m_dnn_model_fn\u001b[1;34m(features, labels, mode, head, hidden_units, feature_columns, optimizer, activation_fn, dropout, input_layer_partitioner, config)\u001b[0m\n\u001b[0;32m    182\u001b[0m         \u001b[0mdropout\u001b[0m\u001b[1;33m=\u001b[0m\u001b[0mdropout\u001b[0m\u001b[1;33m,\u001b[0m\u001b[1;33m\u001b[0m\u001b[0m\n\u001b[0;32m    183\u001b[0m         input_layer_partitioner=input_layer_partitioner)\n\u001b[1;32m--> 184\u001b[1;33m     \u001b[0mlogits\u001b[0m \u001b[1;33m=\u001b[0m \u001b[0mlogit_fn\u001b[0m\u001b[1;33m(\u001b[0m\u001b[0mfeatures\u001b[0m\u001b[1;33m=\u001b[0m\u001b[0mfeatures\u001b[0m\u001b[1;33m,\u001b[0m \u001b[0mmode\u001b[0m\u001b[1;33m=\u001b[0m\u001b[0mmode\u001b[0m\u001b[1;33m)\u001b[0m\u001b[1;33m\u001b[0m\u001b[0m\n\u001b[0m\u001b[0;32m    185\u001b[0m \u001b[1;33m\u001b[0m\u001b[0m\n\u001b[0;32m    186\u001b[0m     \u001b[1;32mdef\u001b[0m \u001b[0m_train_op_fn\u001b[0m\u001b[1;33m(\u001b[0m\u001b[0mloss\u001b[0m\u001b[1;33m)\u001b[0m\u001b[1;33m:\u001b[0m\u001b[1;33m\u001b[0m\u001b[0m\n",
      "\u001b[1;32m~\\AppData\\Local\\Continuum\\anaconda3\\envs\\tfdeeplearning\\lib\\site-packages\\tensorflow\\python\\estimator\\canned\\dnn.py\u001b[0m in \u001b[0;36mdnn_logit_fn\u001b[1;34m(features, mode)\u001b[0m\n\u001b[0;32m     90\u001b[0m         partitioner=input_layer_partitioner):\n\u001b[0;32m     91\u001b[0m       net = feature_column_lib.input_layer(\n\u001b[1;32m---> 92\u001b[1;33m           features=features, feature_columns=feature_columns)\n\u001b[0m\u001b[0;32m     93\u001b[0m     \u001b[1;32mfor\u001b[0m \u001b[0mlayer_id\u001b[0m\u001b[1;33m,\u001b[0m \u001b[0mnum_hidden_units\u001b[0m \u001b[1;32min\u001b[0m \u001b[0menumerate\u001b[0m\u001b[1;33m(\u001b[0m\u001b[0mhidden_units\u001b[0m\u001b[1;33m)\u001b[0m\u001b[1;33m:\u001b[0m\u001b[1;33m\u001b[0m\u001b[0m\n\u001b[0;32m     94\u001b[0m       with variable_scope.variable_scope(\n",
      "\u001b[1;32m~\\AppData\\Local\\Continuum\\anaconda3\\envs\\tfdeeplearning\\lib\\site-packages\\tensorflow\\python\\feature_column\\feature_column.py\u001b[0m in \u001b[0;36minput_layer\u001b[1;34m(features, feature_columns, weight_collections, trainable, cols_to_vars)\u001b[0m\n\u001b[0;32m    272\u001b[0m   \"\"\"\n\u001b[0;32m    273\u001b[0m   return _internal_input_layer(features, feature_columns, weight_collections,\n\u001b[1;32m--> 274\u001b[1;33m                                trainable, cols_to_vars)\n\u001b[0m\u001b[0;32m    275\u001b[0m \u001b[1;33m\u001b[0m\u001b[0m\n\u001b[0;32m    276\u001b[0m \u001b[1;33m\u001b[0m\u001b[0m\n",
      "\u001b[1;32m~\\AppData\\Local\\Continuum\\anaconda3\\envs\\tfdeeplearning\\lib\\site-packages\\tensorflow\\python\\feature_column\\feature_column.py\u001b[0m in \u001b[0;36m_internal_input_layer\u001b[1;34m(features, feature_columns, weight_collections, trainable, cols_to_vars, scope)\u001b[0m\n\u001b[0;32m    197\u001b[0m             \u001b[0mbuilder\u001b[0m\u001b[1;33m,\u001b[0m\u001b[1;33m\u001b[0m\u001b[0m\n\u001b[0;32m    198\u001b[0m             \u001b[0mweight_collections\u001b[0m\u001b[1;33m=\u001b[0m\u001b[0mweight_collections\u001b[0m\u001b[1;33m,\u001b[0m\u001b[1;33m\u001b[0m\u001b[0m\n\u001b[1;32m--> 199\u001b[1;33m             trainable=trainable)\n\u001b[0m\u001b[0;32m    200\u001b[0m         \u001b[0mnum_elements\u001b[0m \u001b[1;33m=\u001b[0m \u001b[0mcolumn\u001b[0m\u001b[1;33m.\u001b[0m\u001b[0m_variable_shape\u001b[0m\u001b[1;33m.\u001b[0m\u001b[0mnum_elements\u001b[0m\u001b[1;33m(\u001b[0m\u001b[1;33m)\u001b[0m  \u001b[1;31m# pylint: disable=protected-access\u001b[0m\u001b[1;33m\u001b[0m\u001b[0m\n\u001b[0;32m    201\u001b[0m         \u001b[0mbatch_size\u001b[0m \u001b[1;33m=\u001b[0m \u001b[0marray_ops\u001b[0m\u001b[1;33m.\u001b[0m\u001b[0mshape\u001b[0m\u001b[1;33m(\u001b[0m\u001b[0mtensor\u001b[0m\u001b[1;33m)\u001b[0m\u001b[1;33m[\u001b[0m\u001b[1;36m0\u001b[0m\u001b[1;33m]\u001b[0m\u001b[1;33m\u001b[0m\u001b[0m\n",
      "\u001b[1;32m~\\AppData\\Local\\Continuum\\anaconda3\\envs\\tfdeeplearning\\lib\\site-packages\\tensorflow_hub\\feature_column.py\u001b[0m in \u001b[0;36m_get_dense_tensor\u001b[1;34m(***failed resolving arguments***)\u001b[0m\n\u001b[0;32m    157\u001b[0m     \u001b[0mtext_batch\u001b[0m \u001b[1;33m=\u001b[0m \u001b[0mtf\u001b[0m\u001b[1;33m.\u001b[0m\u001b[0mreshape\u001b[0m\u001b[1;33m(\u001b[0m\u001b[0minputs\u001b[0m\u001b[1;33m.\u001b[0m\u001b[0mget\u001b[0m\u001b[1;33m(\u001b[0m\u001b[0mself\u001b[0m\u001b[1;33m)\u001b[0m\u001b[1;33m,\u001b[0m \u001b[0mshape\u001b[0m\u001b[1;33m=\u001b[0m\u001b[1;33m[\u001b[0m\u001b[1;33m-\u001b[0m\u001b[1;36m1\u001b[0m\u001b[1;33m]\u001b[0m\u001b[1;33m)\u001b[0m\u001b[1;33m\u001b[0m\u001b[0m\n\u001b[0;32m    158\u001b[0m     \u001b[0mm\u001b[0m \u001b[1;33m=\u001b[0m \u001b[0mmodule\u001b[0m\u001b[1;33m.\u001b[0m\u001b[0mModule\u001b[0m\u001b[1;33m(\u001b[0m\u001b[0mself\u001b[0m\u001b[1;33m.\u001b[0m\u001b[0mmodule_spec\u001b[0m\u001b[1;33m,\u001b[0m \u001b[0mtrainable\u001b[0m\u001b[1;33m=\u001b[0m\u001b[0mself\u001b[0m\u001b[1;33m.\u001b[0m\u001b[0mtrainable\u001b[0m \u001b[1;32mand\u001b[0m \u001b[0mtrainable\u001b[0m\u001b[1;33m)\u001b[0m\u001b[1;33m\u001b[0m\u001b[0m\n\u001b[1;32m--> 159\u001b[1;33m     \u001b[1;32mreturn\u001b[0m \u001b[0mm\u001b[0m\u001b[1;33m(\u001b[0m\u001b[0mtext_batch\u001b[0m\u001b[1;33m)\u001b[0m\u001b[1;33m\u001b[0m\u001b[0m\n\u001b[0m\u001b[0;32m    160\u001b[0m \u001b[1;33m\u001b[0m\u001b[0m\n\u001b[0;32m    161\u001b[0m \u001b[1;33m\u001b[0m\u001b[0m\n",
      "\u001b[1;32m~\\AppData\\Local\\Continuum\\anaconda3\\envs\\tfdeeplearning\\lib\\site-packages\\tensorflow_hub\\module.py\u001b[0m in \u001b[0;36m__call__\u001b[1;34m(self, inputs, _sentinel, signature, as_dict)\u001b[0m\n\u001b[0;32m    248\u001b[0m         \u001b[0msignature\u001b[0m\u001b[1;33m=\u001b[0m\u001b[0msignature\u001b[0m\u001b[1;33m,\u001b[0m\u001b[1;33m\u001b[0m\u001b[0m\n\u001b[0;32m    249\u001b[0m         \u001b[0minput_tensors\u001b[0m\u001b[1;33m=\u001b[0m\u001b[0mdict_inputs\u001b[0m\u001b[1;33m,\u001b[0m\u001b[1;33m\u001b[0m\u001b[0m\n\u001b[1;32m--> 250\u001b[1;33m         name=name)\n\u001b[0m\u001b[0;32m    251\u001b[0m     \u001b[1;32mreturn\u001b[0m \u001b[0m_prepare_outputs\u001b[0m\u001b[1;33m(\u001b[0m\u001b[0mdict_outputs\u001b[0m\u001b[1;33m,\u001b[0m \u001b[0mas_dict\u001b[0m\u001b[1;33m=\u001b[0m\u001b[0mas_dict\u001b[0m\u001b[1;33m)\u001b[0m\u001b[1;33m\u001b[0m\u001b[0m\n\u001b[0;32m    252\u001b[0m \u001b[1;33m\u001b[0m\u001b[0m\n",
      "\u001b[1;32m~\\AppData\\Local\\Continuum\\anaconda3\\envs\\tfdeeplearning\\lib\\site-packages\\tensorflow_hub\\native_module.py\u001b[0m in \u001b[0;36mcreate_apply_graph\u001b[1;34m(self, signature, input_tensors, name)\u001b[0m\n\u001b[0;32m    517\u001b[0m         import_scope=relative_scope_name)\n\u001b[0;32m    518\u001b[0m     fix_colocation_after_import(input_map=feed_map,\n\u001b[1;32m--> 519\u001b[1;33m                                 absolute_import_scope=absolute_scope_name)\n\u001b[0m\u001b[0;32m    520\u001b[0m \u001b[1;33m\u001b[0m\u001b[0m\n\u001b[0;32m    521\u001b[0m     \u001b[1;32mdef\u001b[0m \u001b[0mget_tensor\u001b[0m\u001b[1;33m(\u001b[0m\u001b[0mname\u001b[0m\u001b[1;33m)\u001b[0m\u001b[1;33m:\u001b[0m\u001b[1;33m\u001b[0m\u001b[0m\n",
      "\u001b[1;32m~\\AppData\\Local\\Continuum\\anaconda3\\envs\\tfdeeplearning\\lib\\site-packages\\tensorflow_hub\\native_module.py\u001b[0m in \u001b[0;36mfix_colocation_after_import\u001b[1;34m(input_map, absolute_import_scope)\u001b[0m\n\u001b[0;32m    813\u001b[0m   \"\"\"\n\u001b[0;32m    814\u001b[0m   \u001b[0mattr_map\u001b[0m \u001b[1;33m=\u001b[0m \u001b[0m_build_colocation_attr_map\u001b[0m\u001b[1;33m(\u001b[0m\u001b[0minput_map\u001b[0m\u001b[1;33m,\u001b[0m \u001b[0mabsolute_import_scope\u001b[0m\u001b[1;33m)\u001b[0m\u001b[1;33m\u001b[0m\u001b[0m\n\u001b[1;32m--> 815\u001b[1;33m   \u001b[0m_apply_colocation_attr_map\u001b[0m\u001b[1;33m(\u001b[0m\u001b[0mattr_map\u001b[0m\u001b[1;33m,\u001b[0m \u001b[0mabsolute_import_scope\u001b[0m\u001b[1;33m)\u001b[0m\u001b[1;33m\u001b[0m\u001b[0m\n\u001b[0m\u001b[0;32m    816\u001b[0m \u001b[1;33m\u001b[0m\u001b[0m\n\u001b[0;32m    817\u001b[0m \u001b[1;33m\u001b[0m\u001b[0m\n",
      "\u001b[1;32m~\\AppData\\Local\\Continuum\\anaconda3\\envs\\tfdeeplearning\\lib\\site-packages\\tensorflow_hub\\native_module.py\u001b[0m in \u001b[0;36m_apply_colocation_attr_map\u001b[1;34m(colocation_attr_map, absolute_import_scope)\u001b[0m\n\u001b[0;32m    935\u001b[0m     \u001b[1;32mif\u001b[0m \u001b[1;32mnot\u001b[0m \u001b[0mop\u001b[0m\u001b[1;33m.\u001b[0m\u001b[0mname\u001b[0m\u001b[1;33m.\u001b[0m\u001b[0mstartswith\u001b[0m\u001b[1;33m(\u001b[0m\u001b[0mabsolute_import_scope\u001b[0m \u001b[1;33m+\u001b[0m \u001b[1;34m\"/\"\u001b[0m\u001b[1;33m)\u001b[0m\u001b[1;33m:\u001b[0m \u001b[1;32mcontinue\u001b[0m\u001b[1;33m\u001b[0m\u001b[0m\n\u001b[0;32m    936\u001b[0m     \u001b[1;32mtry\u001b[0m\u001b[1;33m:\u001b[0m\u001b[1;33m\u001b[0m\u001b[0m\n\u001b[1;32m--> 937\u001b[1;33m       \u001b[0mclass_values\u001b[0m \u001b[1;33m=\u001b[0m \u001b[0mop\u001b[0m\u001b[1;33m.\u001b[0m\u001b[0mget_attr\u001b[0m\u001b[1;33m(\u001b[0m\u001b[1;34m\"_class\"\u001b[0m\u001b[1;33m)\u001b[0m\u001b[1;33m\u001b[0m\u001b[0m\n\u001b[0m\u001b[0;32m    938\u001b[0m     \u001b[1;32mexcept\u001b[0m \u001b[0mValueError\u001b[0m\u001b[1;33m:\u001b[0m\u001b[1;33m\u001b[0m\u001b[0m\n\u001b[0;32m    939\u001b[0m       \u001b[1;32mcontinue\u001b[0m  \u001b[1;31m# No _class attr found; nothing to do.\u001b[0m\u001b[1;33m\u001b[0m\u001b[0m\n",
      "\u001b[1;32m~\\AppData\\Local\\Continuum\\anaconda3\\envs\\tfdeeplearning\\lib\\site-packages\\tensorflow\\python\\framework\\ops.py\u001b[0m in \u001b[0;36mget_attr\u001b[1;34m(self, name)\u001b[0m\n\u001b[0;32m   2238\u001b[0m       \u001b[1;32mif\u001b[0m \u001b[0mname\u001b[0m \u001b[1;32mnot\u001b[0m \u001b[1;32min\u001b[0m \u001b[0mself\u001b[0m\u001b[1;33m.\u001b[0m\u001b[0m_node_def_val\u001b[0m\u001b[1;33m.\u001b[0m\u001b[0mattr\u001b[0m\u001b[1;33m:\u001b[0m\u001b[1;33m\u001b[0m\u001b[0m\n\u001b[0;32m   2239\u001b[0m         raise ValueError(\n\u001b[1;32m-> 2240\u001b[1;33m             \"No attr named '\" + name + \"' in \" + str(self._node_def_val))\n\u001b[0m\u001b[0;32m   2241\u001b[0m       \u001b[0mx\u001b[0m \u001b[1;33m=\u001b[0m \u001b[0mself\u001b[0m\u001b[1;33m.\u001b[0m\u001b[0m_node_def_val\u001b[0m\u001b[1;33m.\u001b[0m\u001b[0mattr\u001b[0m\u001b[1;33m[\u001b[0m\u001b[0mname\u001b[0m\u001b[1;33m]\u001b[0m\u001b[1;33m\u001b[0m\u001b[0m\n\u001b[0;32m   2242\u001b[0m \u001b[1;33m\u001b[0m\u001b[0m\n",
      "\u001b[1;32m~\\AppData\\Local\\Continuum\\anaconda3\\envs\\tfdeeplearning\\lib\\site-packages\\google\\protobuf\\internal\\python_message.py\u001b[0m in \u001b[0;36m__str__\u001b[1;34m(self)\u001b[0m\n\u001b[0;32m    964\u001b[0m   \u001b[1;34m\"\"\"Helper for _AddMessageMethods().\"\"\"\u001b[0m\u001b[1;33m\u001b[0m\u001b[0m\n\u001b[0;32m    965\u001b[0m   \u001b[1;32mdef\u001b[0m \u001b[0m__str__\u001b[0m\u001b[1;33m(\u001b[0m\u001b[0mself\u001b[0m\u001b[1;33m)\u001b[0m\u001b[1;33m:\u001b[0m\u001b[1;33m\u001b[0m\u001b[0m\n\u001b[1;32m--> 966\u001b[1;33m     \u001b[1;32mreturn\u001b[0m \u001b[0mtext_format\u001b[0m\u001b[1;33m.\u001b[0m\u001b[0mMessageToString\u001b[0m\u001b[1;33m(\u001b[0m\u001b[0mself\u001b[0m\u001b[1;33m)\u001b[0m\u001b[1;33m\u001b[0m\u001b[0m\n\u001b[0m\u001b[0;32m    967\u001b[0m   \u001b[0mcls\u001b[0m\u001b[1;33m.\u001b[0m\u001b[0m__str__\u001b[0m \u001b[1;33m=\u001b[0m \u001b[0m__str__\u001b[0m\u001b[1;33m\u001b[0m\u001b[0m\n\u001b[0;32m    968\u001b[0m \u001b[1;33m\u001b[0m\u001b[0m\n",
      "\u001b[1;32m~\\AppData\\Local\\Continuum\\anaconda3\\envs\\tfdeeplearning\\lib\\site-packages\\google\\protobuf\\text_format.py\u001b[0m in \u001b[0;36mMessageToString\u001b[1;34m(message, as_utf8, as_one_line, pointy_brackets, use_index_order, float_format, use_field_number, descriptor_pool, indent, message_formatter)\u001b[0m\n\u001b[0;32m    163\u001b[0m                      \u001b[0muse_index_order\u001b[0m\u001b[1;33m,\u001b[0m \u001b[0mfloat_format\u001b[0m\u001b[1;33m,\u001b[0m \u001b[0muse_field_number\u001b[0m\u001b[1;33m,\u001b[0m\u001b[1;33m\u001b[0m\u001b[0m\n\u001b[0;32m    164\u001b[0m                      descriptor_pool, message_formatter)\n\u001b[1;32m--> 165\u001b[1;33m   \u001b[0mprinter\u001b[0m\u001b[1;33m.\u001b[0m\u001b[0mPrintMessage\u001b[0m\u001b[1;33m(\u001b[0m\u001b[0mmessage\u001b[0m\u001b[1;33m)\u001b[0m\u001b[1;33m\u001b[0m\u001b[0m\n\u001b[0m\u001b[0;32m    166\u001b[0m   \u001b[0mresult\u001b[0m \u001b[1;33m=\u001b[0m \u001b[0mout\u001b[0m\u001b[1;33m.\u001b[0m\u001b[0mgetvalue\u001b[0m\u001b[1;33m(\u001b[0m\u001b[1;33m)\u001b[0m\u001b[1;33m\u001b[0m\u001b[0m\n\u001b[0;32m    167\u001b[0m   \u001b[0mout\u001b[0m\u001b[1;33m.\u001b[0m\u001b[0mclose\u001b[0m\u001b[1;33m(\u001b[0m\u001b[1;33m)\u001b[0m\u001b[1;33m\u001b[0m\u001b[0m\n",
      "\u001b[1;32m~\\AppData\\Local\\Continuum\\anaconda3\\envs\\tfdeeplearning\\lib\\site-packages\\google\\protobuf\\text_format.py\u001b[0m in \u001b[0;36mPrintMessage\u001b[1;34m(self, message)\u001b[0m\n\u001b[0;32m    350\u001b[0m           \u001b[1;31m# TODO(haberman): refactor and optimize if this becomes an issue.\u001b[0m\u001b[1;33m\u001b[0m\u001b[1;33m\u001b[0m\u001b[0m\n\u001b[0;32m    351\u001b[0m           \u001b[0mentry_submsg\u001b[0m \u001b[1;33m=\u001b[0m \u001b[0mvalue\u001b[0m\u001b[1;33m.\u001b[0m\u001b[0mGetEntryClass\u001b[0m\u001b[1;33m(\u001b[0m\u001b[1;33m)\u001b[0m\u001b[1;33m(\u001b[0m\u001b[0mkey\u001b[0m\u001b[1;33m=\u001b[0m\u001b[0mkey\u001b[0m\u001b[1;33m,\u001b[0m \u001b[0mvalue\u001b[0m\u001b[1;33m=\u001b[0m\u001b[0mvalue\u001b[0m\u001b[1;33m[\u001b[0m\u001b[0mkey\u001b[0m\u001b[1;33m]\u001b[0m\u001b[1;33m)\u001b[0m\u001b[1;33m\u001b[0m\u001b[0m\n\u001b[1;32m--> 352\u001b[1;33m           \u001b[0mself\u001b[0m\u001b[1;33m.\u001b[0m\u001b[0mPrintField\u001b[0m\u001b[1;33m(\u001b[0m\u001b[0mfield\u001b[0m\u001b[1;33m,\u001b[0m \u001b[0mentry_submsg\u001b[0m\u001b[1;33m)\u001b[0m\u001b[1;33m\u001b[0m\u001b[0m\n\u001b[0m\u001b[0;32m    353\u001b[0m       \u001b[1;32melif\u001b[0m \u001b[0mfield\u001b[0m\u001b[1;33m.\u001b[0m\u001b[0mlabel\u001b[0m \u001b[1;33m==\u001b[0m \u001b[0mdescriptor\u001b[0m\u001b[1;33m.\u001b[0m\u001b[0mFieldDescriptor\u001b[0m\u001b[1;33m.\u001b[0m\u001b[0mLABEL_REPEATED\u001b[0m\u001b[1;33m:\u001b[0m\u001b[1;33m\u001b[0m\u001b[0m\n\u001b[0;32m    354\u001b[0m         \u001b[1;32mfor\u001b[0m \u001b[0melement\u001b[0m \u001b[1;32min\u001b[0m \u001b[0mvalue\u001b[0m\u001b[1;33m:\u001b[0m\u001b[1;33m\u001b[0m\u001b[0m\n",
      "\u001b[1;32m~\\AppData\\Local\\Continuum\\anaconda3\\envs\\tfdeeplearning\\lib\\site-packages\\google\\protobuf\\text_format.py\u001b[0m in \u001b[0;36mPrintField\u001b[1;34m(self, field, value)\u001b[0m\n\u001b[0;32m    384\u001b[0m       \u001b[0mout\u001b[0m\u001b[1;33m.\u001b[0m\u001b[0mwrite\u001b[0m\u001b[1;33m(\u001b[0m\u001b[1;34m': '\u001b[0m\u001b[1;33m)\u001b[0m\u001b[1;33m\u001b[0m\u001b[0m\n\u001b[0;32m    385\u001b[0m \u001b[1;33m\u001b[0m\u001b[0m\n\u001b[1;32m--> 386\u001b[1;33m     \u001b[0mself\u001b[0m\u001b[1;33m.\u001b[0m\u001b[0mPrintFieldValue\u001b[0m\u001b[1;33m(\u001b[0m\u001b[0mfield\u001b[0m\u001b[1;33m,\u001b[0m \u001b[0mvalue\u001b[0m\u001b[1;33m)\u001b[0m\u001b[1;33m\u001b[0m\u001b[0m\n\u001b[0m\u001b[0;32m    387\u001b[0m     \u001b[1;32mif\u001b[0m \u001b[0mself\u001b[0m\u001b[1;33m.\u001b[0m\u001b[0mas_one_line\u001b[0m\u001b[1;33m:\u001b[0m\u001b[1;33m\u001b[0m\u001b[0m\n\u001b[0;32m    388\u001b[0m       \u001b[0mout\u001b[0m\u001b[1;33m.\u001b[0m\u001b[0mwrite\u001b[0m\u001b[1;33m(\u001b[0m\u001b[1;34m' '\u001b[0m\u001b[1;33m)\u001b[0m\u001b[1;33m\u001b[0m\u001b[0m\n",
      "\u001b[1;32m~\\AppData\\Local\\Continuum\\anaconda3\\envs\\tfdeeplearning\\lib\\site-packages\\google\\protobuf\\text_format.py\u001b[0m in \u001b[0;36mPrintFieldValue\u001b[1;34m(self, field, value)\u001b[0m\n\u001b[0;32m    420\u001b[0m     \u001b[0mout\u001b[0m \u001b[1;33m=\u001b[0m \u001b[0mself\u001b[0m\u001b[1;33m.\u001b[0m\u001b[0mout\u001b[0m\u001b[1;33m\u001b[0m\u001b[0m\n\u001b[0;32m    421\u001b[0m     \u001b[1;32mif\u001b[0m \u001b[0mfield\u001b[0m\u001b[1;33m.\u001b[0m\u001b[0mcpp_type\u001b[0m \u001b[1;33m==\u001b[0m \u001b[0mdescriptor\u001b[0m\u001b[1;33m.\u001b[0m\u001b[0mFieldDescriptor\u001b[0m\u001b[1;33m.\u001b[0m\u001b[0mCPPTYPE_MESSAGE\u001b[0m\u001b[1;33m:\u001b[0m\u001b[1;33m\u001b[0m\u001b[0m\n\u001b[1;32m--> 422\u001b[1;33m       \u001b[0mself\u001b[0m\u001b[1;33m.\u001b[0m\u001b[0m_PrintMessageFieldValue\u001b[0m\u001b[1;33m(\u001b[0m\u001b[0mvalue\u001b[0m\u001b[1;33m)\u001b[0m\u001b[1;33m\u001b[0m\u001b[0m\n\u001b[0m\u001b[0;32m    423\u001b[0m     \u001b[1;32melif\u001b[0m \u001b[0mfield\u001b[0m\u001b[1;33m.\u001b[0m\u001b[0mcpp_type\u001b[0m \u001b[1;33m==\u001b[0m \u001b[0mdescriptor\u001b[0m\u001b[1;33m.\u001b[0m\u001b[0mFieldDescriptor\u001b[0m\u001b[1;33m.\u001b[0m\u001b[0mCPPTYPE_ENUM\u001b[0m\u001b[1;33m:\u001b[0m\u001b[1;33m\u001b[0m\u001b[0m\n\u001b[0;32m    424\u001b[0m       \u001b[0menum_value\u001b[0m \u001b[1;33m=\u001b[0m \u001b[0mfield\u001b[0m\u001b[1;33m.\u001b[0m\u001b[0menum_type\u001b[0m\u001b[1;33m.\u001b[0m\u001b[0mvalues_by_number\u001b[0m\u001b[1;33m.\u001b[0m\u001b[0mget\u001b[0m\u001b[1;33m(\u001b[0m\u001b[0mvalue\u001b[0m\u001b[1;33m,\u001b[0m \u001b[1;32mNone\u001b[0m\u001b[1;33m)\u001b[0m\u001b[1;33m\u001b[0m\u001b[0m\n",
      "\u001b[1;32m~\\AppData\\Local\\Continuum\\anaconda3\\envs\\tfdeeplearning\\lib\\site-packages\\google\\protobuf\\text_format.py\u001b[0m in \u001b[0;36m_PrintMessageFieldValue\u001b[1;34m(self, value)\u001b[0m\n\u001b[0;32m    405\u001b[0m       \u001b[0mself\u001b[0m\u001b[1;33m.\u001b[0m\u001b[0mout\u001b[0m\u001b[1;33m.\u001b[0m\u001b[0mwrite\u001b[0m\u001b[1;33m(\u001b[0m\u001b[1;34m' %s\\n'\u001b[0m \u001b[1;33m%\u001b[0m \u001b[0mopenb\u001b[0m\u001b[1;33m)\u001b[0m\u001b[1;33m\u001b[0m\u001b[0m\n\u001b[0;32m    406\u001b[0m       \u001b[0mself\u001b[0m\u001b[1;33m.\u001b[0m\u001b[0mindent\u001b[0m \u001b[1;33m+=\u001b[0m \u001b[1;36m2\u001b[0m\u001b[1;33m\u001b[0m\u001b[0m\n\u001b[1;32m--> 407\u001b[1;33m       \u001b[0mself\u001b[0m\u001b[1;33m.\u001b[0m\u001b[0mPrintMessage\u001b[0m\u001b[1;33m(\u001b[0m\u001b[0mvalue\u001b[0m\u001b[1;33m)\u001b[0m\u001b[1;33m\u001b[0m\u001b[0m\n\u001b[0m\u001b[0;32m    408\u001b[0m       \u001b[0mself\u001b[0m\u001b[1;33m.\u001b[0m\u001b[0mindent\u001b[0m \u001b[1;33m-=\u001b[0m \u001b[1;36m2\u001b[0m\u001b[1;33m\u001b[0m\u001b[0m\n\u001b[0;32m    409\u001b[0m       \u001b[0mself\u001b[0m\u001b[1;33m.\u001b[0m\u001b[0mout\u001b[0m\u001b[1;33m.\u001b[0m\u001b[0mwrite\u001b[0m\u001b[1;33m(\u001b[0m\u001b[1;34m' '\u001b[0m \u001b[1;33m*\u001b[0m \u001b[0mself\u001b[0m\u001b[1;33m.\u001b[0m\u001b[0mindent\u001b[0m \u001b[1;33m+\u001b[0m \u001b[0mcloseb\u001b[0m\u001b[1;33m)\u001b[0m\u001b[1;33m\u001b[0m\u001b[0m\n",
      "\u001b[1;32m~\\AppData\\Local\\Continuum\\anaconda3\\envs\\tfdeeplearning\\lib\\site-packages\\google\\protobuf\\text_format.py\u001b[0m in \u001b[0;36mPrintMessage\u001b[1;34m(self, message)\u001b[0m\n\u001b[0;32m    342\u001b[0m           key=lambda x: x[0].number if x[0].is_extension else x[0].index)\n\u001b[0;32m    343\u001b[0m     \u001b[1;32mfor\u001b[0m \u001b[0mfield\u001b[0m\u001b[1;33m,\u001b[0m \u001b[0mvalue\u001b[0m \u001b[1;32min\u001b[0m \u001b[0mfields\u001b[0m\u001b[1;33m:\u001b[0m\u001b[1;33m\u001b[0m\u001b[0m\n\u001b[1;32m--> 344\u001b[1;33m       \u001b[1;32mif\u001b[0m \u001b[0m_IsMapEntry\u001b[0m\u001b[1;33m(\u001b[0m\u001b[0mfield\u001b[0m\u001b[1;33m)\u001b[0m\u001b[1;33m:\u001b[0m\u001b[1;33m\u001b[0m\u001b[0m\n\u001b[0m\u001b[0;32m    345\u001b[0m         \u001b[1;32mfor\u001b[0m \u001b[0mkey\u001b[0m \u001b[1;32min\u001b[0m \u001b[0msorted\u001b[0m\u001b[1;33m(\u001b[0m\u001b[0mvalue\u001b[0m\u001b[1;33m)\u001b[0m\u001b[1;33m:\u001b[0m\u001b[1;33m\u001b[0m\u001b[0m\n\u001b[0;32m    346\u001b[0m           \u001b[1;31m# This is slow for maps with submessage entries because it copies the\u001b[0m\u001b[1;33m\u001b[0m\u001b[1;33m\u001b[0m\u001b[0m\n",
      "\u001b[1;31mKeyboardInterrupt\u001b[0m: "
     ]
    }
   ],
   "source": [
    "tf.logging.set_verbosity(tf.logging.INFO)\n",
    "estimator.train(input_fn=train_input_fn)"
   ]
  },
  {
   "cell_type": "code",
   "execution_count": null,
   "metadata": {},
   "outputs": [],
   "source": [
    "eval_input_fn = tf.estimator.inputs.numpy_input_fn({\"text\": np.array(test_description).astype(np.str)}, test_encoded.astype(np.int32), shuffle=False)\n",
    "\n",
    "estimator.evaluate(input_fn=eval_input_fn)"
   ]
  },
  {
   "cell_type": "code",
   "execution_count": 16,
   "metadata": {
    "collapsed": true
   },
   "outputs": [],
   "source": [
    "raw_test = [\n",
    "    \"The BBC produced spoof on the â€œReal Housewivesâ€ TV programmes, which has a comedic Islamic State twist, has been criticised by Leftists and Muslims who claim the sketch is offensive. [The BBC released the trailer earlier this week and were immediately slammed by those on the left and Muslims who thought that making fun of the brides of members of the terror group was out of the bounds of conventional humour. The sketch is part of a new programme called â€œRevoltingâ€ written by Jolyon Rubinstein and Heydon Prowse which, according to the BBC, is â€œsatirising the state of the nation. â€  LOLOLOL pic. twitter.   â€”   Raheem Kassam (@RaheemKassam) January 4, 2017,  The BBC2 Facebook page was inundated with criticism. One user wrote, â€œIâ€™m mortified that the BBC had produced such a programme. This is simply bad taste. The fact it is a comedy makes it even more worrying that humour should be associated with the actions of ISIS. Is this really what TV licenses are funding! ?â€ Others took a different point of view including a Muslim saying, â€œAs a Muslim I find this HILARIOUS! Brilliant! The satire is on point highlighting the pathetic ideals of a pathetic group like ISIS. â€ Not all Muslims agreed with the sentiment and users on Twitter expressed just as much outrage for the sketch. One man, a Bangladeshi, said â€œThe BBC really made a satirical show called â€˜The Real Housewives of ISISâ€™ while the real housewives of ISIS are being raped and abused daily. â€   The BBC really made a satirical show called â€The Real Housewives of ISISâ€ while the real housewives of ISIS are being raped and abused daily,  â€”   Meraj. (@UncleMeraj) January 4, 2017,  Another wrote, â€œâ€˜Real Housewives of ISISâ€™ will make Hijabis feel more isolated n targeted by Islamophobes. Thanks @BBC for adding to the negative stereotype. â€ â€™Real Housewives of ISISâ€™ will make Hijabis feel more isolated n targeted by Islamophobes. Thanks @BBC for adding to the negative stereotype,  â€”   aÑ•Ð½ (@AshKaneSkittles) January 4, 2017,  Leftists also articulated how offended they were that the public broadcaster would dare create such a sketch mocking Islamic State. Some questioned whether the use of taxpayer money via the TV license fee should go toward the funding of the programme. As if peopleâ€™s TV license in this country is going towards funding the production of a programme called â€the real housewives of ISISâ€. Wow,  â€”   Cameron Edgar (@CammyyyEdgar) January 4, 2017,    The video itself has already been viewed millions of times on Facebook and other social media platforms.  The clip shows several women in hijabs talking to each other in a    house taking selfies and showing off their suicide belts to each other. One woman even mentions that she hadnâ€™t come from Birmingham â€œto do thisâ€ as she scrubbed the floor of the home. Women joining Islamic State and travelling to Syria to become brides has become a real problem in European countries as the terror group promises young girls a more glamorous lifestyle. In 2014, eight schoolgirls from Bethnal Green travelled to Syria to become brides of Islamic State fighters, all of them under the age of 18.\"\n",
    "]"
   ]
  },
  {
   "cell_type": "code",
   "execution_count": 17,
   "metadata": {
    "collapsed": true
   },
   "outputs": [],
   "source": [
    "predict_input_fn = tf.estimator.inputs.numpy_input_fn({\"text\": np.array(raw_test).astype(np.str)}, shuffle=False)\n",
    "results = estimator.predict(predict_input_fn)"
   ]
  },
  {
   "cell_type": "code",
   "execution_count": 18,
   "metadata": {},
   "outputs": [
    {
     "name": "stderr",
     "output_type": "stream",
     "text": [
      "I0402 11:35:05.546540 21712 tf_logging.py:116] Calling model_fn.\n",
      "I0402 11:35:18.300311 21712 tf_logging.py:116] Initialize variable dnn/input_from_feature_columns/input_layer/text_hub_module_embedding/module/Embeddings_en/sharded_0:0 from checkpoint b'C:\\\\Users\\\\I349732\\\\AppData\\\\Local\\\\Temp\\\\tfhub_modules\\\\1fb57c3ffe1a38479233ee9853ddd7a8ac8a8c47\\\\variables\\\\variables' with Embeddings_en/sharded_0\n",
      "I0402 11:35:18.310336 21712 tf_logging.py:116] Initialize variable dnn/input_from_feature_columns/input_layer/text_hub_module_embedding/module/Embeddings_en/sharded_1:0 from checkpoint b'C:\\\\Users\\\\I349732\\\\AppData\\\\Local\\\\Temp\\\\tfhub_modules\\\\1fb57c3ffe1a38479233ee9853ddd7a8ac8a8c47\\\\variables\\\\variables' with Embeddings_en/sharded_1\n",
      "I0402 11:35:18.320362 21712 tf_logging.py:116] Initialize variable dnn/input_from_feature_columns/input_layer/text_hub_module_embedding/module/Embeddings_en/sharded_10:0 from checkpoint b'C:\\\\Users\\\\I349732\\\\AppData\\\\Local\\\\Temp\\\\tfhub_modules\\\\1fb57c3ffe1a38479233ee9853ddd7a8ac8a8c47\\\\variables\\\\variables' with Embeddings_en/sharded_10\n",
      "I0402 11:35:18.331391 21712 tf_logging.py:116] Initialize variable dnn/input_from_feature_columns/input_layer/text_hub_module_embedding/module/Embeddings_en/sharded_11:0 from checkpoint b'C:\\\\Users\\\\I349732\\\\AppData\\\\Local\\\\Temp\\\\tfhub_modules\\\\1fb57c3ffe1a38479233ee9853ddd7a8ac8a8c47\\\\variables\\\\variables' with Embeddings_en/sharded_11\n",
      "I0402 11:35:18.347441 21712 tf_logging.py:116] Initialize variable dnn/input_from_feature_columns/input_layer/text_hub_module_embedding/module/Embeddings_en/sharded_12:0 from checkpoint b'C:\\\\Users\\\\I349732\\\\AppData\\\\Local\\\\Temp\\\\tfhub_modules\\\\1fb57c3ffe1a38479233ee9853ddd7a8ac8a8c47\\\\variables\\\\variables' with Embeddings_en/sharded_12\n",
      "I0402 11:35:18.360483 21712 tf_logging.py:116] Initialize variable dnn/input_from_feature_columns/input_layer/text_hub_module_embedding/module/Embeddings_en/sharded_13:0 from checkpoint b'C:\\\\Users\\\\I349732\\\\AppData\\\\Local\\\\Temp\\\\tfhub_modules\\\\1fb57c3ffe1a38479233ee9853ddd7a8ac8a8c47\\\\variables\\\\variables' with Embeddings_en/sharded_13\n",
      "I0402 11:35:18.374506 21712 tf_logging.py:116] Initialize variable dnn/input_from_feature_columns/input_layer/text_hub_module_embedding/module/Embeddings_en/sharded_14:0 from checkpoint b'C:\\\\Users\\\\I349732\\\\AppData\\\\Local\\\\Temp\\\\tfhub_modules\\\\1fb57c3ffe1a38479233ee9853ddd7a8ac8a8c47\\\\variables\\\\variables' with Embeddings_en/sharded_14\n",
      "I0402 11:35:18.385535 21712 tf_logging.py:116] Initialize variable dnn/input_from_feature_columns/input_layer/text_hub_module_embedding/module/Embeddings_en/sharded_15:0 from checkpoint b'C:\\\\Users\\\\I349732\\\\AppData\\\\Local\\\\Temp\\\\tfhub_modules\\\\1fb57c3ffe1a38479233ee9853ddd7a8ac8a8c47\\\\variables\\\\variables' with Embeddings_en/sharded_15\n",
      "I0402 11:35:18.398571 21712 tf_logging.py:116] Initialize variable dnn/input_from_feature_columns/input_layer/text_hub_module_embedding/module/Embeddings_en/sharded_16:0 from checkpoint b'C:\\\\Users\\\\I349732\\\\AppData\\\\Local\\\\Temp\\\\tfhub_modules\\\\1fb57c3ffe1a38479233ee9853ddd7a8ac8a8c47\\\\variables\\\\variables' with Embeddings_en/sharded_16\n",
      "I0402 11:35:18.410601 21712 tf_logging.py:116] Initialize variable dnn/input_from_feature_columns/input_layer/text_hub_module_embedding/module/Embeddings_en/sharded_2:0 from checkpoint b'C:\\\\Users\\\\I349732\\\\AppData\\\\Local\\\\Temp\\\\tfhub_modules\\\\1fb57c3ffe1a38479233ee9853ddd7a8ac8a8c47\\\\variables\\\\variables' with Embeddings_en/sharded_2\n",
      "I0402 11:35:18.423636 21712 tf_logging.py:116] Initialize variable dnn/input_from_feature_columns/input_layer/text_hub_module_embedding/module/Embeddings_en/sharded_3:0 from checkpoint b'C:\\\\Users\\\\I349732\\\\AppData\\\\Local\\\\Temp\\\\tfhub_modules\\\\1fb57c3ffe1a38479233ee9853ddd7a8ac8a8c47\\\\variables\\\\variables' with Embeddings_en/sharded_3\n",
      "I0402 11:35:18.434666 21712 tf_logging.py:116] Initialize variable dnn/input_from_feature_columns/input_layer/text_hub_module_embedding/module/Embeddings_en/sharded_4:0 from checkpoint b'C:\\\\Users\\\\I349732\\\\AppData\\\\Local\\\\Temp\\\\tfhub_modules\\\\1fb57c3ffe1a38479233ee9853ddd7a8ac8a8c47\\\\variables\\\\variables' with Embeddings_en/sharded_4\n",
      "I0402 11:35:18.444704 21712 tf_logging.py:116] Initialize variable dnn/input_from_feature_columns/input_layer/text_hub_module_embedding/module/Embeddings_en/sharded_5:0 from checkpoint b'C:\\\\Users\\\\I349732\\\\AppData\\\\Local\\\\Temp\\\\tfhub_modules\\\\1fb57c3ffe1a38479233ee9853ddd7a8ac8a8c47\\\\variables\\\\variables' with Embeddings_en/sharded_5\n",
      "I0402 11:35:18.459733 21712 tf_logging.py:116] Initialize variable dnn/input_from_feature_columns/input_layer/text_hub_module_embedding/module/Embeddings_en/sharded_6:0 from checkpoint b'C:\\\\Users\\\\I349732\\\\AppData\\\\Local\\\\Temp\\\\tfhub_modules\\\\1fb57c3ffe1a38479233ee9853ddd7a8ac8a8c47\\\\variables\\\\variables' with Embeddings_en/sharded_6\n",
      "I0402 11:35:18.468758 21712 tf_logging.py:116] Initialize variable dnn/input_from_feature_columns/input_layer/text_hub_module_embedding/module/Embeddings_en/sharded_7:0 from checkpoint b'C:\\\\Users\\\\I349732\\\\AppData\\\\Local\\\\Temp\\\\tfhub_modules\\\\1fb57c3ffe1a38479233ee9853ddd7a8ac8a8c47\\\\variables\\\\variables' with Embeddings_en/sharded_7\n",
      "I0402 11:35:18.482794 21712 tf_logging.py:116] Initialize variable dnn/input_from_feature_columns/input_layer/text_hub_module_embedding/module/Embeddings_en/sharded_8:0 from checkpoint b'C:\\\\Users\\\\I349732\\\\AppData\\\\Local\\\\Temp\\\\tfhub_modules\\\\1fb57c3ffe1a38479233ee9853ddd7a8ac8a8c47\\\\variables\\\\variables' with Embeddings_en/sharded_8\n",
      "I0402 11:35:18.497833 21712 tf_logging.py:116] Initialize variable dnn/input_from_feature_columns/input_layer/text_hub_module_embedding/module/Embeddings_en/sharded_9:0 from checkpoint b'C:\\\\Users\\\\I349732\\\\AppData\\\\Local\\\\Temp\\\\tfhub_modules\\\\1fb57c3ffe1a38479233ee9853ddd7a8ac8a8c47\\\\variables\\\\variables' with Embeddings_en/sharded_9\n",
      "I0402 11:35:18.508863 21712 tf_logging.py:116] Initialize variable dnn/input_from_feature_columns/input_layer/text_hub_module_embedding/module/Encoder_en/DNN/ResidualHidden_0/weights:0 from checkpoint b'C:\\\\Users\\\\I349732\\\\AppData\\\\Local\\\\Temp\\\\tfhub_modules\\\\1fb57c3ffe1a38479233ee9853ddd7a8ac8a8c47\\\\variables\\\\variables' with Encoder_en/DNN/ResidualHidden_0/weights\n",
      "I0402 11:35:18.516884 21712 tf_logging.py:116] Initialize variable dnn/input_from_feature_columns/input_layer/text_hub_module_embedding/module/Encoder_en/DNN/ResidualHidden_1/weights:0 from checkpoint b'C:\\\\Users\\\\I349732\\\\AppData\\\\Local\\\\Temp\\\\tfhub_modules\\\\1fb57c3ffe1a38479233ee9853ddd7a8ac8a8c47\\\\variables\\\\variables' with Encoder_en/DNN/ResidualHidden_1/weights\n",
      "I0402 11:35:18.528917 21712 tf_logging.py:116] Initialize variable dnn/input_from_feature_columns/input_layer/text_hub_module_embedding/module/Encoder_en/DNN/ResidualHidden_2/weights:0 from checkpoint b'C:\\\\Users\\\\I349732\\\\AppData\\\\Local\\\\Temp\\\\tfhub_modules\\\\1fb57c3ffe1a38479233ee9853ddd7a8ac8a8c47\\\\variables\\\\variables' with Encoder_en/DNN/ResidualHidden_2/weights\n",
      "I0402 11:35:18.541951 21712 tf_logging.py:116] Initialize variable dnn/input_from_feature_columns/input_layer/text_hub_module_embedding/module/Encoder_en/DNN/ResidualHidden_3/projection:0 from checkpoint b'C:\\\\Users\\\\I349732\\\\AppData\\\\Local\\\\Temp\\\\tfhub_modules\\\\1fb57c3ffe1a38479233ee9853ddd7a8ac8a8c47\\\\variables\\\\variables' with Encoder_en/DNN/ResidualHidden_3/projection\n",
      "I0402 11:35:18.553984 21712 tf_logging.py:116] Initialize variable dnn/input_from_feature_columns/input_layer/text_hub_module_embedding/module/Encoder_en/DNN/ResidualHidden_3/weights:0 from checkpoint b'C:\\\\Users\\\\I349732\\\\AppData\\\\Local\\\\Temp\\\\tfhub_modules\\\\1fb57c3ffe1a38479233ee9853ddd7a8ac8a8c47\\\\variables\\\\variables' with Encoder_en/DNN/ResidualHidden_3/weights\n",
      "I0402 11:35:18.561002 21712 tf_logging.py:116] Initialize variable dnn/input_from_feature_columns/input_layer/text_hub_module_embedding/module/SHARED_RANK_ANSWER/response_encoder_0/tanh_layer_0/bias:0 from checkpoint b'C:\\\\Users\\\\I349732\\\\AppData\\\\Local\\\\Temp\\\\tfhub_modules\\\\1fb57c3ffe1a38479233ee9853ddd7a8ac8a8c47\\\\variables\\\\variables' with SHARED_RANK_ANSWER/response_encoder_0/tanh_layer_0/bias\n",
      "I0402 11:35:18.572031 21712 tf_logging.py:116] Initialize variable dnn/input_from_feature_columns/input_layer/text_hub_module_embedding/module/SHARED_RANK_ANSWER/response_encoder_0/tanh_layer_0/weights:0 from checkpoint b'C:\\\\Users\\\\I349732\\\\AppData\\\\Local\\\\Temp\\\\tfhub_modules\\\\1fb57c3ffe1a38479233ee9853ddd7a8ac8a8c47\\\\variables\\\\variables' with SHARED_RANK_ANSWER/response_encoder_0/tanh_layer_0/weights\n"
     ]
    },
    {
     "name": "stderr",
     "output_type": "stream",
     "text": [
      "I0402 11:35:18.582058 21712 tf_logging.py:116] Initialize variable dnn/input_from_feature_columns/input_layer/text_hub_module_embedding/module/SHARED_RANK_ANSWER/response_encoder_0/tanh_layer_1/bias:0 from checkpoint b'C:\\\\Users\\\\I349732\\\\AppData\\\\Local\\\\Temp\\\\tfhub_modules\\\\1fb57c3ffe1a38479233ee9853ddd7a8ac8a8c47\\\\variables\\\\variables' with SHARED_RANK_ANSWER/response_encoder_0/tanh_layer_1/bias\n",
      "I0402 11:35:18.593088 21712 tf_logging.py:116] Initialize variable dnn/input_from_feature_columns/input_layer/text_hub_module_embedding/module/SHARED_RANK_ANSWER/response_encoder_0/tanh_layer_1/weights:0 from checkpoint b'C:\\\\Users\\\\I349732\\\\AppData\\\\Local\\\\Temp\\\\tfhub_modules\\\\1fb57c3ffe1a38479233ee9853ddd7a8ac8a8c47\\\\variables\\\\variables' with SHARED_RANK_ANSWER/response_encoder_0/tanh_layer_1/weights\n",
      "I0402 11:35:18.600106 21712 tf_logging.py:116] Initialize variable dnn/input_from_feature_columns/input_layer/text_hub_module_embedding/module/SHARED_RANK_ANSWER/response_encoder_0/tanh_layer_2/bias:0 from checkpoint b'C:\\\\Users\\\\I349732\\\\AppData\\\\Local\\\\Temp\\\\tfhub_modules\\\\1fb57c3ffe1a38479233ee9853ddd7a8ac8a8c47\\\\variables\\\\variables' with SHARED_RANK_ANSWER/response_encoder_0/tanh_layer_2/bias\n",
      "I0402 11:35:18.612138 21712 tf_logging.py:116] Initialize variable dnn/input_from_feature_columns/input_layer/text_hub_module_embedding/module/SHARED_RANK_ANSWER/response_encoder_0/tanh_layer_2/weights:0 from checkpoint b'C:\\\\Users\\\\I349732\\\\AppData\\\\Local\\\\Temp\\\\tfhub_modules\\\\1fb57c3ffe1a38479233ee9853ddd7a8ac8a8c47\\\\variables\\\\variables' with SHARED_RANK_ANSWER/response_encoder_0/tanh_layer_2/weights\n",
      "I0402 11:35:18.624169 21712 tf_logging.py:116] Initialize variable dnn/input_from_feature_columns/input_layer/text_hub_module_embedding/module/SNLI/Classifier/LinearLayer/bias:0 from checkpoint b'C:\\\\Users\\\\I349732\\\\AppData\\\\Local\\\\Temp\\\\tfhub_modules\\\\1fb57c3ffe1a38479233ee9853ddd7a8ac8a8c47\\\\variables\\\\variables' with SNLI/Classifier/LinearLayer/bias\n",
      "I0402 11:35:18.635199 21712 tf_logging.py:116] Initialize variable dnn/input_from_feature_columns/input_layer/text_hub_module_embedding/module/SNLI/Classifier/LinearLayer/weights:0 from checkpoint b'C:\\\\Users\\\\I349732\\\\AppData\\\\Local\\\\Temp\\\\tfhub_modules\\\\1fb57c3ffe1a38479233ee9853ddd7a8ac8a8c47\\\\variables\\\\variables' with SNLI/Classifier/LinearLayer/weights\n",
      "I0402 11:35:18.651241 21712 tf_logging.py:116] Initialize variable dnn/input_from_feature_columns/input_layer/text_hub_module_embedding/module/SNLI/Classifier/tanh_layer_0/bias:0 from checkpoint b'C:\\\\Users\\\\I349732\\\\AppData\\\\Local\\\\Temp\\\\tfhub_modules\\\\1fb57c3ffe1a38479233ee9853ddd7a8ac8a8c47\\\\variables\\\\variables' with SNLI/Classifier/tanh_layer_0/bias\n",
      "I0402 11:35:18.662270 21712 tf_logging.py:116] Initialize variable dnn/input_from_feature_columns/input_layer/text_hub_module_embedding/module/SNLI/Classifier/tanh_layer_0/weights:0 from checkpoint b'C:\\\\Users\\\\I349732\\\\AppData\\\\Local\\\\Temp\\\\tfhub_modules\\\\1fb57c3ffe1a38479233ee9853ddd7a8ac8a8c47\\\\variables\\\\variables' with SNLI/Classifier/tanh_layer_0/weights\n",
      "I0402 11:35:18.675305 21712 tf_logging.py:116] Initialize variable dnn/input_from_feature_columns/input_layer/text_hub_module_embedding/module/global_step:0 from checkpoint b'C:\\\\Users\\\\I349732\\\\AppData\\\\Local\\\\Temp\\\\tfhub_modules\\\\1fb57c3ffe1a38479233ee9853ddd7a8ac8a8c47\\\\variables\\\\variables' with global_step\n",
      "I0402 11:35:30.910307 21712 tf_logging.py:116] Done calling model_fn.\n",
      "I0402 11:35:31.144675 21712 tf_logging.py:116] Graph was finalized.\n",
      "I0402 11:35:31.160298 21712 tf_logging.py:116] Restoring parameters from fake_news_model\\model.ckpt-6097\n",
      "I0402 11:35:43.295651 21712 tf_logging.py:116] Running local_init_op.\n",
      "I0402 11:35:52.499178 21712 tf_logging.py:116] Done running local_init_op.\n"
     ]
    },
    {
     "name": "stdout",
     "output_type": "stream",
     "text": [
      "{'class_ids': array([0], dtype=int64), 'logistic': array([ 0.3669669], dtype=float32), 'logits': array([-0.54525113], dtype=float32), 'probabilities': array([ 0.6330331 ,  0.36696687], dtype=float32), 'classes': array([b'0'], dtype=object)}\n"
     ]
    }
   ],
   "source": [
    "print(list(results)[0])"
   ]
  },
  {
   "cell_type": "code",
   "execution_count": null,
   "metadata": {
    "collapsed": true
   },
   "outputs": [],
   "source": []
  }
 ],
 "metadata": {
  "kernelspec": {
   "display_name": "Python 3",
   "language": "python",
   "name": "python3"
  },
  "language_info": {
   "codemirror_mode": {
    "name": "ipython",
    "version": 3
   },
   "file_extension": ".py",
   "mimetype": "text/x-python",
   "name": "python",
   "nbconvert_exporter": "python",
   "pygments_lexer": "ipython3",
   "version": "3.5.4"
  }
 },
 "nbformat": 4,
 "nbformat_minor": 2
}
