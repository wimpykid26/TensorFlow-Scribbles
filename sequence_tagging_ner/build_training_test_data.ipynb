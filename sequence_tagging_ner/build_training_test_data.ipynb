{
 "cells": [
  {
   "cell_type": "code",
   "execution_count": 1,
   "metadata": {
    "collapsed": true
   },
   "outputs": [],
   "source": [
    "import os"
   ]
  },
  {
   "cell_type": "code",
   "execution_count": 44,
   "metadata": {},
   "outputs": [],
   "source": [
    "DATA_DIRECTORY = '\\data\\eng.train'\n",
    "DATA_TESTA_DIRECTORY = '\\data\\eng.testa'\n",
    "DATA_TESTB_DIRECTORY = '\\data\\eng.testb'\n",
    "TRAIN_FILENAME = '\\data\\\\train.words.txt'\n",
    "TRAIN_TAGS_FILENAME = '\\data\\\\train.tags.txt'\n",
    "TESTA_FILENAME = '\\data\\\\testa.words.txt'\n",
    "TESTA_TAGS_FILENAME = '\\data\\\\testa.tags.txt'\n",
    "TESTB_FILENAME = '\\data\\\\testb.words.txt'\n",
    "TESTB_TAGS_FILENAME = '\\data\\\\testb.tags.txt'\n",
    "SENTENCE_DELIMITER = '. . O O'"
   ]
  },
  {
   "cell_type": "code",
   "execution_count": 37,
   "metadata": {},
   "outputs": [],
   "source": [
    "if os.path.isfile(os.getcwd() + DATA_TESTB_DIRECTORY):\n",
    "    with open(os.getcwd() + DATA_TESTB_DIRECTORY) as fp:\n",
    "        line = fp.readline()\n",
    "        cnt = 1\n",
    "        outfile = open(os.getcwd() + TESTB_FILENAME, 'w')\n",
    "        sentence = ''\n",
    "        while line:\n",
    "            line = line.strip()\n",
    "            if line == SENTENCE_DELIMITER:\n",
    "                outfile.write(sentence)\n",
    "                outfile.write('\\n')\n",
    "                sentence = ''\n",
    "            else:\n",
    "                sentence = sentence + ' ' + ''.join(line.split()[:-3])\n",
    "            line = fp.readline()\n",
    "            cnt += 1\n",
    "            \n",
    "        outfile.close()\n"
   ]
  },
  {
   "cell_type": "code",
   "execution_count": 48,
   "metadata": {},
   "outputs": [],
   "source": [
    "if os.path.isfile(os.getcwd() + DATA_TESTB_DIRECTORY):\n",
    "    with open(os.getcwd() + DATA_TESTB_DIRECTORY) as fp:\n",
    "        line = fp.readline()\n",
    "        cnt = 1\n",
    "        outfile = open(os.getcwd() + TESTB_TAGS_FILENAME, 'w')\n",
    "        sentence_tags = ''\n",
    "        while line:\n",
    "            line = line.strip()\n",
    "            if line == SENTENCE_DELIMITER:\n",
    "                outfile.write(sentence_tags)\n",
    "                outfile.write('\\n')\n",
    "                sentence_tags = ''\n",
    "            else:\n",
    "                if len(line.split()) > 0:\n",
    "                    sentence_tags = sentence_tags + ' ' + ''.join(line.split()[-1])\n",
    "            line = fp.readline()\n",
    "            cnt += 1\n",
    "        outfile.close()"
   ]
  },
  {
   "cell_type": "code",
   "execution_count": null,
   "metadata": {
    "collapsed": true
   },
   "outputs": [],
   "source": []
  }
 ],
 "metadata": {
  "kernelspec": {
   "display_name": "Python 3",
   "language": "python",
   "name": "python3"
  },
  "language_info": {
   "codemirror_mode": {
    "name": "ipython",
    "version": 3
   },
   "file_extension": ".py",
   "mimetype": "text/x-python",
   "name": "python",
   "nbconvert_exporter": "python",
   "pygments_lexer": "ipython3",
   "version": "3.5.4"
  }
 },
 "nbformat": 4,
 "nbformat_minor": 2
}
